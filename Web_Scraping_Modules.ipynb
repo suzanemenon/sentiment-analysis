{
  "nbformat": 4,
  "nbformat_minor": 0,
  "metadata": {
    "colab": {
      "name": "Web Scraping Modules.ipynb",
      "provenance": [],
      "collapsed_sections": [
        "y9JUbLgD_PAs",
        "RgiSVNdb02By",
        "Kafr6BFRry0I",
        "Dea0Mdkar0q9"
      ],
      "toc_visible": true,
      "authorship_tag": "ABX9TyMcDhpMlsD/ILm56W0FahHG",
      "include_colab_link": true
    },
    "kernelspec": {
      "name": "python3",
      "display_name": "Python 3"
    }
  },
  "cells": [
    {
      "cell_type": "markdown",
      "metadata": {
        "id": "view-in-github",
        "colab_type": "text"
      },
      "source": [
        "<a href=\"https://colab.research.google.com/github/suzanemenon/sentiment-analysis/blob/master/Web_Scraping_Modules.ipynb\" target=\"_parent\"><img src=\"https://colab.research.google.com/assets/colab-badge.svg\" alt=\"Open In Colab\"/></a>"
      ]
    },
    {
      "cell_type": "markdown",
      "metadata": {
        "id": "mBcpFmkZS3v1",
        "colab_type": "text"
      },
      "source": [
        "# Imports\n"
      ]
    },
    {
      "cell_type": "code",
      "metadata": {
        "id": "z-sS3GvqWoT4",
        "colab_type": "code",
        "colab": {
          "base_uri": "https://localhost:8080/",
          "height": 182
        },
        "outputId": "2813fa86-6520-40e3-afb1-b718bd82519b"
      },
      "source": [
        "pip install GetOldTweets3"
      ],
      "execution_count": null,
      "outputs": [
        {
          "output_type": "stream",
          "text": [
            "Collecting GetOldTweets3\n",
            "  Downloading https://files.pythonhosted.org/packages/ed/f4/a00c2a7c90801abc875325bb5416ce9090ac86d06a00cc887131bd73ba45/GetOldTweets3-0.0.11-py3-none-any.whl\n",
            "Collecting pyquery>=1.2.10\n",
            "  Downloading https://files.pythonhosted.org/packages/78/43/95d42e386c61cb639d1a0b94f0c0b9f0b7d6b981ad3c043a836c8b5bc68b/pyquery-1.4.1-py2.py3-none-any.whl\n",
            "Requirement already satisfied: lxml>=3.5.0 in /usr/local/lib/python3.6/dist-packages (from GetOldTweets3) (4.2.6)\n",
            "Collecting cssselect>0.7.9\n",
            "  Downloading https://files.pythonhosted.org/packages/3b/d4/3b5c17f00cce85b9a1e6f91096e1cc8e8ede2e1be8e96b87ce1ed09e92c5/cssselect-1.1.0-py2.py3-none-any.whl\n",
            "Installing collected packages: cssselect, pyquery, GetOldTweets3\n",
            "Successfully installed GetOldTweets3-0.0.11 cssselect-1.1.0 pyquery-1.4.1\n"
          ],
          "name": "stdout"
        }
      ]
    },
    {
      "cell_type": "code",
      "metadata": {
        "id": "rl3cmZve8CHq",
        "colab_type": "code",
        "colab": {
          "base_uri": "https://localhost:8080/",
          "height": 329
        },
        "outputId": "ca89b837-79c5-4274-bb7e-48ea6c36548b"
      },
      "source": [
        "#pip install NLPyPort\n",
        "#https://github.com/jdportugal/NLPyPort\n",
        "#text = new_full_pipe(myText, options={\"lemmatizer\" : True})"
      ],
      "execution_count": null,
      "outputs": [
        {
          "output_type": "stream",
          "text": [
            "Requirement already satisfied: NLPyPort in /usr/local/lib/python3.6/dist-packages (2.2.1)\n",
            "Requirement already satisfied: sklearn in /usr/local/lib/python3.6/dist-packages (from NLPyPort) (0.0)\n",
            "Requirement already satisfied: numpy in /usr/local/lib/python3.6/dist-packages (from NLPyPort) (1.18.5)\n",
            "Requirement already satisfied: tqdm in /usr/local/lib/python3.6/dist-packages (from NLPyPort) (4.41.1)\n",
            "Requirement already satisfied: six in /usr/local/lib/python3.6/dist-packages (from NLPyPort) (1.15.0)\n",
            "Requirement already satisfied: singledispatch in /usr/local/lib/python3.6/dist-packages (from NLPyPort) (3.4.0.3)\n",
            "Requirement already satisfied: python-crfsuite in /usr/local/lib/python3.6/dist-packages (from NLPyPort) (0.9.7)\n",
            "Requirement already satisfied: pytz in /usr/local/lib/python3.6/dist-packages (from NLPyPort) (2018.9)\n",
            "Requirement already satisfied: tabulate in /usr/local/lib/python3.6/dist-packages (from NLPyPort) (0.8.7)\n",
            "Requirement already satisfied: nltk in /usr/local/lib/python3.6/dist-packages (from NLPyPort) (3.4.5)\n",
            "Requirement already satisfied: python-dateutil in /usr/local/lib/python3.6/dist-packages (from NLPyPort) (2.8.1)\n",
            "Requirement already satisfied: xmltodict in /usr/local/lib/python3.6/dist-packages (from NLPyPort) (0.12.0)\n",
            "Requirement already satisfied: pandas in /usr/local/lib/python3.6/dist-packages (from NLPyPort) (1.0.5)\n",
            "Requirement already satisfied: scipy in /usr/local/lib/python3.6/dist-packages (from NLPyPort) (1.4.1)\n",
            "Requirement already satisfied: sklearn-crfsuite in /usr/local/lib/python3.6/dist-packages (from NLPyPort) (0.3.6)\n",
            "Requirement already satisfied: scikit-learn in /usr/local/lib/python3.6/dist-packages (from NLPyPort) (0.22.2.post1)\n",
            "Requirement already satisfied: joblib>=0.11 in /usr/local/lib/python3.6/dist-packages (from scikit-learn->NLPyPort) (0.16.0)\n"
          ],
          "name": "stdout"
        }
      ]
    },
    {
      "cell_type": "code",
      "metadata": {
        "id": "g0YLU6c8_X5v",
        "colab_type": "code",
        "colab": {
          "base_uri": "https://localhost:8080/",
          "height": 201
        },
        "outputId": "6c2fb7d8-f256-4423-fd09-b13cc6899f27"
      },
      "source": [
        "pip install nltk==3.4.5"
      ],
      "execution_count": null,
      "outputs": [
        {
          "output_type": "stream",
          "text": [
            "Name: nltk\n",
            "Version: 3.4.5\n",
            "Summary: Natural Language Toolkit\n",
            "Home-page: http://nltk.org/\n",
            "Author: Steven Bird\n",
            "Author-email: stevenbird1@gmail.com\n",
            "License: Apache License, Version 2.0\n",
            "Location: /usr/local/lib/python3.6/dist-packages\n",
            "Requires: six\n",
            "Required-by: textblob, NLPyPort\n"
          ],
          "name": "stdout"
        }
      ]
    },
    {
      "cell_type": "code",
      "metadata": {
        "id": "9DkiWMg0majy",
        "colab_type": "code",
        "colab": {
          "base_uri": "https://localhost:8080/",
          "height": 182
        },
        "outputId": "bd308c5f-a80d-4d53-8e3f-f9ea55aff466"
      },
      "source": [
        "from bs4 import BeautifulSoup\n",
        "from collections import defaultdict\n",
        "from heapq import nlargest\n",
        "from matplotlib import pyplot as plt\n",
        "from nltk.corpus import stopwords\n",
        "from nltk.probability import FreqDist\n",
        "from nltk.tokenize import sent_tokenize\n",
        "from nltk.tokenize import word_tokenize\n",
        "from nltk.stem import RSLPStemmer\n",
        "from skimage import io\n",
        "from string import punctuation\n",
        "import re\n",
        "import urllib\n",
        "import json\n",
        "import hashlib\n",
        "import csv\n",
        "import pandas as pd\n",
        "import time\n",
        "from datetime import datetime\n",
        "import numpy as np\n",
        "from google.colab import files\n",
        "from google.colab import drive\n",
        "import io\n",
        "from pytz import timezone\n",
        "\n",
        "#Data Analysis\n",
        "import seaborn as sns\n",
        "\n",
        "#Data Preprocessing and Feature Engineering\n",
        "\n",
        "from nltk.corpus import floresta\n",
        "from nltk.stem.wordnet import WordNetLemmatizer\n",
        "#RSLPStemmer - https://www.nltk.org/_modules/nltk/stem/rslp.html\n",
        "from nltk.stem.rslp import RSLPStemmer\n",
        "from sklearn.feature_extraction.text import CountVectorizer, TfidfTransformer\n",
        "\n",
        "#Model Selection and Validation\n",
        "from sklearn.naive_bayes import MultinomialNB\n",
        "from sklearn.model_selection import train_test_split, cross_val_predict\n",
        "from sklearn.pipeline import Pipeline\n",
        "from sklearn.metrics import confusion_matrix, classification_report, accuracy_score\n",
        "\n",
        "#from NLPyPort.FullPipeline import *\n",
        "\n",
        "import nltk\n",
        "nltk.download('punkt')\n",
        "nltk.download('floresta')\n",
        "nltk.download('stopwords')\n",
        "nltk.download('rslp')\n",
        "\n",
        "drive.mount('/drive')\n",
        "\n",
        "#from textblob import TextBlob\n",
        "#b = TextBlob(myText)\n",
        "#print(b.correct())\n",
        "#b.detect_language()"
      ],
      "execution_count": null,
      "outputs": [
        {
          "output_type": "stream",
          "text": [
            "[nltk_data] Downloading package punkt to /root/nltk_data...\n",
            "[nltk_data]   Package punkt is already up-to-date!\n",
            "[nltk_data] Downloading package floresta to /root/nltk_data...\n",
            "[nltk_data]   Package floresta is already up-to-date!\n",
            "[nltk_data] Downloading package stopwords to /root/nltk_data...\n",
            "[nltk_data]   Package stopwords is already up-to-date!\n",
            "[nltk_data] Downloading package rslp to /root/nltk_data...\n",
            "[nltk_data]   Package rslp is already up-to-date!\n",
            "Drive already mounted at /drive; to attempt to forcibly remount, call drive.mount(\"/drive\", force_remount=True).\n"
          ],
          "name": "stdout"
        }
      ]
    },
    {
      "cell_type": "markdown",
      "metadata": {
        "id": "tNIcg2e8t3Eu",
        "colab_type": "text"
      },
      "source": [
        "# Common config"
      ]
    },
    {
      "cell_type": "code",
      "metadata": {
        "id": "9N2yAYPUtxRf",
        "colab_type": "code",
        "colab": {}
      },
      "source": [
        "query = 'covid-19'\n",
        "\n",
        "period = ['2020-02-23', '2020-08-02'] #'yyyy-mm-dd'\n",
        "#period = ['2020-02-23', '2020-02-23'] #'yyyy-mm-dd'\n",
        "\n",
        "number_of_days = len(pd.date_range(start = period[0], end = period[1]))\n",
        "\n",
        "gdrive_path = '/drive/My Drive/Colab Notebooks/TCC/'\n",
        "\n",
        "br_timezone = timezone('America/Sao_Paulo')\n",
        "\n",
        "def log_time():\n",
        "  return datetime.now().astimezone(br_timezone).strftime('%Y/%m/%d %H:%M')"
      ],
      "execution_count": null,
      "outputs": []
    },
    {
      "cell_type": "markdown",
      "metadata": {
        "id": "4KEV1Cq1B-fA",
        "colab_type": "text"
      },
      "source": [
        "#Helpers"
      ]
    },
    {
      "cell_type": "code",
      "metadata": {
        "id": "jHAeOJoItN6N",
        "colab_type": "code",
        "colab": {}
      },
      "source": [
        "def percentage(value, total):\n",
        "  pct = float(value/total) * 100\n",
        "  return str(round(pct, 2))+'%'"
      ],
      "execution_count": null,
      "outputs": []
    },
    {
      "cell_type": "markdown",
      "metadata": {
        "id": "MSYp2jt7r4-U",
        "colab_type": "text"
      },
      "source": [
        "## Hash MD5"
      ]
    },
    {
      "cell_type": "code",
      "metadata": {
        "id": "Zx83t90LrqQJ",
        "colab_type": "code",
        "colab": {}
      },
      "source": [
        "def generate_hash_md5(string):\n",
        "  hash_object = hashlib.md5(string.encode())\n",
        "  return hash_object.hexdigest()"
      ],
      "execution_count": null,
      "outputs": []
    },
    {
      "cell_type": "markdown",
      "metadata": {
        "id": "XdmjJUz9lJW3",
        "colab_type": "text"
      },
      "source": [
        "## File Handling"
      ]
    },
    {
      "cell_type": "markdown",
      "metadata": {
        "id": "IcQc3HWhorx0",
        "colab_type": "text"
      },
      "source": [
        "### CSV"
      ]
    },
    {
      "cell_type": "code",
      "metadata": {
        "id": "gdHSVv_Gou6a",
        "colab_type": "code",
        "colab": {}
      },
      "source": [
        "def save_df_to_csv_file(dataframe, filename):\n",
        "  try:\n",
        "    df = pd.read_csv(filename)\n",
        "    new_df = df.append(dataframe, ignore_index = True)\n",
        "    new_df.to_csv(filename, encoding='utf-8', index=False)\n",
        "    files.download(filename)\n",
        "  \n",
        "  except FileNotFoundError:\n",
        "    print('Creating {} file'.format(filename))\n",
        "    new_df = pd.DataFrame(dataframe)\n",
        "    new_df.to_csv(filename, encoding='utf-8', index=False)\n",
        "    files.download(filename)\n",
        "\n",
        "def save_csv_to_drive(dataframe, filename):\n",
        "  dataframe.to_csv(gdrive_path+'%s.csv'%(filename), index=False)\n",
        "\n",
        "\n",
        "def load_csv_from_local(filename):\n",
        "  uploaded = files.upload()\n",
        "  uploaded_files = []\n",
        "\n",
        "  for file in uploaded.keys():\n",
        "    uploaded_files.append(file)\n",
        "    print('Uploaded file \"{}\" | {} bytes'.format(file, len(uploaded[file])))\n",
        "\n",
        "  df = pd.read_csv(io.BytesIO(uploaded[uploaded_files[0]])) \n",
        "  df.head()\n",
        "\n",
        "def load_csv_from_drive(filename):\n",
        "  with open(gdrive_path+'/Twitter Datasets/'+filename+'.csv', 'r') as f: \n",
        "    return pd.read_csv(f, encoding = \"utf-8\", sep=';', engine='python', header=None, skiprows=1)"
      ],
      "execution_count": null,
      "outputs": []
    },
    {
      "cell_type": "markdown",
      "metadata": {
        "id": "S7DmuNkXf1Cp",
        "colab_type": "text"
      },
      "source": [
        "### TXT"
      ]
    },
    {
      "cell_type": "code",
      "metadata": {
        "id": "9RpLNUw2ebpO",
        "colab_type": "code",
        "colab": {}
      },
      "source": [
        "def save_txt_to_drive(content, filename):\n",
        "  with open(gdrive_path+filename+'.txt', 'w') as f:\n",
        "    if type(content) == list:\n",
        "      for item in content:\n",
        "        f.write(\"%s,\" % item)\n",
        "    if type(content) == str:\n",
        "      f.write(content)\n",
        "\n",
        "def load_txt_from_drive(type, filename):\n",
        "  with open(gdrive_path+filename+'.txt', 'r') as f: \n",
        "    if type == list:\n",
        "      return list(f.read().split(','))\n",
        "    if type == str:\n",
        "      return f.read()"
      ],
      "execution_count": null,
      "outputs": []
    },
    {
      "cell_type": "markdown",
      "metadata": {
        "id": "y9JUbLgD_PAs",
        "colab_type": "text"
      },
      "source": [
        "## Execution time"
      ]
    },
    {
      "cell_type": "code",
      "metadata": {
        "id": "eyzaLfyR-WX9",
        "colab_type": "code",
        "colab": {}
      },
      "source": [
        "def print_exec_start():\n",
        "  print(\"--- Started at {}\".format(log_time()))\n",
        "  return time.time()\n",
        "\n",
        "def print_exec_time(start_time):\n",
        "  execution_time_seconds = time.time() - start_time\n",
        "  execution_time_minutes = execution_time_seconds // 60\n",
        "  execution_time_hours = execution_time_minutes // 60\n",
        "\n",
        "  print(\"--- {} seconds ---\".format(execution_time_seconds))\n",
        "  print(\"--- {} minutes ---\".format(execution_time_minutes))\n",
        "  print(\"--- {} hours ---\".format(execution_time_hours))"
      ],
      "execution_count": null,
      "outputs": []
    },
    {
      "cell_type": "markdown",
      "metadata": {
        "id": "RgiSVNdb02By",
        "colab_type": "text"
      },
      "source": [
        "# Twitter Module"
      ]
    },
    {
      "cell_type": "markdown",
      "metadata": {
        "id": "hhk0NeA6e-BU",
        "colab_type": "text"
      },
      "source": [
        "## Config"
      ]
    },
    {
      "cell_type": "code",
      "metadata": {
        "id": "E3gU6M92fB5L",
        "colab_type": "code",
        "colab": {}
      },
      "source": [
        "twitter__query = query\n",
        "twitter__filename = 'twitter_dataset-%s-from_%s_to_%s.csv'%(twitter__query, period[0], period[1])\n",
        "twitter__columns = ['id', 'date', 'to', 'username', 'mentions', 'replies', 'retweets', 'favorites', 'hashtags', 'text', 'permalink']\n",
        "twitter__max_tweets_day = 500"
      ],
      "execution_count": null,
      "outputs": []
    },
    {
      "cell_type": "markdown",
      "metadata": {
        "id": "rzVCqq2f_Os-",
        "colab_type": "text"
      },
      "source": [
        "## Scrapping"
      ]
    },
    {
      "cell_type": "code",
      "metadata": {
        "id": "HGajaX7-_OTg",
        "colab_type": "code",
        "colab": {}
      },
      "source": [
        "import GetOldTweets3 as got\n",
        "\n",
        "def search_tweets():\n",
        "  tweets = []\n",
        "  tweets_list = []\n",
        "  num_lost_tweets = 0\n",
        "  num_found_tweets = 0\n",
        "\n",
        "  date_range_weeks = pd.date_range(start = period[0], end = period[1], freq='W')\n",
        "\n",
        "  i = 0\n",
        "  while True:\n",
        "    if (i + 1 >= len(date_range_weeks)): break\n",
        "\n",
        "    if i != 0: time.sleep(60*5)\n",
        "\n",
        "    date_range = pd.date_range(start = date_range_weeks[i], end = date_range_weeks[i + 1])\n",
        "    i += 1\n",
        "\n",
        "    j = 0\n",
        "    while True:\n",
        "      if (j + 1 >= len(date_range)): break\n",
        "\n",
        "      date_start = str(date_range[j].date())\n",
        "      date_end = str(date_range[j+1].date()) #not included\n",
        "      j += 1\n",
        "\n",
        "      tweetCriteria = got.manager.TweetCriteria().setQuerySearch(twitter__query)\\\n",
        "                                                .setSince(date_start)\\\n",
        "                                                .setUntil(date_end)\\\n",
        "                                                .setEmoji(\"unicode\")\\\n",
        "                                                .setMaxTweets(twitter__max_tweets_day)\\\n",
        "                                                .setLang('pt-br')\n",
        "\n",
        "      #.setTopTweets(True)\\\n",
        "\n",
        "      try:\n",
        "      # count = 0\n",
        "      # while True:\n",
        "        # if (count >= twitter__min_tweets_day): break\n",
        "      \n",
        "        print(\"[INFO][...] {} to {}\".format(date_start, date_end))\n",
        "        \n",
        "        tweets = got.manager.TweetManager.getTweets(tweetCriteria)\n",
        "        #print(\"[INFO][REPORT] {} tweets found\".format(len(tweets)))\n",
        "\n",
        "        num_found_tweets += len(tweets)\n",
        "        \n",
        "        filteredList = list(filter(lambda t : t.to == None , tweets))\n",
        "        #print(\"[INFO][REPORT] {} tweets after filter\".format(len(filteredList)))\n",
        "\n",
        "        num_lost_tweets += len(tweets) - len(filteredList)\n",
        "        #print(\"[INFO][REPORT] {} tweets lost\".format(len(tweets) - len(filteredList)))\n",
        "        # count += len(filteredList)\n",
        "        \n",
        "        for t in filteredList:\n",
        "          d = {\n",
        "            'id': t.id,\n",
        "            'username': t.username,\n",
        "            'permalink': t.permalink,\n",
        "            'date': t.date,\n",
        "            'text': t.text,\n",
        "            'retweets': t.retweets,\n",
        "            'replies': t.replies,\n",
        "            'favorites': t.favorites,\n",
        "            'mentions': t.mentions,\n",
        "            'hashtags': t.hashtags,\n",
        "            'to': t.to,\n",
        "          }\n",
        "          tweets_list.append(d)\n",
        "\n",
        "          #'geo': t.geo\n",
        "          \n",
        "      except:\n",
        "        print(\"[ERROR] Error getting tweets\")\n",
        "        pass\n",
        "\n",
        "  print(\"[INFO][REPORT] {} days | from {} to {} \".format(\n",
        "      number_of_days,\n",
        "      period[0],\n",
        "      period[1]\n",
        "  ))\n",
        "  print(\"[INFO][REPORT] {} tweets found\".format(num_found_tweets))\n",
        "  print(\"[INFO][REPORT] {} tweets collected\".format(len(tweets_list)))\n",
        "  print(\"[INFO][REPORT] {} lost | {} average per day | {}% loss\".format(\n",
        "      num_lost_tweets,\n",
        "      num_lost_tweets // number_of_days,\n",
        "      (100 * num_lost_tweets) // num_found_tweets\n",
        "  ))\n",
        "  return tweets_list"
      ],
      "execution_count": null,
      "outputs": []
    },
    {
      "cell_type": "markdown",
      "metadata": {
        "id": "eKJrCIjm_Xqg",
        "colab_type": "text"
      },
      "source": [
        "## [ ▶ ] Fetch and save\n"
      ]
    },
    {
      "cell_type": "code",
      "metadata": {
        "id": "DiJP9eV0Uy2s",
        "colab_type": "code",
        "colab": {}
      },
      "source": [
        "start_time = print_exec_start()\n",
        "\n",
        "tweets = search_tweets()\n",
        "\n",
        "print_exec_time(start_time)"
      ],
      "execution_count": null,
      "outputs": []
    },
    {
      "cell_type": "code",
      "metadata": {
        "id": "JG-Yv8gQJetL",
        "colab_type": "code",
        "colab": {
          "base_uri": "https://localhost:8080/",
          "height": 240
        },
        "outputId": "9b297f27-fc1f-49e8-8915-f196f97a372a"
      },
      "source": [
        "tweets[1024]"
      ],
      "execution_count": null,
      "outputs": [
        {
          "output_type": "execute_result",
          "data": {
            "text/plain": [
              "{'date': datetime.datetime(2020, 2, 25, 16, 36, 58, tzinfo=datetime.timezone.utc),\n",
              " 'favorites': 0,\n",
              " 'hashtags': '#coronavirus #covid19',\n",
              " 'id': '1232343743266787331',\n",
              " 'mentions': '',\n",
              " 'permalink': 'https://twitter.com/ACADEMIA15M/status/1232343743266787331',\n",
              " 'replies': 0,\n",
              " 'retweets': 0,\n",
              " 'text': 'Volo Alitalia fermo a Mauritius http://www.tiradecontacto.net/665219224/daliaroja.html Quarantena o rimpatrio Corriere della Sera http://tiradecontacto.blogspot.com/2013/09/contra-viento-y-mareas-270365-viva-la.html #coronavirus #covid19 ',\n",
              " 'to': None,\n",
              " 'username': 'ACADEMIA15M'}"
            ]
          },
          "metadata": {
            "tags": []
          },
          "execution_count": 76
        }
      ]
    },
    {
      "cell_type": "code",
      "metadata": {
        "id": "KLKeLp174S1V",
        "colab_type": "code",
        "colab": {
          "base_uri": "https://localhost:8080/",
          "height": 35
        },
        "outputId": "6e0006a5-5b25-45ed-b528-7aa82df3ce88"
      },
      "source": [
        "tweets_df = pd.DataFrame(tweets, columns=twitter__columns)\n",
        "\n",
        "tweets_df.rename(columns={\"date\": \"datetime\"}, inplace=True)\n",
        "\n",
        "dates, times = zip(*[(d.date(), d.time()) for d in tweets_df['datetime']])\n",
        "new_df = tweets_df.assign(date = dates, time = times)\n",
        "\n",
        "save_df_to_csv_file(new_df, 'twitter_dataset_covid-19_from_%s_to_%s.csv'%(period[0], period[1]))\n",
        "\n",
        "#df_tweets.replace(r'^\\s*$', np.nan, regex=True, inplace=True)"
      ],
      "execution_count": null,
      "outputs": [
        {
          "output_type": "stream",
          "text": [
            "Creating twitter_dataset_covid-19_from_2020-02-23_to_2020-08-02.csv file\n"
          ],
          "name": "stdout"
        },
        {
          "output_type": "display_data",
          "data": {
            "application/javascript": [
              "\n",
              "    async function download(id, filename, size) {\n",
              "      if (!google.colab.kernel.accessAllowed) {\n",
              "        return;\n",
              "      }\n",
              "      const div = document.createElement('div');\n",
              "      const label = document.createElement('label');\n",
              "      label.textContent = `Downloading \"${filename}\": `;\n",
              "      div.appendChild(label);\n",
              "      const progress = document.createElement('progress');\n",
              "      progress.max = size;\n",
              "      div.appendChild(progress);\n",
              "      document.body.appendChild(div);\n",
              "\n",
              "      const buffers = [];\n",
              "      let downloaded = 0;\n",
              "\n",
              "      const channel = await google.colab.kernel.comms.open(id);\n",
              "      // Send a message to notify the kernel that we're ready.\n",
              "      channel.send({})\n",
              "\n",
              "      for await (const message of channel.messages) {\n",
              "        // Send a message to notify the kernel that we're ready.\n",
              "        channel.send({})\n",
              "        if (message.buffers) {\n",
              "          for (const buffer of message.buffers) {\n",
              "            buffers.push(buffer);\n",
              "            downloaded += buffer.byteLength;\n",
              "            progress.value = downloaded;\n",
              "          }\n",
              "        }\n",
              "      }\n",
              "      const blob = new Blob(buffers, {type: 'application/binary'});\n",
              "      const a = document.createElement('a');\n",
              "      a.href = window.URL.createObjectURL(blob);\n",
              "      a.download = filename;\n",
              "      div.appendChild(a);\n",
              "      a.click();\n",
              "      div.remove();\n",
              "    }\n",
              "  "
            ],
            "text/plain": [
              "<IPython.core.display.Javascript object>"
            ]
          },
          "metadata": {
            "tags": []
          }
        },
        {
          "output_type": "display_data",
          "data": {
            "application/javascript": [
              "download(\"download_15a5cad9-389e-44f5-845d-3ec1ef9ec677\", \"twitter_dataset_covid-19_from_2020-02-23_to_2020-08-02.csv\", 19656030)"
            ],
            "text/plain": [
              "<IPython.core.display.Javascript object>"
            ]
          },
          "metadata": {
            "tags": []
          }
        }
      ]
    },
    {
      "cell_type": "markdown",
      "metadata": {
        "id": "_s7RopW0MN5E",
        "colab_type": "text"
      },
      "source": [
        "## [ ▶ ] Sample for classification"
      ]
    },
    {
      "cell_type": "code",
      "metadata": {
        "id": "xEuPTF9PH6Ho",
        "colab_type": "code",
        "colab": {
          "base_uri": "https://localhost:8080/",
          "height": 35
        },
        "outputId": "8e27330e-370e-437e-c99a-36ddba0ff1ad"
      },
      "source": [
        "df = pd.DataFrame(tweets)\n",
        "sample = df.sample(n = 1000)\n",
        "#sample = df.sample(frac = 0.1)\n",
        "len(df)"
      ],
      "execution_count": null,
      "outputs": [
        {
          "output_type": "execute_result",
          "data": {
            "text/plain": [
              "59848"
            ]
          },
          "metadata": {
            "tags": []
          },
          "execution_count": 73
        }
      ]
    },
    {
      "cell_type": "code",
      "metadata": {
        "id": "ZTvOEsyaOpFI",
        "colab_type": "code",
        "colab": {
          "base_uri": "https://localhost:8080/",
          "height": 91
        },
        "outputId": "4f315b47-35b5-49fc-d5e1-65ff7f86d9b8"
      },
      "source": [
        "df_sample = df.sample(500)\n",
        "#df_sample.head()\n",
        "print(len(df_sample))\n",
        "df_sample.columns"
      ],
      "execution_count": null,
      "outputs": [
        {
          "output_type": "stream",
          "text": [
            "500\n"
          ],
          "name": "stdout"
        },
        {
          "output_type": "execute_result",
          "data": {
            "text/plain": [
              "Index(['id', 'datetime', 'to', 'username', 'mentions', 'replies', 'retweets',\n",
              "       'favorites', 'hashtags', 'text', 'permalink', 'date', 'time'],\n",
              "      dtype='object')"
            ]
          },
          "metadata": {
            "tags": []
          },
          "execution_count": 54
        }
      ]
    },
    {
      "cell_type": "code",
      "metadata": {
        "id": "70YM1YmCQISv",
        "colab_type": "code",
        "colab": {
          "base_uri": "https://localhost:8080/",
          "height": 49
        },
        "outputId": "5ed0d4d0-a4ae-46ca-d8c5-592a16b512af"
      },
      "source": [
        "#Check duplicated rows by ID\n",
        "df_duplicate_rows = df_sample[df_sample.duplicated(['id'])]\n",
        "df_duplicate_rows"
      ],
      "execution_count": null,
      "outputs": [
        {
          "output_type": "execute_result",
          "data": {
            "text/html": [
              "<div>\n",
              "<style scoped>\n",
              "    .dataframe tbody tr th:only-of-type {\n",
              "        vertical-align: middle;\n",
              "    }\n",
              "\n",
              "    .dataframe tbody tr th {\n",
              "        vertical-align: top;\n",
              "    }\n",
              "\n",
              "    .dataframe thead th {\n",
              "        text-align: right;\n",
              "    }\n",
              "</style>\n",
              "<table border=\"1\" class=\"dataframe\">\n",
              "  <thead>\n",
              "    <tr style=\"text-align: right;\">\n",
              "      <th></th>\n",
              "      <th>id</th>\n",
              "      <th>datetime</th>\n",
              "      <th>to</th>\n",
              "      <th>username</th>\n",
              "      <th>mentions</th>\n",
              "      <th>replies</th>\n",
              "      <th>retweets</th>\n",
              "      <th>favorites</th>\n",
              "      <th>hashtags</th>\n",
              "      <th>text</th>\n",
              "      <th>permalink</th>\n",
              "      <th>date</th>\n",
              "      <th>time</th>\n",
              "    </tr>\n",
              "  </thead>\n",
              "  <tbody>\n",
              "  </tbody>\n",
              "</table>\n",
              "</div>"
            ],
            "text/plain": [
              "Empty DataFrame\n",
              "Columns: [id, datetime, to, username, mentions, replies, retweets, favorites, hashtags, text, permalink, date, time]\n",
              "Index: []"
            ]
          },
          "metadata": {
            "tags": []
          },
          "execution_count": 55
        }
      ]
    },
    {
      "cell_type": "code",
      "metadata": {
        "id": "AXmwNTceMTCX",
        "colab_type": "code",
        "colab": {
          "base_uri": "https://localhost:8080/",
          "height": 206
        },
        "outputId": "4ddaf8d3-d69e-46fe-ff7e-fd5e76e3d716"
      },
      "source": [
        "file_name = \"twitter_sample_dataset-%s-from_%s_to_%s.csv\"%(twitter__query, period[0], period[1])\n",
        "\n",
        "new_df = df_sample[['id', 'text', 'date', 'time']].copy()\n",
        "new_df['label'] = \"\"\n",
        "\n",
        "new_df.head()"
      ],
      "execution_count": null,
      "outputs": [
        {
          "output_type": "execute_result",
          "data": {
            "text/html": [
              "<div>\n",
              "<style scoped>\n",
              "    .dataframe tbody tr th:only-of-type {\n",
              "        vertical-align: middle;\n",
              "    }\n",
              "\n",
              "    .dataframe tbody tr th {\n",
              "        vertical-align: top;\n",
              "    }\n",
              "\n",
              "    .dataframe thead th {\n",
              "        text-align: right;\n",
              "    }\n",
              "</style>\n",
              "<table border=\"1\" class=\"dataframe\">\n",
              "  <thead>\n",
              "    <tr style=\"text-align: right;\">\n",
              "      <th></th>\n",
              "      <th>id</th>\n",
              "      <th>text</th>\n",
              "      <th>date</th>\n",
              "      <th>time</th>\n",
              "      <th>label</th>\n",
              "    </tr>\n",
              "  </thead>\n",
              "  <tbody>\n",
              "    <tr>\n",
              "      <th>27782</th>\n",
              "      <td>1259270409264009216</td>\n",
              "      <td>O @minsaude atualiza a situação do #coronaviru...</td>\n",
              "      <td>2020-05-09</td>\n",
              "      <td>23:53:56</td>\n",
              "      <td></td>\n",
              "    </tr>\n",
              "    <tr>\n",
              "      <th>34585</th>\n",
              "      <td>1266517320542846977</td>\n",
              "      <td>Epidemiologista francês, Didier Raoult, public...</td>\n",
              "      <td>2020-05-29</td>\n",
              "      <td>23:50:34</td>\n",
              "      <td></td>\n",
              "    </tr>\n",
              "    <tr>\n",
              "      <th>33517</th>\n",
              "      <td>1265430196930428928</td>\n",
              "      <td>De ontem pra hoje 5 pessoas muito próximas a m...</td>\n",
              "      <td>2020-05-26</td>\n",
              "      <td>23:50:44</td>\n",
              "      <td></td>\n",
              "    </tr>\n",
              "    <tr>\n",
              "      <th>44202</th>\n",
              "      <td>1275574181351079936</td>\n",
              "      <td>Covid-19: Brasil chega a 52,6 mil mortes e 1,1...</td>\n",
              "      <td>2020-06-23</td>\n",
              "      <td>23:39:18</td>\n",
              "      <td></td>\n",
              "    </tr>\n",
              "    <tr>\n",
              "      <th>17878</th>\n",
              "      <td>1249486214597693440</td>\n",
              "      <td>galera, terça feira eu e minha mãe estaremos r...</td>\n",
              "      <td>2020-04-12</td>\n",
              "      <td>23:55:02</td>\n",
              "      <td></td>\n",
              "    </tr>\n",
              "  </tbody>\n",
              "</table>\n",
              "</div>"
            ],
            "text/plain": [
              "                        id  ... label\n",
              "27782  1259270409264009216  ...      \n",
              "34585  1266517320542846977  ...      \n",
              "33517  1265430196930428928  ...      \n",
              "44202  1275574181351079936  ...      \n",
              "17878  1249486214597693440  ...      \n",
              "\n",
              "[5 rows x 5 columns]"
            ]
          },
          "metadata": {
            "tags": []
          },
          "execution_count": 56
        }
      ]
    },
    {
      "cell_type": "code",
      "metadata": {
        "id": "ERwHkysgSgqA",
        "colab_type": "code",
        "colab": {
          "base_uri": "https://localhost:8080/",
          "height": 35
        },
        "outputId": "593e53e0-6e95-4455-ae49-f5791653d42f"
      },
      "source": [
        "save_df_to_csv_file(new_df, file_name)"
      ],
      "execution_count": null,
      "outputs": [
        {
          "output_type": "stream",
          "text": [
            "Creating twitter_sample_dataset-covid-19-from_2020-02-23_to_2020-08-02.csv file\n"
          ],
          "name": "stdout"
        },
        {
          "output_type": "display_data",
          "data": {
            "application/javascript": [
              "\n",
              "    async function download(id, filename, size) {\n",
              "      if (!google.colab.kernel.accessAllowed) {\n",
              "        return;\n",
              "      }\n",
              "      const div = document.createElement('div');\n",
              "      const label = document.createElement('label');\n",
              "      label.textContent = `Downloading \"${filename}\": `;\n",
              "      div.appendChild(label);\n",
              "      const progress = document.createElement('progress');\n",
              "      progress.max = size;\n",
              "      div.appendChild(progress);\n",
              "      document.body.appendChild(div);\n",
              "\n",
              "      const buffers = [];\n",
              "      let downloaded = 0;\n",
              "\n",
              "      const channel = await google.colab.kernel.comms.open(id);\n",
              "      // Send a message to notify the kernel that we're ready.\n",
              "      channel.send({})\n",
              "\n",
              "      for await (const message of channel.messages) {\n",
              "        // Send a message to notify the kernel that we're ready.\n",
              "        channel.send({})\n",
              "        if (message.buffers) {\n",
              "          for (const buffer of message.buffers) {\n",
              "            buffers.push(buffer);\n",
              "            downloaded += buffer.byteLength;\n",
              "            progress.value = downloaded;\n",
              "          }\n",
              "        }\n",
              "      }\n",
              "      const blob = new Blob(buffers, {type: 'application/binary'});\n",
              "      const a = document.createElement('a');\n",
              "      a.href = window.URL.createObjectURL(blob);\n",
              "      a.download = filename;\n",
              "      div.appendChild(a);\n",
              "      a.click();\n",
              "      div.remove();\n",
              "    }\n",
              "  "
            ],
            "text/plain": [
              "<IPython.core.display.Javascript object>"
            ]
          },
          "metadata": {
            "tags": []
          }
        },
        {
          "output_type": "display_data",
          "data": {
            "application/javascript": [
              "download(\"download_a874629b-2724-4dd4-9d83-2b9e8f7b2746\", \"twitter_sample_dataset-covid-19-from_2020-02-23_to_2020-08-02.csv\", 103103)"
            ],
            "text/plain": [
              "<IPython.core.display.Javascript object>"
            ]
          },
          "metadata": {
            "tags": []
          }
        }
      ]
    },
    {
      "cell_type": "markdown",
      "metadata": {
        "id": "Afk-NPpzDOQ6",
        "colab_type": "text"
      },
      "source": [
        "## Data Manipulation"
      ]
    },
    {
      "cell_type": "code",
      "metadata": {
        "id": "O9VmsjaB8Id1",
        "colab_type": "code",
        "colab": {
          "base_uri": "https://localhost:8080/",
          "height": 206
        },
        "outputId": "ccc7c289-1348-4701-c0b7-f10ff15e5d2f"
      },
      "source": [
        "labeled_df = load_csv_from_drive(\"twitter_sample_labeled_dataset-covid-19-from_2020-02-23_to_2020-08-02_001\")\n",
        "labeled_df.drop([0,2,3,4,5,6,7,8,9,10,11,12,13,14,15,16,17], axis=1, inplace=True)\n",
        "labeled_df.columns = ['text','label']\n",
        "\n",
        "labeled_df.head()"
      ],
      "execution_count": null,
      "outputs": [
        {
          "output_type": "execute_result",
          "data": {
            "text/html": [
              "<div>\n",
              "<style scoped>\n",
              "    .dataframe tbody tr th:only-of-type {\n",
              "        vertical-align: middle;\n",
              "    }\n",
              "\n",
              "    .dataframe tbody tr th {\n",
              "        vertical-align: top;\n",
              "    }\n",
              "\n",
              "    .dataframe thead th {\n",
              "        text-align: right;\n",
              "    }\n",
              "</style>\n",
              "<table border=\"1\" class=\"dataframe\">\n",
              "  <thead>\n",
              "    <tr style=\"text-align: right;\">\n",
              "      <th></th>\n",
              "      <th>text</th>\n",
              "      <th>label</th>\n",
              "    </tr>\n",
              "  </thead>\n",
              "  <tbody>\n",
              "    <tr>\n",
              "      <th>0</th>\n",
              "      <td>O @minsaude atualiza a situação do #coronaviru...</td>\n",
              "      <td>POSITIVE</td>\n",
              "    </tr>\n",
              "    <tr>\n",
              "      <th>1</th>\n",
              "      <td>Epidemiologista francês, Didier Raoult, public...</td>\n",
              "      <td>POSITIVE</td>\n",
              "    </tr>\n",
              "    <tr>\n",
              "      <th>2</th>\n",
              "      <td>De ontem pra hoje 5 pessoas muito próximas a m...</td>\n",
              "      <td>NEGATIVE</td>\n",
              "    </tr>\n",
              "    <tr>\n",
              "      <th>3</th>\n",
              "      <td>Covid-19: Brasil chega a 52,6 mil mortes e 1,1...</td>\n",
              "      <td>NEGATIVE</td>\n",
              "    </tr>\n",
              "    <tr>\n",
              "      <th>4</th>\n",
              "      <td>galera, terça feira eu e minha mãe estaremos r...</td>\n",
              "      <td>POSITIVE</td>\n",
              "    </tr>\n",
              "  </tbody>\n",
              "</table>\n",
              "</div>"
            ],
            "text/plain": [
              "                                                text     label\n",
              "0  O @minsaude atualiza a situação do #coronaviru...  POSITIVE\n",
              "1  Epidemiologista francês, Didier Raoult, public...  POSITIVE\n",
              "2  De ontem pra hoje 5 pessoas muito próximas a m...  NEGATIVE\n",
              "3  Covid-19: Brasil chega a 52,6 mil mortes e 1,1...  NEGATIVE\n",
              "4  galera, terça feira eu e minha mãe estaremos r...  POSITIVE"
            ]
          },
          "metadata": {
            "tags": []
          },
          "execution_count": 269
        }
      ]
    },
    {
      "cell_type": "code",
      "metadata": {
        "id": "MgMVhoF4751D",
        "colab_type": "code",
        "colab": {
          "base_uri": "https://localhost:8080/",
          "height": 378
        },
        "outputId": "a75c18a1-84b2-40a5-870a-23ac9fc3b5d5"
      },
      "source": [
        "totals = labeled_df.label.value_counts()\n",
        "length = len(labeled_df)\n",
        "\n",
        "totals.sort_values().plot(kind='bar', color=['C7', 'C2', 'C3'])\n",
        "#sns.countplot(x='label', data=labeled_df)\n",
        "\n",
        "total_negative = totals[0]\n",
        "total_positive = totals[1]\n",
        "total_neutral = totals[2]\n",
        "\n",
        "print(\"Total: %s\"%length)\n",
        "print(\"Negative: %s\"%percentage(total_negative, length))\n",
        "print(\"Positive: %s\"%percentage(total_positive, length))\n",
        "print(\"Neutral: %s\"%percentage(total_neutral, length))"
      ],
      "execution_count": null,
      "outputs": [
        {
          "output_type": "stream",
          "text": [
            "Total: 500\n",
            "Negative: 55.2%\n",
            "Positive: 30.4%\n",
            "Neutral: 14.4%\n"
          ],
          "name": "stdout"
        },
        {
          "output_type": "display_data",
          "data": {
            "image/png": "[encoded data removed]",
            "text/plain": [
              "<Figure size 432x288 with 1 Axes>"
            ]
          },
          "metadata": {
            "tags": [],
            "needs_background": "light"
          }
        }
      ]
    },
    {
      "cell_type": "markdown",
      "metadata": {
        "id": "v2H0qQPyLVOC",
        "colab_type": "text"
      },
      "source": [
        "## Cleaning"
      ]
    },
    {
      "cell_type": "code",
      "metadata": {
        "id": "hRTrq6CSLng0",
        "colab_type": "code",
        "colab": {}
      },
      "source": [
        "#FILTERING\n",
        "def filtering(text):\n",
        "  filtered_text = re.sub(r'(?:\\#|@|https?\\://)\\S+', '', text)\n",
        "  return filtered_text.lower()\n",
        "\n",
        "#TOKENIZER\n",
        "def tokenizer(text):\n",
        "  return word_tokenize(text)\n",
        "\n",
        "#NLTK STOPWORDS AND PUNCTUATION\n",
        "def remove_stopwords(tokens):\n",
        "  stopwords_list = set(stopwords.words('portuguese') + list(punctuation))\n",
        "  words = [word for word in tokens if word not in stopwords_list]\n",
        "  return [t for t in words if re.match(r'[A-Za-z]', t)]\n",
        "\n",
        "#NLTK STEMMING FOR PORTUGUESE (RSLPStemmer)\n",
        "def stemming(tokens):\n",
        "  return [RSLPStemmer().stem(t) for t in tokens]\n",
        "\n",
        "def cleaning(text):\n",
        "  clean_text = ''\n",
        "  clean_text = filtering(text)\n",
        "  clean_text = tokenizer(clean_text)\n",
        "  return \" \".join(remove_stopwords(clean_text))\n",
        "  #clean_text = remove_stopwords(clean_text)\n",
        "  #return \" \".join(stemming(clean_text))\n",
        "  \n",
        "\n",
        "def drop_duplicates_and_na(df):\n",
        "  return df.apply(tuple, 1).drop_duplicates().apply(list).to_frame()\n",
        "  #return new_df[new_df[column].map(lambda d: len(d)) > 0]\n"
      ],
      "execution_count": null,
      "outputs": []
    },
    {
      "cell_type": "markdown",
      "metadata": {
        "id": "FyNuiaVQS8EF",
        "colab_type": "text"
      },
      "source": [
        "## Data split (Train and Test)"
      ]
    },
    {
      "cell_type": "code",
      "metadata": {
        "id": "0xJT5K2CpRkV",
        "colab_type": "code",
        "colab": {
          "base_uri": "https://localhost:8080/",
          "height": 472
        },
        "outputId": "efdab7f0-266f-4ac1-a3fb-e2466a45b123"
      },
      "source": [
        "text_train, text_test, label_train, label_test = train_test_split(labeled_df['text'].values, labeled_df['label'].values, test_size=0.3)\n",
        "\n",
        "print(text_train[:5])\n",
        "print(type(text_train))\n",
        "print('Train Dataset size: ', len(text_train))\n",
        "pd.value_counts(label_train).plot.bar()"
      ],
      "execution_count": null,
      "outputs": [
        {
          "output_type": "stream",
          "text": [
            "['Aí gente eu tô com muito medo minha irmã vai ganhar baby em pleno surto do covid-19'\n",
            " 'Conferência Episcopal recomenda comunhão na mão e omissão do gesto da paz nas missas: A Conferência Episcopal Portuguesa (CEP) recomendou hoje que, face ao surto de Covid-19, os fiéis recebam a comunhão na mão e que se omita, enquanto continuar a… '\n",
            " 'Brasil ultrapassa 74 mil óbitos em decorrência do Covid-19 '\n",
            " 'META DA QUARENTENA: chegar até o final dela sem mandar ninguém tomar no cu. #quarentena #COVID19 #FiqueEmCasa'\n",
            " 'Senado aprova indenização a profissionais da saúde incapacitados pela covid-19 https://www.saomateusnews.com.br/politica/senado-aprova-indenizacao-a-profissionais-da-saude-incapacitados-pela-covid-19/']\n",
            "<class 'numpy.ndarray'>\n",
            "Train Dataset size:  350\n"
          ],
          "name": "stdout"
        },
        {
          "output_type": "execute_result",
          "data": {
            "text/plain": [
              "<matplotlib.axes._subplots.AxesSubplot at 0x7f243810f0f0>"
            ]
          },
          "metadata": {
            "tags": []
          },
          "execution_count": 348
        },
        {
          "output_type": "display_data",
          "data": {
            "image/png": "[encoded data removed]",
            "text/plain": [
              "<Figure size 432x288 with 1 Axes>"
            ]
          },
          "metadata": {
            "tags": [],
            "needs_background": "light"
          }
        }
      ]
    },
    {
      "cell_type": "code",
      "metadata": {
        "id": "VupbsziNBPVI",
        "colab_type": "code",
        "colab": {
          "base_uri": "https://localhost:8080/",
          "height": 472
        },
        "outputId": "6ce4005a-66b3-4bc1-c2c9-109bee4c483d"
      },
      "source": [
        "print(text_test[:5])\n",
        "print(type(text_test))\n",
        "print('Test Dataset size: ', len(text_test))\n",
        "\n",
        "pd.value_counts(label_test).plot.bar()"
      ],
      "execution_count": null,
      "outputs": [
        {
          "output_type": "stream",
          "text": [
            "['Eu já pressionei os parlamentares a votarem a favor da Lei COVID-19. Clique aqui para pressionar também e compartilhe nas suas redes. #maisdoquepalmas'\n",
            " 'Admiro muito o jeito do r7 apresentar o jornal mas tive uma informação da UOL e da Band que sobe para 30 casos confirmados no Brasil de Covid19, qual a real quantidade de infectados. Aguardo retorno...'\n",
            " 'Quero testar um negócio daqui uns dias. Você conhece pessoalmente alguém que esteja ou foi infectado por covid19?'\n",
            " 'De acordo com a JN são 8000 mortos de COVID-19 no Brasil, o pico da epidemia não chegou e o inverno no Rio Grande está por vir... Ainda bem que é só uma gripezinha. ?????????? #vaipassar'\n",
            " 'COVID-19: usuários do Twitter protestam por terem auxílio emergencial negado ']\n",
            "<class 'numpy.ndarray'>\n",
            "Test Dataset size:  150\n"
          ],
          "name": "stdout"
        },
        {
          "output_type": "execute_result",
          "data": {
            "text/plain": [
              "<matplotlib.axes._subplots.AxesSubplot at 0x7f2438029198>"
            ]
          },
          "metadata": {
            "tags": []
          },
          "execution_count": 349
        },
        {
          "output_type": "display_data",
          "data": {
            "image/png": "[encoded data removed]",
            "text/plain": [
              "<Figure size 432x288 with 1 Axes>"
            ]
          },
          "metadata": {
            "tags": [],
            "needs_background": "light"
          }
        }
      ]
    },
    {
      "cell_type": "markdown",
      "metadata": {
        "id": "ROKo3D9Gijjp",
        "colab_type": "text"
      },
      "source": [
        "## Pipeline"
      ]
    },
    {
      "cell_type": "markdown",
      "metadata": {
        "id": "tQvQ_Ancce5Z",
        "colab_type": "text"
      },
      "source": [
        "### Model 1"
      ]
    },
    {
      "cell_type": "code",
      "metadata": {
        "id": "T9qCn6kHakvO",
        "colab_type": "code",
        "colab": {
          "base_uri": "https://localhost:8080/",
          "height": 221
        },
        "outputId": "3c186714-8db1-4b83-e7ed-72d2e5c448f6"
      },
      "source": [
        "[cleaning(t) for t in text_train][:10]"
      ],
      "execution_count": null,
      "outputs": [
        {
          "output_type": "execute_result",
          "data": {
            "text/plain": [
              "['aí gente tô medo irmã vai ganhar baby pleno surto covid-19',\n",
              " 'conferência episcopal recomenda comunhão mão omissão gesto paz missas conferência episcopal portuguesa cep recomendou hoje face surto covid-19 fiéis recebam comunhão mão omita enquanto continuar a…',\n",
              " 'brasil ultrapassa mil decorrência covid-19',\n",
              " 'meta quarentena chegar final mandar ninguém tomar cu',\n",
              " 'senado aprova indenização profissionais saúde incapacitados covid-19',\n",
              " 'pessoas morreram horas covid19 bem-vindos normalidade brasil tão bem cuidado governo bolsonaro',\n",
              " 'butantan oferece testagem gratuita covid-19 capital paulista canal gama',\n",
              " 'todo mundo torce pra ache rápido medicamento vacina covid-19 atenção milagres existem caminho ainda longo',\n",
              " 'dica valiosa enfermeiras guerra contra covid-19',\n",
              " 'estado bahia confirmou mortes hoje quarta-feira mortes estado brasil covid-19']"
            ]
          },
          "metadata": {
            "tags": []
          },
          "execution_count": 379
        }
      ]
    },
    {
      "cell_type": "code",
      "metadata": {
        "id": "qwBY0eWKBhHj",
        "colab_type": "code",
        "colab": {
          "base_uri": "https://localhost:8080/",
          "height": 274
        },
        "outputId": "768e203e-c64e-427a-c0fc-eb741526ef75"
      },
      "source": [
        "#CountVectorizer(analyzer=cleaning, tokenizer=word_tokenize, ngram_range = (1, 2))\n",
        "#('tfidf', TfidfTransformer()),\n",
        "\n",
        "pipeline = Pipeline([\n",
        "    ('Bag Of Words', CountVectorizer(analyzer=cleaning)),\n",
        "    ('MultinomialNB', MultinomialNB()),\n",
        "])\n",
        "\n",
        "pipeline.fit(text_train, label_train)"
      ],
      "execution_count": null,
      "outputs": [
        {
          "output_type": "execute_result",
          "data": {
            "text/plain": [
              "Pipeline(memory=None,\n",
              "         steps=[('Bag Of Words',\n",
              "                 CountVectorizer(analyzer=<function cleaning at 0x7f24381042f0>,\n",
              "                                 binary=False, decode_error='strict',\n",
              "                                 dtype=<class 'numpy.int64'>, encoding='utf-8',\n",
              "                                 input='content', lowercase=True, max_df=1.0,\n",
              "                                 max_features=None, min_df=1,\n",
              "                                 ngram_range=(1, 1), preprocessor=None,\n",
              "                                 stop_words=None, strip_accents=None,\n",
              "                                 token_pattern='(?u)\\\\b\\\\w\\\\w+\\\\b',\n",
              "                                 tokenizer=None, vocabulary=None)),\n",
              "                ('MultinomialNB',\n",
              "                 MultinomialNB(alpha=1.0, class_prior=None, fit_prior=True))],\n",
              "         verbose=False)"
            ]
          },
          "metadata": {
            "tags": []
          },
          "execution_count": 380
        }
      ]
    },
    {
      "cell_type": "code",
      "metadata": {
        "id": "z0ig-9nvNLDv",
        "colab_type": "code",
        "colab": {}
      },
      "source": [
        "result = cross_val_predict(pipeline, text_test, label_test, cv=10)"
      ],
      "execution_count": null,
      "outputs": []
    },
    {
      "cell_type": "code",
      "metadata": {
        "id": "bWzKF-HHG3Pr",
        "colab_type": "code",
        "colab": {
          "base_uri": "https://localhost:8080/",
          "height": 366
        },
        "outputId": "337cd62a-f72d-45d0-9d72-7940d90b4f2f"
      },
      "source": [
        "print(\"Accuracy: \", accuracy_score(label_test, result))\n",
        "print()\n",
        "print(classification_report(label_test, result))\n",
        "print()\n",
        "print(pd.crosstab(label_test, result, rownames=['x'], colnames=['y'], margins=True))"
      ],
      "execution_count": null,
      "outputs": [
        {
          "output_type": "stream",
          "text": [
            "Accuracy:  0.5866666666666667\n",
            "\n",
            "              precision    recall  f1-score   support\n",
            "\n",
            "    NEGATIVE       0.65      0.76      0.70        86\n",
            "     NEUTRAL       0.14      0.06      0.08        18\n",
            "    POSITIVE       0.51      0.48      0.49        46\n",
            "\n",
            "    accuracy                           0.59       150\n",
            "   macro avg       0.43      0.43      0.42       150\n",
            "weighted avg       0.55      0.59      0.56       150\n",
            "\n",
            "\n",
            "y         NEGATIVE  NEUTRAL  POSITIVE  All\n",
            "x                                         \n",
            "NEGATIVE        65        5        16   86\n",
            "NEUTRAL         12        1         5   18\n",
            "POSITIVE        23        1        22   46\n",
            "All            100        7        43  150\n"
          ],
          "name": "stdout"
        }
      ]
    },
    {
      "cell_type": "markdown",
      "metadata": {
        "id": "LXmpNkHNaaTe",
        "colab_type": "text"
      },
      "source": [
        "### Model 2"
      ]
    },
    {
      "cell_type": "code",
      "metadata": {
        "id": "dMfhJeFJaZYM",
        "colab_type": "code",
        "colab": {
          "base_uri": "https://localhost:8080/",
          "height": 261
        },
        "outputId": "c63d406f-266f-4799-a677-142d479e8526"
      },
      "source": [
        "vectorizer = CountVectorizer(analyzer=cleaning)\n",
        "train_freq = vectorizer.fit_transform(text_train)\n",
        "print(type(train_freq))\n",
        "print(train_freq.shape)\n",
        "\n",
        "test_freq = vectorizer.transform(text_test)\n",
        "\n",
        "model = MultinomialNB()\n",
        "model.fit(train_freq, label_train)\n",
        "\n",
        "predicted = model.predict(test_freq)\n",
        "print(\"Accuracy:\", accuracy_score(label_test, predicted))\n",
        "\n",
        "results = []\n",
        "for t, c in zip(text_test, model.predict(test_freq)):\n",
        "  results.append([t, c])\n",
        "\n",
        "pd.set_option('max_colwidth', 150)\n",
        "df = pd.DataFrame(results, columns = ['text', 'label'])\n",
        "df[:5]\n",
        "\n"
      ],
      "execution_count": null,
      "outputs": [
        {
          "output_type": "stream",
          "text": [
            "<class 'scipy.sparse.csr.csr_matrix'>\n",
            "(350, 51)\n",
            "Accuracy: 0.5933333333333334\n"
          ],
          "name": "stdout"
        },
        {
          "output_type": "execute_result",
          "data": {
            "text/html": [
              "<div>\n",
              "<style scoped>\n",
              "    .dataframe tbody tr th:only-of-type {\n",
              "        vertical-align: middle;\n",
              "    }\n",
              "\n",
              "    .dataframe tbody tr th {\n",
              "        vertical-align: top;\n",
              "    }\n",
              "\n",
              "    .dataframe thead th {\n",
              "        text-align: right;\n",
              "    }\n",
              "</style>\n",
              "<table border=\"1\" class=\"dataframe\">\n",
              "  <thead>\n",
              "    <tr style=\"text-align: right;\">\n",
              "      <th></th>\n",
              "      <th>text</th>\n",
              "      <th>label</th>\n",
              "    </tr>\n",
              "  </thead>\n",
              "  <tbody>\n",
              "    <tr>\n",
              "      <th>0</th>\n",
              "      <td>Eu já pressionei os parlamentares a votarem a favor da Lei COVID-19. Clique aqui para pressionar também e compartilhe nas suas redes. #maisdoquepa...</td>\n",
              "      <td>NEGATIVE</td>\n",
              "    </tr>\n",
              "    <tr>\n",
              "      <th>1</th>\n",
              "      <td>Admiro muito o jeito do r7 apresentar o jornal mas tive uma informação da UOL e da Band que sobe para 30 casos confirmados no Brasil de Covid19, q...</td>\n",
              "      <td>POSITIVE</td>\n",
              "    </tr>\n",
              "    <tr>\n",
              "      <th>2</th>\n",
              "      <td>Quero testar um negócio daqui uns dias. Você conhece pessoalmente alguém que esteja ou foi infectado por covid19?</td>\n",
              "      <td>NEGATIVE</td>\n",
              "    </tr>\n",
              "    <tr>\n",
              "      <th>3</th>\n",
              "      <td>De acordo com a JN são 8000 mortos de COVID-19 no Brasil, o pico da epidemia não chegou e o inverno no Rio Grande está por vir... Ainda bem que é ...</td>\n",
              "      <td>NEGATIVE</td>\n",
              "    </tr>\n",
              "    <tr>\n",
              "      <th>4</th>\n",
              "      <td>COVID-19: usuários do Twitter protestam por terem auxílio emergencial negado</td>\n",
              "      <td>NEUTRAL</td>\n",
              "    </tr>\n",
              "  </tbody>\n",
              "</table>\n",
              "</div>"
            ],
            "text/plain": [
              "                                                                                                                                                    text     label\n",
              "0  Eu já pressionei os parlamentares a votarem a favor da Lei COVID-19. Clique aqui para pressionar também e compartilhe nas suas redes. #maisdoquepa...  NEGATIVE\n",
              "1  Admiro muito o jeito do r7 apresentar o jornal mas tive uma informação da UOL e da Band que sobe para 30 casos confirmados no Brasil de Covid19, q...  POSITIVE\n",
              "2                                      Quero testar um negócio daqui uns dias. Você conhece pessoalmente alguém que esteja ou foi infectado por covid19?  NEGATIVE\n",
              "3  De acordo com a JN são 8000 mortos de COVID-19 no Brasil, o pico da epidemia não chegou e o inverno no Rio Grande está por vir... Ainda bem que é ...  NEGATIVE\n",
              "4                                                                          COVID-19: usuários do Twitter protestam por terem auxílio emergencial negado    NEUTRAL"
            ]
          },
          "metadata": {
            "tags": []
          },
          "execution_count": 403
        }
      ]
    },
    {
      "cell_type": "markdown",
      "metadata": {
        "id": "yzITojzEJDEp",
        "colab_type": "text"
      },
      "source": [
        "## Filters"
      ]
    },
    {
      "cell_type": "markdown",
      "metadata": {
        "id": "Qr3NP98WHg0P",
        "colab_type": "text"
      },
      "source": [
        "### Hashtags frequency"
      ]
    },
    {
      "cell_type": "code",
      "metadata": {
        "id": "Z4yItgxRJHB1",
        "colab_type": "code",
        "colab": {
          "base_uri": "https://localhost:8080/",
          "height": 467
        },
        "outputId": "105dae97-c1c0-4f4c-9abf-c763972dffb5"
      },
      "source": [
        "def twitter_hastag():\n",
        "  hashtags = filter(lambda x: x != \"\", df['hashtags'])\n",
        "  hashtags = ' '.join(list(hashtags)).split(' ')\n",
        "\n",
        "  hashtag_frequency = FreqDist(hashtags)\n",
        "\n",
        "  print(hashtag_frequency.pprint(10))\n",
        "  print()\n",
        "  hashtag_frequency.plot(10, title=\"Hashtags for \\\"%s\\\" between %s - %s\"%(twitter__query, period[0], period[1]))\n",
        "\n",
        "twitter_hastag()"
      ],
      "execution_count": null,
      "outputs": [
        {
          "output_type": "stream",
          "text": [
            "FreqDist({'#COVID19': 4624, '#covid19': 2317, '#coronavirus': 2190, '#Covid19': 1799, '#Covid_19': 1662, '#FiqueEmCasa': 1056, '#coronavirusbrasil': 803, '#coronav': 772, '#coronavirusnobrasil': 635, '#Coronav': 604, ...})\n",
            "None\n",
            "\n"
          ],
          "name": "stdout"
        },
        {
          "output_type": "display_data",
          "data": {
            "image/png": "[encoded data removed]",
            "text/plain": [
              "<Figure size 432x288 with 1 Axes>"
            ]
          },
          "metadata": {
            "tags": [],
            "needs_background": "light"
          }
        }
      ]
    },
    {
      "cell_type": "markdown",
      "metadata": {
        "id": "qAEU2YVyUuLr",
        "colab_type": "text"
      },
      "source": [
        "### Mentions"
      ]
    },
    {
      "cell_type": "code",
      "metadata": {
        "id": "fSo14KUkUvqo",
        "colab_type": "code",
        "colab": {
          "base_uri": "https://localhost:8080/",
          "height": 441
        },
        "outputId": "bb2cd40e-a2e5-44ba-8796-24ae18f9a5ef"
      },
      "source": [
        "def twitter_mentions():\n",
        "  mentions = filter(lambda x: x != \"\", df['mentions'])\n",
        "  mentions = ' '.join(list(mentions)).split(' ')\n",
        "\n",
        "  mentions_frequency = FreqDist(mentions)\n",
        "\n",
        "  print(mentions_frequency.pprint(10))\n",
        "  print()\n",
        "  mentions_frequency.plot(10, title=\"Mentions for \\\"%s\\\" between %s - %s\"%(twitter__query, period[0], period[1]))\n",
        "\n",
        "twitter_mentions()"
      ],
      "execution_count": null,
      "outputs": [
        {
          "output_type": "stream",
          "text": [
            "FreqDist({'@jairbolsonaro': 621, '@YouTube': 425, '@UOL': 399, '@UOLNoticias': 338, '@minsaude': 328, '@jornalnacional': 182, '@change_br': 136, '@RodrigoMaia': 98, '@portalR7': 94, '@lhmandetta': 93, ...})\n",
            "None\n",
            "\n"
          ],
          "name": "stdout"
        },
        {
          "output_type": "display_data",
          "data": {
            "image/png": "[encoded data removed]",
            "text/plain": [
              "<Figure size 432x288 with 1 Axes>"
            ]
          },
          "metadata": {
            "tags": [],
            "needs_background": "light"
          }
        }
      ]
    },
    {
      "cell_type": "markdown",
      "metadata": {
        "id": "j5-3qaxkJNrd",
        "colab_type": "text"
      },
      "source": [
        "### Word Count"
      ]
    },
    {
      "cell_type": "code",
      "metadata": {
        "id": "eJTRjAU4JPuH",
        "colab_type": "code",
        "colab": {
          "base_uri": "https://localhost:8080/",
          "height": 403
        },
        "outputId": "8249c7e6-8e16-4d2c-edb4-e5bf32ba70e7"
      },
      "source": [
        "def twitter_wordcount():\n",
        "  text_list = filter(lambda x: x != \"\", sample['text'])\n",
        "  text_list = ' '.join(list(text_list)).split(' ')\n",
        "\n",
        "  clean_text = []\n",
        "  for text in text_list:\n",
        "    clean_text += remove_stopwords(text)\n",
        "\n",
        "  word_frequency = FreqDist(clean_text)\n",
        "\n",
        "  print(word_frequency.pprint(25))\n",
        "  print()\n",
        "  word_frequency.plot(10, title=\"Words for \\\"%s\\\" between %s - %s\"%(twitter__query, period[0], period[1]))\n",
        "\n",
        "twitter_wordcount()"
      ],
      "execution_count": null,
      "outputs": [
        {
          "output_type": "stream",
          "text": [
            "FreqDist({'covid-19': 718, 'covid19': 224, 'https': 196, 'casos': 182, 'brasil': 169, 'mortes': 131, 'saúde': 71, 'mil': 68, 'covid': 65, 'sobre': 62, 'coronavírus': 61, 'pandemia': 59, 'coronavirus': 58, 'estado': 57, 'contra': 57, 'via': 57, 'http': 52, 'bolsonaro': 51, 'confirmados': 51, 'dia': 49, 'hoje': 47, 'pra': 46, 'mundo': 45, 'mortos': 44, 'pessoas': 43, ...})\n",
            "None\n",
            "\n"
          ],
          "name": "stdout"
        },
        {
          "output_type": "display_data",
          "data": {
            "image/png": "[encoded data removed]",
            "text/plain": [
              "<Figure size 432x288 with 1 Axes>"
            ]
          },
          "metadata": {
            "tags": [],
            "needs_background": "light"
          }
        }
      ]
    },
    {
      "cell_type": "markdown",
      "metadata": {
        "id": "CUg4LsRRqHeW",
        "colab_type": "text"
      },
      "source": [
        "# News Module"
      ]
    },
    {
      "cell_type": "markdown",
      "metadata": {
        "id": "nsE0jFaP2Qig",
        "colab_type": "text"
      },
      "source": [
        "## G1/Globo"
      ]
    },
    {
      "cell_type": "markdown",
      "metadata": {
        "id": "Zq11HgqbqOwo",
        "colab_type": "text"
      },
      "source": [
        "### Config"
      ]
    },
    {
      "cell_type": "code",
      "metadata": {
        "id": "CL8sgv1TqKpz",
        "colab_type": "code",
        "colab": {}
      },
      "source": [
        "news__query = query\n",
        "min_results_day = 20\n",
        "\n",
        "#source urls\n",
        "source_search_base_url = 'https://g1.globo.com/busca/?'\n",
        "web_archive_search_base_url = 'https://web.archive.org/web/'\n",
        "\n",
        "#selectors\n",
        "result_href_selector = 'div[class*=\"widget--info__text-container\"] > a[href^=\"//g1.globo.com/busca/\"]'\n",
        "\n",
        "title_selector = 'h1[class*=\"content-head__title\"]'\n",
        "subtitle_selector = 'div[class*=\"medium-centered subtitle\"]'\n",
        "content_selector = 'p[class*=\"content-text__container\"]'\n",
        "date_selector = 'p[class*=\"content-publication-data__updated\"] > time'\n",
        "from_selector = 'p[class*=\"content-publication-data__from\"]'\n",
        "author_selector = 'p[class*=\"top__signature__text__author-name\"]'\n",
        "blockquote_content_selector = 'blockquote[class*=\"content-blockquote\"]'\n",
        "media_description_selector = 'p[class*=\"content-media__description\"]'\n",
        "\n",
        "#regex rules\n",
        "regex_rule_1 = '(http[s]?:\\/\\/g1.globo.com)+[^\\s([\"<,>]*\\.[^\\s[\",><]*'\n",
        "regex_rule_2 = '\\/video|ao-vivo\\/'\n",
        "\n",
        "date_regex = '\\d{4}(\\/)(((0)[0-9])|((1)[0-2]))(\\/)([0-2][0-9]|(3)[0-1])'\n",
        "\n",
        "news__filename = 'news_g1_dataset-%s-from_%s_to_%s'%(news__query, period[0], period[1])\n",
        "news__columns = ['id', 'date', 'time', 'title', 'subtitle', 'url', 'text']"
      ],
      "execution_count": null,
      "outputs": []
    },
    {
      "cell_type": "markdown",
      "metadata": {
        "id": "q6TYzEZOsNJX",
        "colab_type": "text"
      },
      "source": [
        "### Scraping"
      ]
    },
    {
      "cell_type": "code",
      "metadata": {
        "id": "TVosLbg1sPNp",
        "colab_type": "code",
        "colab": {}
      },
      "source": [
        "def parse_urls_from(content):\n",
        "  soup = BeautifulSoup(content)\n",
        "  hrefs = soup.select(result_href_selector)\n",
        "  \n",
        "  urls = []\n",
        "\n",
        "  for hr in hrefs:\n",
        "      href = hr['href']\n",
        "      encoded_href = href.split('&')[3][2:]\n",
        "      decoded_href = urllib.parse.unquote(encoded_href)\n",
        "\n",
        "      rule_1 = re.search(regex_rule_1, decoded_href)\n",
        "      rule_2 = re.search(regex_rule_2, decoded_href)\n",
        "\n",
        "      if rule_1 and not rule_2:\n",
        "          urls.append(decoded_href)\n",
        "  \n",
        "  return urls\n",
        "\n",
        "def results_by_page():\n",
        "  species = \"not%C3%ADcias\"\n",
        "  results = []\n",
        "  # date_range_weeks = pd.date_range(start = period[0], end = period[1], freq='W')\n",
        "\n",
        "  # i = 0\n",
        "  # while True:\n",
        "    # if (i + 1 >= len(date_range_weeks)): break\n",
        "\n",
        "    # date_range = pd.date_range(start = date_range_weeks[i], end = date_range_weeks[i + 1])\n",
        "  date_range = pd.date_range(start = period[0], end = period[1])\n",
        "    # i += 1\n",
        "\n",
        "  j = 0\n",
        "  while True:\n",
        "    if (j + 1 > len(date_range)): break\n",
        "\n",
        "    date_start = str(date_range[j].date())\n",
        "    #date_end = str(date_range[j+1].date())\n",
        "    date_end = str(date_range[j].date())\n",
        "    \n",
        "    j += 1\n",
        "\n",
        "    #for page_n in range(1, 5):\n",
        "    for page_n in range(1, 2):\n",
        "      params = 'https://g1.globo.com/busca/?q=%s&page=%s&order=relevant&from=%s&to=%s&species=%s'%(\n",
        "          news__query,\n",
        "          page_n,\n",
        "          date_start+\"T00%3A00%3A00-0300\",\n",
        "          date_end+\"T23%3A59%3A59-0300\",\n",
        "          species\n",
        "      )\n",
        "      #print(\"[INFO][...] {} | page {}\".format(date_start, page_n))\n",
        "      #print(\"[INFO][...] {}\".format(params))\n",
        "      \n",
        "      try:\n",
        "        response = urllib.request.urlopen(params)\n",
        "        content = response.read().decode('utf-8', 'ignore')\n",
        "        page_results = parse_urls_from(content)\n",
        "        results += page_results\n",
        "        #print(\"[INFO][...] {} results\".format(len(page_results)))\n",
        "        \n",
        "      except Exception as e:\n",
        "        print(e)\n",
        "\n",
        "  return results\n",
        "\n",
        "def bulk_results():\n",
        "  results = []\n",
        "  \n",
        "  new_results = results_by_page()\n",
        "  #if (len(new_results) == 0 or len(results) >= min_results_day): break\n",
        "  results += new_results\n",
        "\n",
        "  print(\"[INFO][...] {} news found\".format(len(results)))\n",
        "  return results"
      ],
      "execution_count": null,
      "outputs": []
    },
    {
      "cell_type": "markdown",
      "metadata": {
        "id": "8LyQmSzEsXji",
        "colab_type": "text"
      },
      "source": [
        "### Wayback Machine"
      ]
    },
    {
      "cell_type": "code",
      "metadata": {
        "id": "ACBde9qksZyP",
        "colab_type": "code",
        "colab": {}
      },
      "source": [
        "def get_content_from(url):\n",
        "  content = ''\n",
        "  try:\n",
        "    request_url = 'https://web.archive.org/web/%s'%(url)\n",
        "    #print('[Original] %s'%url)\n",
        "    #print('[Archive] %s'%request_url)\n",
        "    response = urllib.request.urlopen(request_url)\n",
        "    content = response.read().decode('utf-8', 'ignore')\n",
        "  except Exception as e:\n",
        "    print(\"[ERROR][{}] {}\".format(log_time(), e))\n",
        "    print(e)\n",
        "  \n",
        "  return content"
      ],
      "execution_count": null,
      "outputs": []
    },
    {
      "cell_type": "markdown",
      "metadata": {
        "id": "fF1L0Btb7cH2",
        "colab_type": "text"
      },
      "source": [
        "### Parse Content"
      ]
    },
    {
      "cell_type": "code",
      "metadata": {
        "id": "d5DYYM9qspkT",
        "colab_type": "code",
        "colab": {}
      },
      "source": [
        "def parse_content_from(news):\n",
        "  soup = BeautifulSoup(news)\n",
        "\n",
        "  title = soup.select(title_selector)[0].get_text()+'.' if soup.select(title_selector) else ''\n",
        "  subtitle = soup.select(subtitle_selector)[0].get_text()+'.' if soup.select(subtitle_selector) else ''\n",
        "  date = soup.select(date_selector)[0].get_text() if soup.select(date_selector) else ''\n",
        "  #author = soup.select(author_selector)[0].get_text() if soup.select(author_selector) else ''\n",
        "  #media_author = soup.select(from_selector)[0].get_text() if soup.select(from_selector) else ''\n",
        "  contents = soup.select(content_selector)\n",
        "  blockquote_contents = soup.select(blockquote_content_selector)\n",
        "  #media_descriptions = soup.select(media_description_selector)\n",
        "\n",
        "  text = ''\n",
        "  text += title.strip()\n",
        "  text += subtitle.strip()\n",
        "  \n",
        "  if date:\n",
        "    date = datetime.strptime(date.strip(), '%d/%m/%Y %Hh%M')\n",
        "\n",
        "  for c in contents:\n",
        "    text += c.get_text()\n",
        "\n",
        "  for bqc in blockquote_contents:\n",
        "    text += bqc.get_text()+'.'\n",
        "\n",
        "  #for md in media_descriptions:\n",
        "  #    text += md.get_text()+'.'\n",
        "\n",
        "  return title, subtitle, date, text\n",
        "          \n",
        "  #return text"
      ],
      "execution_count": null,
      "outputs": []
    },
    {
      "cell_type": "markdown",
      "metadata": {
        "id": "Knpru8367pv2",
        "colab_type": "text"
      },
      "source": [
        "### Fetch and save"
      ]
    },
    {
      "cell_type": "code",
      "metadata": {
        "id": "xKa_9nmi6rXz",
        "colab_type": "code",
        "colab": {
          "base_uri": "https://localhost:8080/",
          "height": 127
        },
        "outputId": "3328c9df-10d8-4dfd-85b3-3fb31b9bc897"
      },
      "source": [
        "start_time = print_exec_start()\n",
        "\n",
        "urls = []\n",
        "urls = bulk_results()\n",
        "save_txt_to_drive(urls, 'g1_news_url_list')\n",
        "print(\"[INFO][{}] saving {} urls\".format(log_time(), len(urls)))\n",
        "\n",
        "print_exec_time(start_time)"
      ],
      "execution_count": null,
      "outputs": [
        {
          "output_type": "stream",
          "text": [
            "--- Started at 2020/08/12 10:45\n",
            "[INFO][...] 2429 news found\n",
            "[INFO][2020/08/12 10:51] saving 2429 urls\n",
            "--- 378.5480763912201 seconds ---\n",
            "--- 6.0 minutes ---\n",
            "--- 0.0 hours ---\n"
          ],
          "name": "stdout"
        }
      ]
    },
    {
      "cell_type": "code",
      "metadata": {
        "id": "4TJO38qNEdzk",
        "colab_type": "code",
        "colab": {}
      },
      "source": [
        "start_time = print_exec_start()\n",
        "\n",
        "news = ''\n",
        "news_list = []\n",
        "count = 0\n",
        "\n",
        "for index, url in enumerate(urls, start=1):\n",
        "  news = get_content_from(url)\n",
        "  title, subtitle, date, text = parse_content_from(news)\n",
        "  #date = re.search(date_regex, url).group(0)\n",
        "  id = generate_hash_md5(url)\n",
        "\n",
        "  d = {\n",
        "    'id': id,\n",
        "    'date': date.date(),\n",
        "    'time': date.time(),\n",
        "    'title': title,\n",
        "    'subtitle': subtitle,\n",
        "    'url': url,\n",
        "    'text': text,\n",
        "  }\n",
        "  news_list.append(d)\n",
        "  print(\"[INFO][...] {} {} {}\".format(id, date, title))\n",
        "\n",
        "  if ((index % 100) == 0):\n",
        "    print(\"[INFO][..ZzZz..] Saving and going to take a nap\")\n",
        "    news_df = pd.DataFrame(news_list, columns=news__columns)\n",
        "    save_csv_to_drive(news_df, news__filename+'_'+str(index))\n",
        "    count += len(news_list)\n",
        "    news_list = []\n",
        "\n",
        "    time.sleep(60*5)\n",
        "\n",
        "if news_list:\n",
        "  print(\"[INFO][...] Saving\")\n",
        "  count += len(news_list)\n",
        "\n",
        "  news_df = pd.DataFrame(news_list, columns=news__columns)\n",
        "  save_csv_to_drive(news_df, news__filename+'_'+str(count))\n",
        "  print(\"[INFO][{}] {} news collected\".format(log_time(), count))\n",
        "\n",
        "print_exec_time(start_time)"
      ],
      "execution_count": null,
      "outputs": []
    },
    {
      "cell_type": "markdown",
      "metadata": {
        "id": "v0z0lUDbqcm6",
        "colab_type": "text"
      },
      "source": [
        "### Cleaning"
      ]
    },
    {
      "cell_type": "code",
      "metadata": {
        "id": "WtYQ4DV4qg05",
        "colab_type": "code",
        "colab": {}
      },
      "source": [
        "def remove_stopwords(text, tokenize=True):\n",
        "  sentences = []\n",
        "  \n",
        "  words = word_tokenize(text.lower())\n",
        "\n",
        "  stopwords_list = set(stopwords.words('portuguese') + list(punctuation))\n",
        "  text_without_stopwords = [word for word in words if word not in stopwords_list]\n",
        "  clean_text = [t for t in text_without_stopwords if re.match(r'[A-Za-z]', t)]\n",
        "  \n",
        "  if tokenize:\n",
        "    sentences = sent_tokenize(text)\n",
        "    return clean_text, sentences\n",
        "  else:\n",
        "    return clean_text"
      ],
      "execution_count": null,
      "outputs": []
    },
    {
      "cell_type": "code",
      "metadata": {
        "id": "Et-17ldhqlEs",
        "colab_type": "code",
        "colab": {}
      },
      "source": [
        "def word_count_frequency(clean_text, sentences):\n",
        "  frequency = FreqDist(clean_text)\n",
        "  main_sentences = defaultdict(int)\n",
        "\n",
        "  for i, sentence in enumerate(sentences):\n",
        "      for word in word_tokenize(sentence.lower()):\n",
        "          if word in frequency:\n",
        "              main_sentences[i] += frequency[word]\n",
        "\n",
        "  return frequency, main_sentences"
      ],
      "execution_count": null,
      "outputs": []
    },
    {
      "cell_type": "markdown",
      "metadata": {
        "id": "Kafr6BFRry0I",
        "colab_type": "text"
      },
      "source": [
        "### Filters"
      ]
    },
    {
      "cell_type": "markdown",
      "metadata": {
        "id": "Dea0Mdkar0q9",
        "colab_type": "text"
      },
      "source": [
        "#### Word Count"
      ]
    },
    {
      "cell_type": "code",
      "metadata": {
        "id": "C6L2B5RUr3oe",
        "colab_type": "code",
        "colab": {}
      },
      "source": [
        "def word_count_report(text):\n",
        "  clean_text_bag = []\n",
        "  sentences_bag = []\n",
        "  \n",
        "  clean_text, sentences = remove_stopwords(text)\n",
        "  clean_text_bag += clean_text\n",
        "  sentences_bag += sentences\n",
        "\n",
        "  frequency, main_sentences = word_count_frequency(clean_text_bag, sentences_bag)\n",
        "  idx_main_sentences = nlargest(4, main_sentences, main_sentences.get)\n",
        "\n",
        "  print(frequency.pprint(25))\n",
        "  print()\n",
        "  frequency.plot(25, title=\"Word count\")\n",
        "\n",
        "  print(\"The 4 most relevant sentences for \\\"%s\\\"\"%(query))\n",
        "  for i in sorted(idx_main_sentences):\n",
        "      print(\"[%s] %s\"%(i, sentences_bag[i]))\n"
      ],
      "execution_count": null,
      "outputs": []
    }
  ]
}