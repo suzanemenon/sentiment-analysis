{
  "nbformat": 4,
  "nbformat_minor": 0,
  "metadata": {
    "colab": {
      "name": "Web Scraping Modules.ipynb",
      "provenance": [],
      "collapsed_sections": [
        "S7DmuNkXf1Cp",
        "y9JUbLgD_PAs",
        "RgiSVNdb02By",
        "rzVCqq2f_Os-",
        "nsE0jFaP2Qig"
      ],
      "toc_visible": true,
      "authorship_tag": "ABX9TyOW1WdDEvtAfAHNkW+tT5EC",
      "include_colab_link": true
    },
    "kernelspec": {
      "name": "python3",
      "display_name": "Python 3"
    }
  },
  "cells": [
    {
      "cell_type": "markdown",
      "metadata": {
        "id": "view-in-github",
        "colab_type": "text"
      },
      "source": [
        "<a href=\"https://colab.research.google.com/github/suzanemenon/sentiment-analysis/blob/master/Web_Scraping_Modules.ipynb\" target=\"_parent\"><img src=\"https://colab.research.google.com/assets/colab-badge.svg\" alt=\"Open In Colab\"/></a>"
      ]
    },
    {
      "cell_type": "markdown",
      "metadata": {
        "id": "mBcpFmkZS3v1",
        "colab_type": "text"
      },
      "source": [
        "# Imports\n"
      ]
    },
    {
      "cell_type": "code",
      "metadata": {
        "id": "z-sS3GvqWoT4",
        "colab_type": "code",
        "colab": {
          "base_uri": "https://localhost:8080/",
          "height": 182
        },
        "outputId": "2813fa86-6520-40e3-afb1-b718bd82519b"
      },
      "source": [
        "pip install GetOldTweets3"
      ],
      "execution_count": null,
      "outputs": [
        {
          "output_type": "stream",
          "text": [
            "Collecting GetOldTweets3\n",
            "  Downloading https://files.pythonhosted.org/packages/ed/f4/a00c2a7c90801abc875325bb5416ce9090ac86d06a00cc887131bd73ba45/GetOldTweets3-0.0.11-py3-none-any.whl\n",
            "Collecting pyquery>=1.2.10\n",
            "  Downloading https://files.pythonhosted.org/packages/78/43/95d42e386c61cb639d1a0b94f0c0b9f0b7d6b981ad3c043a836c8b5bc68b/pyquery-1.4.1-py2.py3-none-any.whl\n",
            "Requirement already satisfied: lxml>=3.5.0 in /usr/local/lib/python3.6/dist-packages (from GetOldTweets3) (4.2.6)\n",
            "Collecting cssselect>0.7.9\n",
            "  Downloading https://files.pythonhosted.org/packages/3b/d4/3b5c17f00cce85b9a1e6f91096e1cc8e8ede2e1be8e96b87ce1ed09e92c5/cssselect-1.1.0-py2.py3-none-any.whl\n",
            "Installing collected packages: cssselect, pyquery, GetOldTweets3\n",
            "Successfully installed GetOldTweets3-0.0.11 cssselect-1.1.0 pyquery-1.4.1\n"
          ],
          "name": "stdout"
        }
      ]
    },
    {
      "cell_type": "code",
      "metadata": {
        "id": "rl3cmZve8CHq",
        "colab_type": "code",
        "colab": {
          "base_uri": "https://localhost:8080/",
          "height": 329
        },
        "outputId": "ca89b837-79c5-4274-bb7e-48ea6c36548b"
      },
      "source": [
        "#pip install NLPyPort\n",
        "#https://github.com/jdportugal/NLPyPort\n",
        "#text = new_full_pipe(myText, options={\"lemmatizer\" : True})"
      ],
      "execution_count": null,
      "outputs": [
        {
          "output_type": "stream",
          "text": [
            "Requirement already satisfied: NLPyPort in /usr/local/lib/python3.6/dist-packages (2.2.1)\n",
            "Requirement already satisfied: sklearn in /usr/local/lib/python3.6/dist-packages (from NLPyPort) (0.0)\n",
            "Requirement already satisfied: numpy in /usr/local/lib/python3.6/dist-packages (from NLPyPort) (1.18.5)\n",
            "Requirement already satisfied: tqdm in /usr/local/lib/python3.6/dist-packages (from NLPyPort) (4.41.1)\n",
            "Requirement already satisfied: six in /usr/local/lib/python3.6/dist-packages (from NLPyPort) (1.15.0)\n",
            "Requirement already satisfied: singledispatch in /usr/local/lib/python3.6/dist-packages (from NLPyPort) (3.4.0.3)\n",
            "Requirement already satisfied: python-crfsuite in /usr/local/lib/python3.6/dist-packages (from NLPyPort) (0.9.7)\n",
            "Requirement already satisfied: pytz in /usr/local/lib/python3.6/dist-packages (from NLPyPort) (2018.9)\n",
            "Requirement already satisfied: tabulate in /usr/local/lib/python3.6/dist-packages (from NLPyPort) (0.8.7)\n",
            "Requirement already satisfied: nltk in /usr/local/lib/python3.6/dist-packages (from NLPyPort) (3.4.5)\n",
            "Requirement already satisfied: python-dateutil in /usr/local/lib/python3.6/dist-packages (from NLPyPort) (2.8.1)\n",
            "Requirement already satisfied: xmltodict in /usr/local/lib/python3.6/dist-packages (from NLPyPort) (0.12.0)\n",
            "Requirement already satisfied: pandas in /usr/local/lib/python3.6/dist-packages (from NLPyPort) (1.0.5)\n",
            "Requirement already satisfied: scipy in /usr/local/lib/python3.6/dist-packages (from NLPyPort) (1.4.1)\n",
            "Requirement already satisfied: sklearn-crfsuite in /usr/local/lib/python3.6/dist-packages (from NLPyPort) (0.3.6)\n",
            "Requirement already satisfied: scikit-learn in /usr/local/lib/python3.6/dist-packages (from NLPyPort) (0.22.2.post1)\n",
            "Requirement already satisfied: joblib>=0.11 in /usr/local/lib/python3.6/dist-packages (from scikit-learn->NLPyPort) (0.16.0)\n"
          ],
          "name": "stdout"
        }
      ]
    },
    {
      "cell_type": "code",
      "metadata": {
        "id": "g0YLU6c8_X5v",
        "colab_type": "code",
        "colab": {
          "base_uri": "https://localhost:8080/",
          "height": 201
        },
        "outputId": "6c2fb7d8-f256-4423-fd09-b13cc6899f27"
      },
      "source": [
        "pip install nltk==3.4.5"
      ],
      "execution_count": null,
      "outputs": [
        {
          "output_type": "stream",
          "text": [
            "Name: nltk\n",
            "Version: 3.4.5\n",
            "Summary: Natural Language Toolkit\n",
            "Home-page: http://nltk.org/\n",
            "Author: Steven Bird\n",
            "Author-email: stevenbird1@gmail.com\n",
            "License: Apache License, Version 2.0\n",
            "Location: /usr/local/lib/python3.6/dist-packages\n",
            "Requires: six\n",
            "Required-by: textblob, NLPyPort\n"
          ],
          "name": "stdout"
        }
      ]
    },
    {
      "cell_type": "code",
      "metadata": {
        "id": "9DkiWMg0majy",
        "colab_type": "code",
        "colab": {
          "base_uri": "https://localhost:8080/",
          "height": 313
        },
        "outputId": "952b6202-8206-4277-8d50-ee4f98c1db4d"
      },
      "source": [
        "from bs4 import BeautifulSoup\n",
        "from collections import defaultdict\n",
        "from heapq import nlargest\n",
        "from matplotlib import pyplot as plt\n",
        "from nltk.corpus import stopwords\n",
        "from nltk.probability import FreqDist\n",
        "from nltk.tokenize import sent_tokenize\n",
        "from nltk.tokenize import word_tokenize\n",
        "from nltk.stem import RSLPStemmer\n",
        "from skimage import io\n",
        "from string import punctuation\n",
        "import re\n",
        "import urllib\n",
        "import json\n",
        "import hashlib\n",
        "import csv\n",
        "import pandas as pd\n",
        "import time\n",
        "from datetime import datetime\n",
        "import numpy as np\n",
        "from google.colab import files\n",
        "from google.colab import drive\n",
        "import io\n",
        "from pytz import timezone\n",
        "\n",
        "#Data Analysis\n",
        "import seaborn as sns\n",
        "\n",
        "#Data Preprocessing and Feature Engineering\n",
        "\n",
        "from nltk.corpus import floresta\n",
        "from nltk.stem.wordnet import WordNetLemmatizer\n",
        "#RSLPStemmer - https://www.nltk.org/_modules/nltk/stem/rslp.html\n",
        "from nltk.stem.rslp import RSLPStemmer\n",
        "from sklearn.feature_extraction.text import CountVectorizer, TfidfTransformer\n",
        "\n",
        "#Model Selection and Validation\n",
        "from sklearn.naive_bayes import MultinomialNB\n",
        "from sklearn.model_selection import train_test_split, cross_val_predict\n",
        "from sklearn.pipeline import Pipeline\n",
        "from sklearn.metrics import confusion_matrix, classification_report, accuracy_score\n",
        "\n",
        "#from NLPyPort.FullPipeline import *\n",
        "\n",
        "import nltk\n",
        "nltk.download('punkt')\n",
        "nltk.download('floresta')\n",
        "nltk.download('stopwords')\n",
        "nltk.download('rslp')\n",
        "\n",
        "drive.mount('/drive')\n",
        "\n",
        "#from textblob import TextBlob\n",
        "#b = TextBlob(myText)\n",
        "#print(b.correct())\n",
        "#b.detect_language()"
      ],
      "execution_count": null,
      "outputs": [
        {
          "output_type": "stream",
          "text": [
            "/usr/local/lib/python3.6/dist-packages/statsmodels/tools/_testing.py:19: FutureWarning: pandas.util.testing is deprecated. Use the functions in the public API at pandas.testing instead.\n",
            "  import pandas.util.testing as tm\n"
          ],
          "name": "stderr"
        },
        {
          "output_type": "stream",
          "text": [
            "[nltk_data] Downloading package punkt to /root/nltk_data...\n",
            "[nltk_data]   Unzipping tokenizers/punkt.zip.\n",
            "[nltk_data] Downloading package floresta to /root/nltk_data...\n",
            "[nltk_data]   Unzipping corpora/floresta.zip.\n",
            "[nltk_data] Downloading package stopwords to /root/nltk_data...\n",
            "[nltk_data]   Unzipping corpora/stopwords.zip.\n",
            "[nltk_data] Downloading package rslp to /root/nltk_data...\n",
            "[nltk_data]   Unzipping stemmers/rslp.zip.\n",
            "Go to this URL in a browser: https://accounts.google.com/o/oauth2/auth?client_id=947318989803-6bn6qk8qdgf4n4g3pfee6491hc0brc4i.apps.googleusercontent.com&redirect_uri=urn%3aietf%3awg%3aoauth%3a2.0%3aoob&scope=email%20https%3a%2f%2fwww.googleapis.com%2fauth%2fdocs.test%20https%3a%2f%2fwww.googleapis.com%2fauth%2fdrive%20https%3a%2f%2fwww.googleapis.com%2fauth%2fdrive.photos.readonly%20https%3a%2f%2fwww.googleapis.com%2fauth%2fpeopleapi.readonly&response_type=code\n",
            "\n",
            "Enter your authorization code:\n",
            "··········\n",
            "Mounted at /drive\n"
          ],
          "name": "stdout"
        }
      ]
    },
    {
      "cell_type": "markdown",
      "metadata": {
        "id": "tNIcg2e8t3Eu",
        "colab_type": "text"
      },
      "source": [
        "# Common config"
      ]
    },
    {
      "cell_type": "code",
      "metadata": {
        "id": "9N2yAYPUtxRf",
        "colab_type": "code",
        "colab": {}
      },
      "source": [
        "query = 'covid-19'\n",
        "\n",
        "period = ['2020-02-23', '2020-08-02'] #'yyyy-mm-dd'\n",
        "#period = ['2020-02-23', '2020-02-23'] #'yyyy-mm-dd'\n",
        "\n",
        "number_of_days = len(pd.date_range(start = period[0], end = period[1]))\n",
        "\n",
        "gdrive_path = '/drive/My Drive/Colab Notebooks/TCC/'\n",
        "\n",
        "br_timezone = timezone('America/Sao_Paulo')\n",
        "\n",
        "def log_time():\n",
        "  return datetime.now().astimezone(br_timezone).strftime('%Y/%m/%d %H:%M')"
      ],
      "execution_count": null,
      "outputs": []
    },
    {
      "cell_type": "markdown",
      "metadata": {
        "id": "4KEV1Cq1B-fA",
        "colab_type": "text"
      },
      "source": [
        "#Helpers"
      ]
    },
    {
      "cell_type": "code",
      "metadata": {
        "id": "jHAeOJoItN6N",
        "colab_type": "code",
        "colab": {}
      },
      "source": [
        "def percentage(value, total):\n",
        "  pct = float(value/total) * 100\n",
        "  return str(round(pct, 2))+'%'"
      ],
      "execution_count": null,
      "outputs": []
    },
    {
      "cell_type": "markdown",
      "metadata": {
        "id": "MSYp2jt7r4-U",
        "colab_type": "text"
      },
      "source": [
        "## Hash MD5"
      ]
    },
    {
      "cell_type": "code",
      "metadata": {
        "id": "Zx83t90LrqQJ",
        "colab_type": "code",
        "colab": {}
      },
      "source": [
        "def generate_hash_md5(string):\n",
        "  hash_object = hashlib.md5(string.encode())\n",
        "  return hash_object.hexdigest()"
      ],
      "execution_count": null,
      "outputs": []
    },
    {
      "cell_type": "markdown",
      "metadata": {
        "id": "XdmjJUz9lJW3",
        "colab_type": "text"
      },
      "source": [
        "## File Handling"
      ]
    },
    {
      "cell_type": "markdown",
      "metadata": {
        "id": "IcQc3HWhorx0",
        "colab_type": "text"
      },
      "source": [
        "### CSV"
      ]
    },
    {
      "cell_type": "code",
      "metadata": {
        "id": "gdHSVv_Gou6a",
        "colab_type": "code",
        "colab": {}
      },
      "source": [
        "def save_df_to_csv_file(dataframe, filename):\n",
        "  try:\n",
        "    df = pd.read_csv(filename)\n",
        "    new_df = df.append(dataframe, ignore_index = True)\n",
        "    new_df.to_csv(filename, encoding='utf-8', index=False)\n",
        "    files.download(filename)\n",
        "  \n",
        "  except FileNotFoundError:\n",
        "    print('Creating {} file'.format(filename))\n",
        "    new_df = pd.DataFrame(dataframe)\n",
        "    new_df.to_csv(filename, encoding='utf-8', index=False)\n",
        "    files.download(filename)\n",
        "\n",
        "def save_csv_to_drive(dataframe, filename):\n",
        "  dataframe.to_csv(gdrive_path+'%s.csv'%(filename), index=False)\n",
        "\n",
        "def load_csv_from_local():\n",
        "  uploaded = files.upload()\n",
        "  uploaded_files = []\n",
        "\n",
        "  for file in uploaded.keys():\n",
        "    uploaded_files.append(file)\n",
        "    print('Uploaded file \"{}\" | {} bytes'.format(file, len(uploaded[file])))\n",
        "\n",
        "  df = pd.read_csv(io.BytesIO(uploaded[uploaded_files[0]])) \n",
        "  return df\n",
        "\n",
        "def load_csv_from_drive(filename):\n",
        "  with open(gdrive_path+'Twitter Datasets/'+filename+'.csv', 'r') as f:\n",
        "    return pd.read_csv(f, encoding = \"utf-8\", sep=',', engine='python')"
      ],
      "execution_count": null,
      "outputs": []
    },
    {
      "cell_type": "code",
      "metadata": {
        "id": "H4IDpvvr2xOo",
        "colab_type": "code",
        "colab": {
          "resources": {
            "http://localhost:8080/nbextensions/google.colab/files.js": {
              "data": "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",
              "ok": true,
              "headers": [
                [
                  "content-type",
                  "application/javascript"
                ]
              ],
              "status": 200,
              "status_text": "OK"
            }
          },
          "base_uri": "https://localhost:8080/",
          "height": 93
        },
        "outputId": "4d106972-8dce-431f-ff5a-9d689242d381"
      },
      "source": [
        "mydf = load_csv_from_local()"
      ],
      "execution_count": null,
      "outputs": [
        {
          "output_type": "display_data",
          "data": {
            "text/html": [
              "\n",
              "     <input type=\"file\" id=\"files-6beb34ac-4123-494c-9e45-453bd7536329\" name=\"files[]\" multiple disabled\n",
              "        style=\"border:none\" />\n",
              "     <output id=\"result-6beb34ac-4123-494c-9e45-453bd7536329\">\n",
              "      Upload widget is only available when the cell has been executed in the\n",
              "      current browser session. Please rerun this cell to enable.\n",
              "      </output>\n",
              "      <script src=\"/nbextensions/google.colab/files.js\"></script> "
            ],
            "text/plain": [
              "<IPython.core.display.HTML object>"
            ]
          },
          "metadata": {
            "tags": []
          }
        },
        {
          "output_type": "stream",
          "text": [
            "Saving [classified]twitter_dataset_covid-19_from_2020-02-23_to_2020-08-02_59848.csv to [classified]twitter_dataset_covid-19_from_2020-02-23_to_2020-08-02_59848.csv\n",
            "Uploaded file \"[classified]twitter_dataset_covid-19_from_2020-02-23_to_2020-08-02_59848.csv\" | 17649700 bytes\n"
          ],
          "name": "stdout"
        }
      ]
    },
    {
      "cell_type": "code",
      "metadata": {
        "id": "WcECp5lH39_9",
        "colab_type": "code",
        "colab": {
          "base_uri": "https://localhost:8080/",
          "height": 182
        },
        "outputId": "ac24af35-a602-4a91-ebff-987e2b62dc82"
      },
      "source": [
        "mydf_copy = mydf.copy()\n",
        "sampledf = mydf_copy.sample(frac=0.05, random_state=0)\n",
        "\n",
        "print(sampledf[:5])\n",
        "print(len(sampledf))"
      ],
      "execution_count": null,
      "outputs": [
        {
          "output_type": "stream",
          "text": [
            "                        id  replies  retweets  ...        date      time     label\n",
            "15479  1246949930385768451        0         0  ...  2020-04-05  23:56:45  NEGATIVE\n",
            "41627  1273404035274616834        0         0  ...  2020-06-17  23:55:55  NEGATIVE\n",
            "34634  1266516536795242496        1         6  ...  2020-05-29  23:47:27  NEGATIVE\n",
            "45782  1277021637376909313        2         6  ...  2020-06-27  23:30:58  NEGATIVE\n",
            "29920  1261445627080257541        1         0  ...  2020-05-15  23:57:28  NEGATIVE\n",
            "\n",
            "[5 rows x 10 columns]\n",
            "2992\n"
          ],
          "name": "stdout"
        }
      ]
    },
    {
      "cell_type": "code",
      "metadata": {
        "id": "2PrHw7ZQEV6X",
        "colab_type": "code",
        "colab": {
          "base_uri": "https://localhost:8080/",
          "height": 35
        },
        "outputId": "c5c2dda6-3164-4816-d7a1-2b3c2e9e6d60"
      },
      "source": [
        "# sampledf.columns\n",
        "\n",
        "# input = sampledf[['id', 'replies', 'retweets', 'favorites', 'hashtags', 'text', 'permalink', 'date', 'time']]\n",
        "\n",
        "# input.head()\n",
        "\n",
        "filename = 'covid_small_classified_sample_dataset.csv'\n",
        "save_df_to_csv_file(sampledf, filename)"
      ],
      "execution_count": null,
      "outputs": [
        {
          "output_type": "stream",
          "text": [
            "Creating covid_small_classified_sample_dataset.csv file\n"
          ],
          "name": "stdout"
        },
        {
          "output_type": "display_data",
          "data": {
            "application/javascript": [
              "\n",
              "    async function download(id, filename, size) {\n",
              "      if (!google.colab.kernel.accessAllowed) {\n",
              "        return;\n",
              "      }\n",
              "      const div = document.createElement('div');\n",
              "      const label = document.createElement('label');\n",
              "      label.textContent = `Downloading \"${filename}\": `;\n",
              "      div.appendChild(label);\n",
              "      const progress = document.createElement('progress');\n",
              "      progress.max = size;\n",
              "      div.appendChild(progress);\n",
              "      document.body.appendChild(div);\n",
              "\n",
              "      const buffers = [];\n",
              "      let downloaded = 0;\n",
              "\n",
              "      const channel = await google.colab.kernel.comms.open(id);\n",
              "      // Send a message to notify the kernel that we're ready.\n",
              "      channel.send({})\n",
              "\n",
              "      for await (const message of channel.messages) {\n",
              "        // Send a message to notify the kernel that we're ready.\n",
              "        channel.send({})\n",
              "        if (message.buffers) {\n",
              "          for (const buffer of message.buffers) {\n",
              "            buffers.push(buffer);\n",
              "            downloaded += buffer.byteLength;\n",
              "            progress.value = downloaded;\n",
              "          }\n",
              "        }\n",
              "      }\n",
              "      const blob = new Blob(buffers, {type: 'application/binary'});\n",
              "      const a = document.createElement('a');\n",
              "      a.href = window.URL.createObjectURL(blob);\n",
              "      a.download = filename;\n",
              "      div.appendChild(a);\n",
              "      a.click();\n",
              "      div.remove();\n",
              "    }\n",
              "  "
            ],
            "text/plain": [
              "<IPython.core.display.Javascript object>"
            ]
          },
          "metadata": {
            "tags": []
          }
        },
        {
          "output_type": "display_data",
          "data": {
            "application/javascript": [
              "download(\"download_8b034f17-1064-411f-9545-2929d2259265\", \"covid_small_classified_sample_dataset.csv\", 880734)"
            ],
            "text/plain": [
              "<IPython.core.display.Javascript object>"
            ]
          },
          "metadata": {
            "tags": []
          }
        }
      ]
    },
    {
      "cell_type": "markdown",
      "metadata": {
        "id": "S7DmuNkXf1Cp",
        "colab_type": "text"
      },
      "source": [
        "### TXT"
      ]
    },
    {
      "cell_type": "code",
      "metadata": {
        "id": "9RpLNUw2ebpO",
        "colab_type": "code",
        "colab": {}
      },
      "source": [
        "def save_txt_to_drive(content, filename):\n",
        "  with open(gdrive_path+filename+'.txt', 'w') as f:\n",
        "    if type(content) == list:\n",
        "      for item in content:\n",
        "        f.write(\"%s,\" % item)\n",
        "    if type(content) == str:\n",
        "      f.write(content)\n",
        "\n",
        "def load_txt_from_drive(type, filename):\n",
        "  with open(gdrive_path+filename+'.txt', 'r') as f: \n",
        "    if type == list:\n",
        "      return list(f.read().split(','))\n",
        "    if type == str:\n",
        "      return f.read()"
      ],
      "execution_count": null,
      "outputs": []
    },
    {
      "cell_type": "markdown",
      "metadata": {
        "id": "y9JUbLgD_PAs",
        "colab_type": "text"
      },
      "source": [
        "## Execution time"
      ]
    },
    {
      "cell_type": "code",
      "metadata": {
        "id": "eyzaLfyR-WX9",
        "colab_type": "code",
        "colab": {}
      },
      "source": [
        "def print_exec_start():\n",
        "  print(\"--- Started at {}\".format(log_time()))\n",
        "  return time.time()\n",
        "\n",
        "def print_exec_time(start_time):\n",
        "  execution_time_seconds = time.time() - start_time\n",
        "  execution_time_minutes = execution_time_seconds // 60\n",
        "  execution_time_hours = execution_time_minutes // 60\n",
        "\n",
        "  print(\"--- {} seconds ---\".format(execution_time_seconds))\n",
        "  print(\"--- {} minutes ---\".format(execution_time_minutes))\n",
        "  print(\"--- {} hours ---\".format(execution_time_hours))"
      ],
      "execution_count": null,
      "outputs": []
    },
    {
      "cell_type": "markdown",
      "metadata": {
        "id": "RgiSVNdb02By",
        "colab_type": "text"
      },
      "source": [
        "# Twitter Module"
      ]
    },
    {
      "cell_type": "markdown",
      "metadata": {
        "id": "hhk0NeA6e-BU",
        "colab_type": "text"
      },
      "source": [
        "## Config"
      ]
    },
    {
      "cell_type": "code",
      "metadata": {
        "id": "E3gU6M92fB5L",
        "colab_type": "code",
        "colab": {}
      },
      "source": [
        "twitter__query = query\n",
        "twitter__filename = 'twitter_dataset-%s-from_%s_to_%s.csv'%(twitter__query, period[0], period[1])\n",
        "twitter__columns = ['id', 'date', 'to', 'username', 'mentions', 'replies', 'retweets', 'favorites', 'hashtags', 'text', 'permalink']\n",
        "twitter__max_tweets_day = 500"
      ],
      "execution_count": null,
      "outputs": []
    },
    {
      "cell_type": "markdown",
      "metadata": {
        "id": "rzVCqq2f_Os-",
        "colab_type": "text"
      },
      "source": [
        "## Scrapping"
      ]
    },
    {
      "cell_type": "code",
      "metadata": {
        "id": "HGajaX7-_OTg",
        "colab_type": "code",
        "colab": {}
      },
      "source": [
        "import GetOldTweets3 as got\n",
        "\n",
        "def search_tweets():\n",
        "  tweets = []\n",
        "  tweets_list = []\n",
        "  num_lost_tweets = 0\n",
        "  num_found_tweets = 0\n",
        "\n",
        "  date_range_weeks = pd.date_range(start = period[0], end = period[1], freq='W')\n",
        "\n",
        "  i = 0\n",
        "  while True:\n",
        "    if (i + 1 >= len(date_range_weeks)): break\n",
        "\n",
        "    if i != 0: time.sleep(60*5)\n",
        "\n",
        "    date_range = pd.date_range(start = date_range_weeks[i], end = date_range_weeks[i + 1])\n",
        "    i += 1\n",
        "\n",
        "    j = 0\n",
        "    while True:\n",
        "      if (j + 1 >= len(date_range)): break\n",
        "\n",
        "      date_start = str(date_range[j].date())\n",
        "      date_end = str(date_range[j+1].date()) #not included\n",
        "      j += 1\n",
        "\n",
        "      tweetCriteria = got.manager.TweetCriteria().setQuerySearch(twitter__query)\\\n",
        "                                                .setSince(date_start)\\\n",
        "                                                .setUntil(date_end)\\\n",
        "                                                .setEmoji(\"unicode\")\\\n",
        "                                                .setMaxTweets(twitter__max_tweets_day)\\\n",
        "                                                .setLang('pt-br')\n",
        "\n",
        "      #.setTopTweets(True)\\\n",
        "\n",
        "      try:\n",
        "      # count = 0\n",
        "      # while True:\n",
        "        # if (count >= twitter__min_tweets_day): break\n",
        "      \n",
        "        print(\"[INFO][...] {} to {}\".format(date_start, date_end))\n",
        "        \n",
        "        tweets = got.manager.TweetManager.getTweets(tweetCriteria)\n",
        "        #print(\"[INFO][REPORT] {} tweets found\".format(len(tweets)))\n",
        "\n",
        "        num_found_tweets += len(tweets)\n",
        "        \n",
        "        filteredList = list(filter(lambda t : t.to == None , tweets))\n",
        "        #print(\"[INFO][REPORT] {} tweets after filter\".format(len(filteredList)))\n",
        "\n",
        "        num_lost_tweets += len(tweets) - len(filteredList)\n",
        "        #print(\"[INFO][REPORT] {} tweets lost\".format(len(tweets) - len(filteredList)))\n",
        "        # count += len(filteredList)\n",
        "        \n",
        "        for t in filteredList:\n",
        "          d = {\n",
        "            'id': t.id,\n",
        "            'username': t.username,\n",
        "            'permalink': t.permalink,\n",
        "            'date': t.date,\n",
        "            'text': t.text,\n",
        "            'retweets': t.retweets,\n",
        "            'replies': t.replies,\n",
        "            'favorites': t.favorites,\n",
        "            'mentions': t.mentions,\n",
        "            'hashtags': t.hashtags,\n",
        "            'to': t.to,\n",
        "          }\n",
        "          tweets_list.append(d)\n",
        "\n",
        "          #'geo': t.geo\n",
        "          \n",
        "      except:\n",
        "        print(\"[ERROR] Error getting tweets\")\n",
        "        pass\n",
        "\n",
        "  print(\"[INFO][REPORT] {} days | from {} to {} \".format(\n",
        "      number_of_days,\n",
        "      period[0],\n",
        "      period[1]\n",
        "  ))\n",
        "  print(\"[INFO][REPORT] {} tweets found\".format(num_found_tweets))\n",
        "  print(\"[INFO][REPORT] {} tweets collected\".format(len(tweets_list)))\n",
        "  print(\"[INFO][REPORT] {} lost | {} average per day | {}% loss\".format(\n",
        "      num_lost_tweets,\n",
        "      num_lost_tweets // number_of_days,\n",
        "      (100 * num_lost_tweets) // num_found_tweets\n",
        "  ))\n",
        "  return tweets_list"
      ],
      "execution_count": null,
      "outputs": []
    },
    {
      "cell_type": "markdown",
      "metadata": {
        "id": "eKJrCIjm_Xqg",
        "colab_type": "text"
      },
      "source": [
        "## [ ▶ ] Fetch and save\n"
      ]
    },
    {
      "cell_type": "code",
      "metadata": {
        "id": "DiJP9eV0Uy2s",
        "colab_type": "code",
        "colab": {}
      },
      "source": [
        "start_time = print_exec_start()\n",
        "\n",
        "tweets = search_tweets()\n",
        "\n",
        "print_exec_time(start_time)"
      ],
      "execution_count": null,
      "outputs": []
    },
    {
      "cell_type": "code",
      "metadata": {
        "id": "JG-Yv8gQJetL",
        "colab_type": "code",
        "colab": {
          "base_uri": "https://localhost:8080/",
          "height": 240
        },
        "outputId": "9b297f27-fc1f-49e8-8915-f196f97a372a"
      },
      "source": [
        "tweets[1024]"
      ],
      "execution_count": null,
      "outputs": [
        {
          "output_type": "execute_result",
          "data": {
            "text/plain": [
              "{'date': datetime.datetime(2020, 2, 25, 16, 36, 58, tzinfo=datetime.timezone.utc),\n",
              " 'favorites': 0,\n",
              " 'hashtags': '#coronavirus #covid19',\n",
              " 'id': '1232343743266787331',\n",
              " 'mentions': '',\n",
              " 'permalink': 'https://twitter.com/ACADEMIA15M/status/1232343743266787331',\n",
              " 'replies': 0,\n",
              " 'retweets': 0,\n",
              " 'text': 'Volo Alitalia fermo a Mauritius http://www.tiradecontacto.net/665219224/daliaroja.html Quarantena o rimpatrio Corriere della Sera http://tiradecontacto.blogspot.com/2013/09/contra-viento-y-mareas-270365-viva-la.html #coronavirus #covid19 ',\n",
              " 'to': None,\n",
              " 'username': 'ACADEMIA15M'}"
            ]
          },
          "metadata": {
            "tags": []
          },
          "execution_count": 76
        }
      ]
    },
    {
      "cell_type": "code",
      "metadata": {
        "id": "KLKeLp174S1V",
        "colab_type": "code",
        "colab": {
          "base_uri": "https://localhost:8080/",
          "height": 35
        },
        "outputId": "6e0006a5-5b25-45ed-b528-7aa82df3ce88"
      },
      "source": [
        "tweets_df = pd.DataFrame(tweets, columns=twitter__columns)\n",
        "\n",
        "tweets_df.rename(columns={\"date\": \"datetime\"}, inplace=True)\n",
        "\n",
        "dates, times = zip(*[(d.date(), d.time()) for d in tweets_df['datetime']])\n",
        "new_df = tweets_df.assign(date = dates, time = times)\n",
        "\n",
        "save_df_to_csv_file(new_df, 'twitter_dataset_covid-19_from_%s_to_%s.csv'%(period[0], period[1]))\n",
        "\n",
        "#df_tweets.replace(r'^\\s*$', np.nan, regex=True, inplace=True)"
      ],
      "execution_count": null,
      "outputs": [
        {
          "output_type": "stream",
          "text": [
            "Creating twitter_dataset_covid-19_from_2020-02-23_to_2020-08-02.csv file\n"
          ],
          "name": "stdout"
        },
        {
          "output_type": "display_data",
          "data": {
            "application/javascript": [
              "\n",
              "    async function download(id, filename, size) {\n",
              "      if (!google.colab.kernel.accessAllowed) {\n",
              "        return;\n",
              "      }\n",
              "      const div = document.createElement('div');\n",
              "      const label = document.createElement('label');\n",
              "      label.textContent = `Downloading \"${filename}\": `;\n",
              "      div.appendChild(label);\n",
              "      const progress = document.createElement('progress');\n",
              "      progress.max = size;\n",
              "      div.appendChild(progress);\n",
              "      document.body.appendChild(div);\n",
              "\n",
              "      const buffers = [];\n",
              "      let downloaded = 0;\n",
              "\n",
              "      const channel = await google.colab.kernel.comms.open(id);\n",
              "      // Send a message to notify the kernel that we're ready.\n",
              "      channel.send({})\n",
              "\n",
              "      for await (const message of channel.messages) {\n",
              "        // Send a message to notify the kernel that we're ready.\n",
              "        channel.send({})\n",
              "        if (message.buffers) {\n",
              "          for (const buffer of message.buffers) {\n",
              "            buffers.push(buffer);\n",
              "            downloaded += buffer.byteLength;\n",
              "            progress.value = downloaded;\n",
              "          }\n",
              "        }\n",
              "      }\n",
              "      const blob = new Blob(buffers, {type: 'application/binary'});\n",
              "      const a = document.createElement('a');\n",
              "      a.href = window.URL.createObjectURL(blob);\n",
              "      a.download = filename;\n",
              "      div.appendChild(a);\n",
              "      a.click();\n",
              "      div.remove();\n",
              "    }\n",
              "  "
            ],
            "text/plain": [
              "<IPython.core.display.Javascript object>"
            ]
          },
          "metadata": {
            "tags": []
          }
        },
        {
          "output_type": "display_data",
          "data": {
            "application/javascript": [
              "download(\"download_15a5cad9-389e-44f5-845d-3ec1ef9ec677\", \"twitter_dataset_covid-19_from_2020-02-23_to_2020-08-02.csv\", 19656030)"
            ],
            "text/plain": [
              "<IPython.core.display.Javascript object>"
            ]
          },
          "metadata": {
            "tags": []
          }
        }
      ]
    },
    {
      "cell_type": "markdown",
      "metadata": {
        "id": "_s7RopW0MN5E",
        "colab_type": "text"
      },
      "source": [
        "## [ ▶ ] Sample for classification"
      ]
    },
    {
      "cell_type": "code",
      "metadata": {
        "id": "xEuPTF9PH6Ho",
        "colab_type": "code",
        "colab": {
          "base_uri": "https://localhost:8080/",
          "height": 35
        },
        "outputId": "8e27330e-370e-437e-c99a-36ddba0ff1ad"
      },
      "source": [
        "df = pd.DataFrame(tweets)\n",
        "sample = df.sample(n = 1000)\n",
        "#sample = df.sample(frac = 0.1)\n",
        "len(df)"
      ],
      "execution_count": null,
      "outputs": [
        {
          "output_type": "execute_result",
          "data": {
            "text/plain": [
              "59848"
            ]
          },
          "metadata": {
            "tags": []
          },
          "execution_count": 73
        }
      ]
    },
    {
      "cell_type": "code",
      "metadata": {
        "id": "ZTvOEsyaOpFI",
        "colab_type": "code",
        "colab": {
          "base_uri": "https://localhost:8080/",
          "height": 91
        },
        "outputId": "4f315b47-35b5-49fc-d5e1-65ff7f86d9b8"
      },
      "source": [
        "df_sample = df.sample(500)\n",
        "#df_sample.head()\n",
        "print(len(df_sample))\n",
        "df_sample.columns"
      ],
      "execution_count": null,
      "outputs": [
        {
          "output_type": "stream",
          "text": [
            "500\n"
          ],
          "name": "stdout"
        },
        {
          "output_type": "execute_result",
          "data": {
            "text/plain": [
              "Index(['id', 'datetime', 'to', 'username', 'mentions', 'replies', 'retweets',\n",
              "       'favorites', 'hashtags', 'text', 'permalink', 'date', 'time'],\n",
              "      dtype='object')"
            ]
          },
          "metadata": {
            "tags": []
          },
          "execution_count": 54
        }
      ]
    },
    {
      "cell_type": "code",
      "metadata": {
        "id": "70YM1YmCQISv",
        "colab_type": "code",
        "colab": {
          "base_uri": "https://localhost:8080/",
          "height": 49
        },
        "outputId": "5ed0d4d0-a4ae-46ca-d8c5-592a16b512af"
      },
      "source": [
        "#Check duplicated rows by ID\n",
        "df_duplicate_rows = df_sample[df_sample.duplicated(['id'])]\n",
        "df_duplicate_rows"
      ],
      "execution_count": null,
      "outputs": [
        {
          "output_type": "execute_result",
          "data": {
            "text/html": [
              "<div>\n",
              "<style scoped>\n",
              "    .dataframe tbody tr th:only-of-type {\n",
              "        vertical-align: middle;\n",
              "    }\n",
              "\n",
              "    .dataframe tbody tr th {\n",
              "        vertical-align: top;\n",
              "    }\n",
              "\n",
              "    .dataframe thead th {\n",
              "        text-align: right;\n",
              "    }\n",
              "</style>\n",
              "<table border=\"1\" class=\"dataframe\">\n",
              "  <thead>\n",
              "    <tr style=\"text-align: right;\">\n",
              "      <th></th>\n",
              "      <th>id</th>\n",
              "      <th>datetime</th>\n",
              "      <th>to</th>\n",
              "      <th>username</th>\n",
              "      <th>mentions</th>\n",
              "      <th>replies</th>\n",
              "      <th>retweets</th>\n",
              "      <th>favorites</th>\n",
              "      <th>hashtags</th>\n",
              "      <th>text</th>\n",
              "      <th>permalink</th>\n",
              "      <th>date</th>\n",
              "      <th>time</th>\n",
              "    </tr>\n",
              "  </thead>\n",
              "  <tbody>\n",
              "  </tbody>\n",
              "</table>\n",
              "</div>"
            ],
            "text/plain": [
              "Empty DataFrame\n",
              "Columns: [id, datetime, to, username, mentions, replies, retweets, favorites, hashtags, text, permalink, date, time]\n",
              "Index: []"
            ]
          },
          "metadata": {
            "tags": []
          },
          "execution_count": 55
        }
      ]
    },
    {
      "cell_type": "code",
      "metadata": {
        "id": "AXmwNTceMTCX",
        "colab_type": "code",
        "colab": {
          "base_uri": "https://localhost:8080/",
          "height": 206
        },
        "outputId": "4ddaf8d3-d69e-46fe-ff7e-fd5e76e3d716"
      },
      "source": [
        "file_name = \"twitter_sample_dataset-%s-from_%s_to_%s.csv\"%(twitter__query, period[0], period[1])\n",
        "\n",
        "new_df = df_sample[['id', 'text', 'date', 'time']].copy()\n",
        "new_df['label'] = \"\"\n",
        "\n",
        "new_df.head()"
      ],
      "execution_count": null,
      "outputs": [
        {
          "output_type": "execute_result",
          "data": {
            "text/html": [
              "<div>\n",
              "<style scoped>\n",
              "    .dataframe tbody tr th:only-of-type {\n",
              "        vertical-align: middle;\n",
              "    }\n",
              "\n",
              "    .dataframe tbody tr th {\n",
              "        vertical-align: top;\n",
              "    }\n",
              "\n",
              "    .dataframe thead th {\n",
              "        text-align: right;\n",
              "    }\n",
              "</style>\n",
              "<table border=\"1\" class=\"dataframe\">\n",
              "  <thead>\n",
              "    <tr style=\"text-align: right;\">\n",
              "      <th></th>\n",
              "      <th>id</th>\n",
              "      <th>text</th>\n",
              "      <th>date</th>\n",
              "      <th>time</th>\n",
              "      <th>label</th>\n",
              "    </tr>\n",
              "  </thead>\n",
              "  <tbody>\n",
              "    <tr>\n",
              "      <th>27782</th>\n",
              "      <td>1259270409264009216</td>\n",
              "      <td>O @minsaude atualiza a situação do #coronaviru...</td>\n",
              "      <td>2020-05-09</td>\n",
              "      <td>23:53:56</td>\n",
              "      <td></td>\n",
              "    </tr>\n",
              "    <tr>\n",
              "      <th>34585</th>\n",
              "      <td>1266517320542846977</td>\n",
              "      <td>Epidemiologista francês, Didier Raoult, public...</td>\n",
              "      <td>2020-05-29</td>\n",
              "      <td>23:50:34</td>\n",
              "      <td></td>\n",
              "    </tr>\n",
              "    <tr>\n",
              "      <th>33517</th>\n",
              "      <td>1265430196930428928</td>\n",
              "      <td>De ontem pra hoje 5 pessoas muito próximas a m...</td>\n",
              "      <td>2020-05-26</td>\n",
              "      <td>23:50:44</td>\n",
              "      <td></td>\n",
              "    </tr>\n",
              "    <tr>\n",
              "      <th>44202</th>\n",
              "      <td>1275574181351079936</td>\n",
              "      <td>Covid-19: Brasil chega a 52,6 mil mortes e 1,1...</td>\n",
              "      <td>2020-06-23</td>\n",
              "      <td>23:39:18</td>\n",
              "      <td></td>\n",
              "    </tr>\n",
              "    <tr>\n",
              "      <th>17878</th>\n",
              "      <td>1249486214597693440</td>\n",
              "      <td>galera, terça feira eu e minha mãe estaremos r...</td>\n",
              "      <td>2020-04-12</td>\n",
              "      <td>23:55:02</td>\n",
              "      <td></td>\n",
              "    </tr>\n",
              "  </tbody>\n",
              "</table>\n",
              "</div>"
            ],
            "text/plain": [
              "                        id  ... label\n",
              "27782  1259270409264009216  ...      \n",
              "34585  1266517320542846977  ...      \n",
              "33517  1265430196930428928  ...      \n",
              "44202  1275574181351079936  ...      \n",
              "17878  1249486214597693440  ...      \n",
              "\n",
              "[5 rows x 5 columns]"
            ]
          },
          "metadata": {
            "tags": []
          },
          "execution_count": 56
        }
      ]
    },
    {
      "cell_type": "code",
      "metadata": {
        "id": "ERwHkysgSgqA",
        "colab_type": "code",
        "colab": {
          "base_uri": "https://localhost:8080/",
          "height": 35
        },
        "outputId": "593e53e0-6e95-4455-ae49-f5791653d42f"
      },
      "source": [
        "save_df_to_csv_file(new_df, file_name)"
      ],
      "execution_count": null,
      "outputs": [
        {
          "output_type": "stream",
          "text": [
            "Creating twitter_sample_dataset-covid-19-from_2020-02-23_to_2020-08-02.csv file\n"
          ],
          "name": "stdout"
        },
        {
          "output_type": "display_data",
          "data": {
            "application/javascript": [
              "\n",
              "    async function download(id, filename, size) {\n",
              "      if (!google.colab.kernel.accessAllowed) {\n",
              "        return;\n",
              "      }\n",
              "      const div = document.createElement('div');\n",
              "      const label = document.createElement('label');\n",
              "      label.textContent = `Downloading \"${filename}\": `;\n",
              "      div.appendChild(label);\n",
              "      const progress = document.createElement('progress');\n",
              "      progress.max = size;\n",
              "      div.appendChild(progress);\n",
              "      document.body.appendChild(div);\n",
              "\n",
              "      const buffers = [];\n",
              "      let downloaded = 0;\n",
              "\n",
              "      const channel = await google.colab.kernel.comms.open(id);\n",
              "      // Send a message to notify the kernel that we're ready.\n",
              "      channel.send({})\n",
              "\n",
              "      for await (const message of channel.messages) {\n",
              "        // Send a message to notify the kernel that we're ready.\n",
              "        channel.send({})\n",
              "        if (message.buffers) {\n",
              "          for (const buffer of message.buffers) {\n",
              "            buffers.push(buffer);\n",
              "            downloaded += buffer.byteLength;\n",
              "            progress.value = downloaded;\n",
              "          }\n",
              "        }\n",
              "      }\n",
              "      const blob = new Blob(buffers, {type: 'application/binary'});\n",
              "      const a = document.createElement('a');\n",
              "      a.href = window.URL.createObjectURL(blob);\n",
              "      a.download = filename;\n",
              "      div.appendChild(a);\n",
              "      a.click();\n",
              "      div.remove();\n",
              "    }\n",
              "  "
            ],
            "text/plain": [
              "<IPython.core.display.Javascript object>"
            ]
          },
          "metadata": {
            "tags": []
          }
        },
        {
          "output_type": "display_data",
          "data": {
            "application/javascript": [
              "download(\"download_a874629b-2724-4dd4-9d83-2b9e8f7b2746\", \"twitter_sample_dataset-covid-19-from_2020-02-23_to_2020-08-02.csv\", 103103)"
            ],
            "text/plain": [
              "<IPython.core.display.Javascript object>"
            ]
          },
          "metadata": {
            "tags": []
          }
        }
      ]
    },
    {
      "cell_type": "markdown",
      "metadata": {
        "id": "Afk-NPpzDOQ6",
        "colab_type": "text"
      },
      "source": [
        "## Data Manipulation"
      ]
    },
    {
      "cell_type": "code",
      "metadata": {
        "id": "O9VmsjaB8Id1",
        "colab_type": "code",
        "colab": {
          "base_uri": "https://localhost:8080/",
          "height": 225
        },
        "outputId": "809d3cb7-f47c-4e92-e5f5-ecfba3315c44"
      },
      "source": [
        "labeled_df = load_csv_from_drive(\"twitter_sample_labeled_dataset-covid-19-from_2020-02-23_to_2020-08-02_001\")\n",
        "labeled_df.drop([0,2,3,4,5,6,7,8,9,10,11,12,13,14,15,16,17], axis=1, inplace=True)\n",
        "labeled_df.columns = ['text','label']\n",
        "\n",
        "print(len(labeled_df))\n",
        "labeled_df.head()"
      ],
      "execution_count": null,
      "outputs": [
        {
          "output_type": "stream",
          "text": [
            "500\n"
          ],
          "name": "stdout"
        },
        {
          "output_type": "execute_result",
          "data": {
            "text/html": [
              "<div>\n",
              "<style scoped>\n",
              "    .dataframe tbody tr th:only-of-type {\n",
              "        vertical-align: middle;\n",
              "    }\n",
              "\n",
              "    .dataframe tbody tr th {\n",
              "        vertical-align: top;\n",
              "    }\n",
              "\n",
              "    .dataframe thead th {\n",
              "        text-align: right;\n",
              "    }\n",
              "</style>\n",
              "<table border=\"1\" class=\"dataframe\">\n",
              "  <thead>\n",
              "    <tr style=\"text-align: right;\">\n",
              "      <th></th>\n",
              "      <th>text</th>\n",
              "      <th>label</th>\n",
              "    </tr>\n",
              "  </thead>\n",
              "  <tbody>\n",
              "    <tr>\n",
              "      <th>0</th>\n",
              "      <td>O @minsaude atualiza a situação do #coronaviru...</td>\n",
              "      <td>POSITIVE</td>\n",
              "    </tr>\n",
              "    <tr>\n",
              "      <th>1</th>\n",
              "      <td>Epidemiologista francês, Didier Raoult, public...</td>\n",
              "      <td>POSITIVE</td>\n",
              "    </tr>\n",
              "    <tr>\n",
              "      <th>2</th>\n",
              "      <td>De ontem pra hoje 5 pessoas muito próximas a m...</td>\n",
              "      <td>NEGATIVE</td>\n",
              "    </tr>\n",
              "    <tr>\n",
              "      <th>3</th>\n",
              "      <td>Covid-19: Brasil chega a 52,6 mil mortes e 1,1...</td>\n",
              "      <td>NEGATIVE</td>\n",
              "    </tr>\n",
              "    <tr>\n",
              "      <th>4</th>\n",
              "      <td>galera, terça feira eu e minha mãe estaremos r...</td>\n",
              "      <td>POSITIVE</td>\n",
              "    </tr>\n",
              "  </tbody>\n",
              "</table>\n",
              "</div>"
            ],
            "text/plain": [
              "                                                text     label\n",
              "0  O @minsaude atualiza a situação do #coronaviru...  POSITIVE\n",
              "1  Epidemiologista francês, Didier Raoult, public...  POSITIVE\n",
              "2  De ontem pra hoje 5 pessoas muito próximas a m...  NEGATIVE\n",
              "3  Covid-19: Brasil chega a 52,6 mil mortes e 1,1...  NEGATIVE\n",
              "4  galera, terça feira eu e minha mãe estaremos r...  POSITIVE"
            ]
          },
          "metadata": {
            "tags": []
          },
          "execution_count": 9
        }
      ]
    },
    {
      "cell_type": "code",
      "metadata": {
        "id": "MgMVhoF4751D",
        "colab_type": "code",
        "colab": {
          "base_uri": "https://localhost:8080/",
          "height": 378
        },
        "outputId": "35910e05-033a-44e1-cb9b-b7669206eeac"
      },
      "source": [
        "totals = labeled_df.label.value_counts()\n",
        "length = len(labeled_df)\n",
        "\n",
        "totals.sort_values().plot(kind='bar', color=['C7', 'C2', 'C3'])\n",
        "#sns.countplot(x='label', data=labeled_df)\n",
        "\n",
        "total_negative = totals[0]\n",
        "total_positive = totals[1]\n",
        "total_neutral = totals[2]\n",
        "\n",
        "print(\"Total: %s\"%length)\n",
        "print(\"Negative: %s\"%percentage(total_negative, length))\n",
        "print(\"Positive: %s\"%percentage(total_positive, length))\n",
        "print(\"Neutral: %s\"%percentage(total_neutral, length))"
      ],
      "execution_count": null,
      "outputs": [
        {
          "output_type": "stream",
          "text": [
            "Total: 500\n",
            "Negative: 55.2%\n",
            "Positive: 30.4%\n",
            "Neutral: 14.4%\n"
          ],
          "name": "stdout"
        },
        {
          "output_type": "display_data",
          "data": {
            "image/png": "[encoded data removed]",
            "text/plain": [
              "<Figure size 432x288 with 1 Axes>"
            ]
          },
          "metadata": {
            "tags": [],
            "needs_background": "light"
          }
        }
      ]
    },
    {
      "cell_type": "markdown",
      "metadata": {
        "id": "v2H0qQPyLVOC",
        "colab_type": "text"
      },
      "source": [
        "## Cleaning"
      ]
    },
    {
      "cell_type": "code",
      "metadata": {
        "id": "hRTrq6CSLng0",
        "colab_type": "code",
        "colab": {}
      },
      "source": [
        "#FILTERING\n",
        "def filtering(text):\n",
        "  filtered_text = re.sub(r'(?:\\#|@|https?\\://)\\S+', '', text)\n",
        "  return filtered_text.lower()\n",
        "\n",
        "#TOKENIZER\n",
        "def tokenizer(text):\n",
        "  return word_tokenize(text)\n",
        "\n",
        "#NLTK STOPWORDS AND PUNCTUATION\n",
        "def remove_stopwords(tokens):\n",
        "  stopwords_list = set(stopwords.words('portuguese') + list(punctuation))\n",
        "  words = [word for word in tokens if word not in stopwords_list]\n",
        "  return [t for t in words if re.match(r'[A-Za-z]', t)]\n",
        "\n",
        "#NLTK STEMMING FOR PORTUGUESE (RSLPStemmer)\n",
        "def stemming(tokens):\n",
        "  return [RSLPStemmer().stem(t) for t in tokens]\n",
        "\n",
        "def cleaning(text):\n",
        "  clean_text = ''\n",
        "  clean_text = filtering(text)\n",
        "  clean_text = tokenizer(clean_text)\n",
        "  return \" \".join(remove_stopwords(clean_text))\n",
        "  #clean_text = remove_stopwords(clean_text)\n",
        "  #return \" \".join(stemming(clean_text))\n",
        "  \n",
        "\n",
        "def drop_duplicates_and_na(df):\n",
        "  return df.apply(tuple, 1).drop_duplicates().apply(list).to_frame()\n",
        "  #return new_df[new_df[column].map(lambda d: len(d)) > 0]\n"
      ],
      "execution_count": null,
      "outputs": []
    },
    {
      "cell_type": "markdown",
      "metadata": {
        "id": "FyNuiaVQS8EF",
        "colab_type": "text"
      },
      "source": [
        "## Data split (Train and Test)"
      ]
    },
    {
      "cell_type": "code",
      "metadata": {
        "id": "0xJT5K2CpRkV",
        "colab_type": "code",
        "colab": {
          "base_uri": "https://localhost:8080/",
          "height": 472
        },
        "outputId": "18800fb4-c712-481b-90ea-fa08dbbe70b6"
      },
      "source": [
        "text_train, text_test, label_train, label_test = train_test_split(labeled_df['text'].values, labeled_df['label'].values, test_size=0.3)\n",
        "\n",
        "print(text_train[:5])\n",
        "print(type(text_train))\n",
        "print('Train Dataset size: ', len(text_train))\n",
        "pd.value_counts(label_train).plot.bar()"
      ],
      "execution_count": null,
      "outputs": [
        {
          "output_type": "stream",
          "text": [
            "['Mds Ásia está tendo surtos de Covid 19 novamente'\n",
            " 'O Min. da Saúde provou hoje em coletiva o seu total despreparo para o cargo e ignorância sobre a COVID19. O pior é que ele está no cargo exatamente por isso. Retrato do governo: Negacionistas e ignorantes orgulhosos!'\n",
            " 'A fake news mais antiga é de que nos hospitais eles matam pessoas de propósito pra vender os órgãos, me admira não ver isso sendo usado pelo gado pra falar dos números da COVID19.'\n",
            " 'Sem entender esses estados anunciando planos de reabertura de comércio e serviços em plena ascendência da pandemia #COVID19 no país. #jn'\n",
            " 'Irão liberta temporariamente 54.000 prisioneiros com penas #COVID19 ']\n",
            "<class 'numpy.ndarray'>\n",
            "Train Dataset size:  350\n"
          ],
          "name": "stdout"
        },
        {
          "output_type": "execute_result",
          "data": {
            "text/plain": [
              "<matplotlib.axes._subplots.AxesSubplot at 0x7f4489127da0>"
            ]
          },
          "metadata": {
            "tags": []
          },
          "execution_count": 12
        },
        {
          "output_type": "display_data",
          "data": {
            "image/png": "[encoded data removed]",
            "text/plain": [
              "<Figure size 432x288 with 1 Axes>"
            ]
          },
          "metadata": {
            "tags": [],
            "needs_background": "light"
          }
        }
      ]
    },
    {
      "cell_type": "code",
      "metadata": {
        "id": "VupbsziNBPVI",
        "colab_type": "code",
        "colab": {
          "base_uri": "https://localhost:8080/",
          "height": 472
        },
        "outputId": "787290ed-219f-4851-b7d2-489458366713"
      },
      "source": [
        "print(text_test[:5])\n",
        "print(type(text_test))\n",
        "print('Test Dataset size: ', len(text_test))\n",
        "\n",
        "pd.value_counts(label_test).plot.bar()"
      ],
      "execution_count": null,
      "outputs": [
        {
          "output_type": "stream",
          "text": [
            "['As Marias pegaram o COVID-19. Jogam tão mal que estão tremendo de febre. #CAMxCRU'\n",
            " 'Hospital de Cataguases procura médicos para atuarem em novos leitos de UTI exclusivos para Covid-19 http://dlvr.it/RXgvBv'\n",
            " 'Estudei curvas epidemiológicas de Covid-19 em +150 países. Não há nada parecido com o Brasil. Há 2 meses, estamos estacionados em mil mortes/dia. A questão nem é mais a liderança mundial de óbitos. É a inércia. A situação não melhorou 1 milímetro. E seguimos sem ministro.'\n",
            " 'Casa da Cultura reabre as portas após novas medidas sanitárias contra a Covid-19 '\n",
            " 'Existe profilaxia para COVID-19? E tratamento? Post do Synapse baseado no posicionamento da SBPT ']\n",
            "<class 'numpy.ndarray'>\n",
            "Test Dataset size:  150\n"
          ],
          "name": "stdout"
        },
        {
          "output_type": "execute_result",
          "data": {
            "text/plain": [
              "<matplotlib.axes._subplots.AxesSubplot at 0x7f44891270f0>"
            ]
          },
          "metadata": {
            "tags": []
          },
          "execution_count": 13
        },
        {
          "output_type": "display_data",
          "data": {
            "image/png": "[encoded data removed]",
            "text/plain": [
              "<Figure size 432x288 with 1 Axes>"
            ]
          },
          "metadata": {
            "tags": [],
            "needs_background": "light"
          }
        }
      ]
    },
    {
      "cell_type": "markdown",
      "metadata": {
        "id": "ROKo3D9Gijjp",
        "colab_type": "text"
      },
      "source": [
        "## Pipeline"
      ]
    },
    {
      "cell_type": "markdown",
      "metadata": {
        "id": "tQvQ_Ancce5Z",
        "colab_type": "text"
      },
      "source": [
        "### Model 1"
      ]
    },
    {
      "cell_type": "code",
      "metadata": {
        "id": "T9qCn6kHakvO",
        "colab_type": "code",
        "colab": {
          "base_uri": "https://localhost:8080/",
          "height": 201
        },
        "outputId": "5539c8de-b535-47b0-eec3-dffa0a9954f6"
      },
      "source": [
        "[cleaning(t) for t in text_train][:10]"
      ],
      "execution_count": null,
      "outputs": [
        {
          "output_type": "execute_result",
          "data": {
            "text/plain": [
              "['mds tendo surtos covid novamente',\n",
              " 'min saúde provou hoje coletiva total despreparo cargo ignorância sobre covid19 pior cargo exatamente retrato governo negacionistas ignorantes orgulhosos',\n",
              " 'fake news antiga hospitais matam pessoas propósito pra vender admira ver sendo usado gado pra falar números covid19',\n",
              " 'entender estados anunciando planos reabertura comércio serviços plena ascendência pandemia país',\n",
              " 'irão liberta temporariamente prisioneiros penas',\n",
              " 'covid-19 marcelo admite possível problema europeu fecho fronteiras',\n",
              " 'mandetta critica bolsonaro cnn americana diz brasil pode tornar país casos covid-19 mundo',\n",
              " 'após reduzir boletim diário governo bolsonaro retira dados acumulados covid-19 site',\n",
              " 'saluti abbracio nostro medici',\n",
              " 'coronavírus brasil chega mortes casos confirmados relatório diário covid-19 via']"
            ]
          },
          "metadata": {
            "tags": []
          },
          "execution_count": 28
        }
      ]
    },
    {
      "cell_type": "code",
      "metadata": {
        "id": "qwBY0eWKBhHj",
        "colab_type": "code",
        "colab": {
          "base_uri": "https://localhost:8080/",
          "height": 274
        },
        "outputId": "e3641684-5801-4697-e40f-d63b74d06d49"
      },
      "source": [
        "#CountVectorizer(analyzer=cleaning, tokenizer=word_tokenize, ngram_range = (1, 2))\n",
        "#('tfidf', TfidfTransformer()),\n",
        "\n",
        "pipeline = Pipeline([\n",
        "    ('Bag Of Words', CountVectorizer(analyzer=cleaning)),\n",
        "    ('MultinomialNB', MultinomialNB()),\n",
        "])\n",
        "\n",
        "pipeline.fit(text_train, label_train)"
      ],
      "execution_count": null,
      "outputs": [
        {
          "output_type": "execute_result",
          "data": {
            "text/plain": [
              "Pipeline(memory=None,\n",
              "         steps=[('Bag Of Words',\n",
              "                 CountVectorizer(analyzer=<function cleaning at 0x7f44597856a8>,\n",
              "                                 binary=False, decode_error='strict',\n",
              "                                 dtype=<class 'numpy.int64'>, encoding='utf-8',\n",
              "                                 input='content', lowercase=True, max_df=1.0,\n",
              "                                 max_features=None, min_df=1,\n",
              "                                 ngram_range=(1, 1), preprocessor=None,\n",
              "                                 stop_words=None, strip_accents=None,\n",
              "                                 token_pattern='(?u)\\\\b\\\\w\\\\w+\\\\b',\n",
              "                                 tokenizer=None, vocabulary=None)),\n",
              "                ('MultinomialNB',\n",
              "                 MultinomialNB(alpha=1.0, class_prior=None, fit_prior=True))],\n",
              "         verbose=False)"
            ]
          },
          "metadata": {
            "tags": []
          },
          "execution_count": 16
        }
      ]
    },
    {
      "cell_type": "code",
      "metadata": {
        "id": "z0ig-9nvNLDv",
        "colab_type": "code",
        "colab": {}
      },
      "source": [
        "result = cross_val_predict(pipeline, text_test, label_test, cv=2)"
      ],
      "execution_count": null,
      "outputs": []
    },
    {
      "cell_type": "code",
      "metadata": {
        "id": "bWzKF-HHG3Pr",
        "colab_type": "code",
        "colab": {
          "base_uri": "https://localhost:8080/",
          "height": 366
        },
        "outputId": "690c884d-34e5-4851-acbe-67157e44d7a9"
      },
      "source": [
        "print(\"Accuracy: \", accuracy_score(label_test, result))\n",
        "print()\n",
        "print(classification_report(label_test, result))\n",
        "print()\n",
        "print(pd.crosstab(label_test, result, rownames=['x'], colnames=['y'], margins=True))"
      ],
      "execution_count": null,
      "outputs": [
        {
          "output_type": "stream",
          "text": [
            "Accuracy:  0.5133333333333333\n",
            "\n",
            "              precision    recall  f1-score   support\n",
            "\n",
            "    NEGATIVE       0.57      0.72      0.63        82\n",
            "     NEUTRAL       0.50      0.16      0.24        19\n",
            "    POSITIVE       0.38      0.31      0.34        49\n",
            "\n",
            "    accuracy                           0.51       150\n",
            "   macro avg       0.48      0.39      0.40       150\n",
            "weighted avg       0.50      0.51      0.49       150\n",
            "\n",
            "\n",
            "y         NEGATIVE  NEUTRAL  POSITIVE  All\n",
            "x                                         \n",
            "NEGATIVE        59        3        20   82\n",
            "NEUTRAL         11        3         5   19\n",
            "POSITIVE        34        0        15   49\n",
            "All            104        6        40  150\n"
          ],
          "name": "stdout"
        }
      ]
    },
    {
      "cell_type": "markdown",
      "metadata": {
        "id": "LXmpNkHNaaTe",
        "colab_type": "text"
      },
      "source": [
        "### Model 2"
      ]
    },
    {
      "cell_type": "code",
      "metadata": {
        "id": "dMfhJeFJaZYM",
        "colab_type": "code",
        "colab": {
          "base_uri": "https://localhost:8080/",
          "height": 592
        },
        "outputId": "75ab3c67-e567-4cb8-ffb3-096b6764747e"
      },
      "source": [
        "vectorizer = CountVectorizer(analyzer=cleaning)\n",
        "train_freq = vectorizer.fit_transform(text_train)\n",
        "print(type(train_freq))\n",
        "print(train_freq.shape)\n",
        "\n",
        "test_freq = vectorizer.transform(text_test)\n",
        "\n",
        "model = MultinomialNB()\n",
        "model.fit(train_freq, label_train)\n",
        "\n",
        "predicted = model.predict(test_freq)\n",
        "print(\"Accuracy:\", accuracy_score(label_test, predicted))\n",
        "print()\n",
        "print(classification_report(label_test, predicted))\n",
        "print()\n",
        "print(pd.crosstab(label_test, predicted, rownames=['x'], colnames=['y'], margins=True))\n",
        "\n",
        "results = []\n",
        "for t, c in zip(text_test, model.predict(test_freq)):\n",
        "  results.append([t, c])\n",
        "\n",
        "pd.set_option('max_colwidth', 150)\n",
        "df = pd.DataFrame(results, columns = ['text', 'label'])\n",
        "df[:5]"
      ],
      "execution_count": null,
      "outputs": [
        {
          "output_type": "stream",
          "text": [
            "<class 'scipy.sparse.csr.csr_matrix'>\n",
            "(350, 52)\n",
            "Accuracy: 0.6\n",
            "\n",
            "              precision    recall  f1-score   support\n",
            "\n",
            "    NEGATIVE       0.63      0.82      0.71        82\n",
            "     NEUTRAL       0.00      0.00      0.00        19\n",
            "    POSITIVE       0.56      0.47      0.51        49\n",
            "\n",
            "    accuracy                           0.60       150\n",
            "   macro avg       0.40      0.43      0.41       150\n",
            "weighted avg       0.53      0.60      0.55       150\n",
            "\n",
            "\n",
            "y         NEGATIVE  NEUTRAL  POSITIVE  All\n",
            "x                                         \n",
            "NEGATIVE        67        1        14   82\n",
            "NEUTRAL         15        0         4   19\n",
            "POSITIVE        25        1        23   49\n",
            "All            107        2        41  150\n"
          ],
          "name": "stdout"
        },
        {
          "output_type": "execute_result",
          "data": {
            "text/html": [
              "<div>\n",
              "<style scoped>\n",
              "    .dataframe tbody tr th:only-of-type {\n",
              "        vertical-align: middle;\n",
              "    }\n",
              "\n",
              "    .dataframe tbody tr th {\n",
              "        vertical-align: top;\n",
              "    }\n",
              "\n",
              "    .dataframe thead th {\n",
              "        text-align: right;\n",
              "    }\n",
              "</style>\n",
              "<table border=\"1\" class=\"dataframe\">\n",
              "  <thead>\n",
              "    <tr style=\"text-align: right;\">\n",
              "      <th></th>\n",
              "      <th>text</th>\n",
              "      <th>label</th>\n",
              "    </tr>\n",
              "  </thead>\n",
              "  <tbody>\n",
              "    <tr>\n",
              "      <th>0</th>\n",
              "      <td>As Marias pegaram o COVID-19. Jogam tão mal que estão tremendo de febre. #CAMxCRU</td>\n",
              "      <td>NEGATIVE</td>\n",
              "    </tr>\n",
              "    <tr>\n",
              "      <th>1</th>\n",
              "      <td>Hospital de Cataguases procura médicos para atuarem em novos leitos de UTI exclusivos para Covid-19 http://dlvr.it/RXgvBv</td>\n",
              "      <td>NEGATIVE</td>\n",
              "    </tr>\n",
              "    <tr>\n",
              "      <th>2</th>\n",
              "      <td>Estudei curvas epidemiológicas de Covid-19 em +150 países. Não há nada parecido com o Brasil. Há 2 meses, estamos estacionados em mil mortes/dia. ...</td>\n",
              "      <td>POSITIVE</td>\n",
              "    </tr>\n",
              "    <tr>\n",
              "      <th>3</th>\n",
              "      <td>Casa da Cultura reabre as portas após novas medidas sanitárias contra a Covid-19</td>\n",
              "      <td>NEGATIVE</td>\n",
              "    </tr>\n",
              "    <tr>\n",
              "      <th>4</th>\n",
              "      <td>Existe profilaxia para COVID-19? E tratamento? Post do Synapse baseado no posicionamento da SBPT</td>\n",
              "      <td>NEGATIVE</td>\n",
              "    </tr>\n",
              "  </tbody>\n",
              "</table>\n",
              "</div>"
            ],
            "text/plain": [
              "                                                                                                                                                    text     label\n",
              "0                                                                      As Marias pegaram o COVID-19. Jogam tão mal que estão tremendo de febre. #CAMxCRU  NEGATIVE\n",
              "1                              Hospital de Cataguases procura médicos para atuarem em novos leitos de UTI exclusivos para Covid-19 http://dlvr.it/RXgvBv  NEGATIVE\n",
              "2  Estudei curvas epidemiológicas de Covid-19 em +150 países. Não há nada parecido com o Brasil. Há 2 meses, estamos estacionados em mil mortes/dia. ...  POSITIVE\n",
              "3                                                                      Casa da Cultura reabre as portas após novas medidas sanitárias contra a Covid-19   NEGATIVE\n",
              "4                                                      Existe profilaxia para COVID-19? E tratamento? Post do Synapse baseado no posicionamento da SBPT   NEGATIVE"
            ]
          },
          "metadata": {
            "tags": []
          },
          "execution_count": 30
        }
      ]
    },
    {
      "cell_type": "code",
      "metadata": {
        "id": "FTWRuoXaGu1r",
        "colab_type": "code",
        "colab": {
          "base_uri": "https://localhost:8080/",
          "height": 702
        },
        "outputId": "913f1e6a-a27e-417c-fbf3-62b37fa24ce7"
      },
      "source": [
        "#Classification\n",
        "\n",
        "classification_freq = vectorizer.transform(input['text'])\n",
        "\n",
        "classification_results = []\n",
        "for i, rep, ret, f, h, t, p, d, ti, c in zip(input['id'], input['replies'], input['retweets'], input['favorites'], input['hashtags'], input['text'], input['permalink'], input['date'], input['time'], model.predict(classification_freq)):\n",
        "  classification_results.append([i, rep, ret, f, h, t, p, d, ti, c])\n",
        "\n",
        "pd.set_option('max_colwidth', 150)\n",
        "classification_df = pd.DataFrame(classification_results, columns = ['id', 'replies', 'retweets', 'favorites', 'hashtags', 'text', 'permalink', 'date', 'time', 'label'])\n",
        "print(len(classification_df))\n",
        "classification_df[:100]"
      ],
      "execution_count": null,
      "outputs": [
        {
          "output_type": "execute_result",
          "data": {
            "text/html": [
              "<div>\n",
              "<style scoped>\n",
              "    .dataframe tbody tr th:only-of-type {\n",
              "        vertical-align: middle;\n",
              "    }\n",
              "\n",
              "    .dataframe tbody tr th {\n",
              "        vertical-align: top;\n",
              "    }\n",
              "\n",
              "    .dataframe thead th {\n",
              "        text-align: right;\n",
              "    }\n",
              "</style>\n",
              "<table border=\"1\" class=\"dataframe\">\n",
              "  <thead>\n",
              "    <tr style=\"text-align: right;\">\n",
              "      <th></th>\n",
              "      <th>id</th>\n",
              "      <th>replies</th>\n",
              "      <th>retweets</th>\n",
              "      <th>favorites</th>\n",
              "      <th>hashtags</th>\n",
              "      <th>text</th>\n",
              "      <th>permalink</th>\n",
              "      <th>date</th>\n",
              "      <th>time</th>\n",
              "      <th>label</th>\n",
              "    </tr>\n",
              "  </thead>\n",
              "  <tbody>\n",
              "    <tr>\n",
              "      <th>0</th>\n",
              "      <td>1231729904355565569</td>\n",
              "      <td>0</td>\n",
              "      <td>5</td>\n",
              "      <td>17</td>\n",
              "      <td>#coronavirus #COVID19</td>\n",
              "      <td>#coronavirus #COVID19 Dr. Brett Sutton, diretor de saúde da Austrália, Victoria: \"Está claro que, com a transmissão local em vários países, uma pa...</td>\n",
              "      <td>https://twitter.com/ale_giseli/status/1231729904355565569</td>\n",
              "      <td>2020-02-23</td>\n",
              "      <td>23:57:48</td>\n",
              "      <td>NEGATIVE</td>\n",
              "    </tr>\n",
              "    <tr>\n",
              "      <th>1</th>\n",
              "      <td>1231729546451464194</td>\n",
              "      <td>0</td>\n",
              "      <td>0</td>\n",
              "      <td>0</td>\n",
              "      <td>NaN</td>\n",
              "      <td>Covid-19: Áustria levanta suspensão de ligações ferroviárias com Itália</td>\n",
              "      <td>https://twitter.com/JornalDestak/status/1231729546451464194</td>\n",
              "      <td>2020-02-23</td>\n",
              "      <td>23:56:22</td>\n",
              "      <td>POSITIVE</td>\n",
              "    </tr>\n",
              "    <tr>\n",
              "      <th>2</th>\n",
              "      <td>1231729407280189443</td>\n",
              "      <td>0</td>\n",
              "      <td>6</td>\n",
              "      <td>25</td>\n",
              "      <td>NaN</td>\n",
              "      <td>O vírus COVID-19 (Coronavírus) tem apresentado taxa de mortalidade acima do que se previa inicialmente. Até agora, são 2.469 mortes para 23.391 pa...</td>\n",
              "      <td>https://twitter.com/aurelioschommer/status/1231729407280189443</td>\n",
              "      <td>2020-02-23</td>\n",
              "      <td>23:55:49</td>\n",
              "      <td>NEGATIVE</td>\n",
              "    </tr>\n",
              "    <tr>\n",
              "      <th>3</th>\n",
              "      <td>1231727186689896448</td>\n",
              "      <td>0</td>\n",
              "      <td>0</td>\n",
              "      <td>1</td>\n",
              "      <td>#COVID19 #coronavirus</td>\n",
              "      <td>#COVID19 em Cingapura - IMPORTANTE ARTIGO \"Experiência atual - Problemas globais críticos que exigem atenção e ação\" #coronavirus Singapore—Experi...</td>\n",
              "      <td>https://twitter.com/ale_giseli/status/1231727186689896448</td>\n",
              "      <td>2020-02-23</td>\n",
              "      <td>23:47:00</td>\n",
              "      <td>POSITIVE</td>\n",
              "    </tr>\n",
              "    <tr>\n",
              "      <th>4</th>\n",
              "      <td>1231726365789032449</td>\n",
              "      <td>2</td>\n",
              "      <td>3</td>\n",
              "      <td>19</td>\n",
              "      <td>NaN</td>\n",
              "      <td>Explosão do surto de COVID-19 (Coronavírus) na Itália e na Coreia do Sul provoca reações na abertura dos mercados (asiáticos). O Petróleo WTI recu...</td>\n",
              "      <td>https://twitter.com/aurelioschommer/status/1231726365789032449</td>\n",
              "      <td>2020-02-23</td>\n",
              "      <td>23:43:44</td>\n",
              "      <td>POSITIVE</td>\n",
              "    </tr>\n",
              "    <tr>\n",
              "      <th>...</th>\n",
              "      <td>...</td>\n",
              "      <td>...</td>\n",
              "      <td>...</td>\n",
              "      <td>...</td>\n",
              "      <td>...</td>\n",
              "      <td>...</td>\n",
              "      <td>...</td>\n",
              "      <td>...</td>\n",
              "      <td>...</td>\n",
              "      <td>...</td>\n",
              "    </tr>\n",
              "    <tr>\n",
              "      <th>95</th>\n",
              "      <td>1231652338366124033</td>\n",
              "      <td>0</td>\n",
              "      <td>0</td>\n",
              "      <td>1</td>\n",
              "      <td>NaN</td>\n",
              "      <td>Covid-19 = Chernobyl disaster Exclusivo para partidos comunistas</td>\n",
              "      <td>https://twitter.com/Luisjoseworld/status/1231652338366124033</td>\n",
              "      <td>2020-02-23</td>\n",
              "      <td>18:49:35</td>\n",
              "      <td>NEGATIVE</td>\n",
              "    </tr>\n",
              "    <tr>\n",
              "      <th>96</th>\n",
              "      <td>1231651213164384256</td>\n",
              "      <td>1</td>\n",
              "      <td>0</td>\n",
              "      <td>0</td>\n",
              "      <td>#Covid_19</td>\n",
              "      <td>23.094 recuperados, quase mais 2000 em relação a ontem. este foi o relatório diário do #Covid_19. continuação de bom Domingo.</td>\n",
              "      <td>https://twitter.com/sozekeyser/status/1231651213164384256</td>\n",
              "      <td>2020-02-23</td>\n",
              "      <td>18:45:06</td>\n",
              "      <td>POSITIVE</td>\n",
              "    </tr>\n",
              "    <tr>\n",
              "      <th>97</th>\n",
              "      <td>1231650348642848769</td>\n",
              "      <td>0</td>\n",
              "      <td>1</td>\n",
              "      <td>0</td>\n",
              "      <td>#Atualidade</td>\n",
              "      <td>Itália anuncia terceira morte por Covid-19 #Atualidade</td>\n",
              "      <td>https://twitter.com/ECO_PT/status/1231650348642848769</td>\n",
              "      <td>2020-02-23</td>\n",
              "      <td>18:41:40</td>\n",
              "      <td>NEGATIVE</td>\n",
              "    </tr>\n",
              "    <tr>\n",
              "      <th>98</th>\n",
              "      <td>1231648810964791302</td>\n",
              "      <td>0</td>\n",
              "      <td>1</td>\n",
              "      <td>2</td>\n",
              "      <td>#FMI #coronav #Covid19</td>\n",
              "      <td>O Fundo Monetário Internacional (#FMI) alertou que o surto do novo #coronavírus (#Covid19) coloca em risco a recuperação económica mundial e manif...</td>\n",
              "      <td>https://twitter.com/Atlantide4world/status/1231648810964791302</td>\n",
              "      <td>2020-02-23</td>\n",
              "      <td>18:35:34</td>\n",
              "      <td>POSITIVE</td>\n",
              "    </tr>\n",
              "    <tr>\n",
              "      <th>99</th>\n",
              "      <td>1231648442340069378</td>\n",
              "      <td>1</td>\n",
              "      <td>6</td>\n",
              "      <td>12</td>\n",
              "      <td>NaN</td>\n",
              "      <td>VÍRUS CONTAGIA O DINHEIRO Os donos do dinheiro grosso agora mostram que têm medo da Covid-19, a doença nova do coronavirus, nome de ficção científ...</td>\n",
              "      <td>https://twitter.com/vtorresfreire/status/1231648442340069378</td>\n",
              "      <td>2020-02-23</td>\n",
              "      <td>18:34:06</td>\n",
              "      <td>NEGATIVE</td>\n",
              "    </tr>\n",
              "  </tbody>\n",
              "</table>\n",
              "<p>100 rows × 10 columns</p>\n",
              "</div>"
            ],
            "text/plain": [
              "                     id  replies  retweets  ...        date      time     label\n",
              "0   1231729904355565569        0         5  ...  2020-02-23  23:57:48  NEGATIVE\n",
              "1   1231729546451464194        0         0  ...  2020-02-23  23:56:22  POSITIVE\n",
              "2   1231729407280189443        0         6  ...  2020-02-23  23:55:49  NEGATIVE\n",
              "3   1231727186689896448        0         0  ...  2020-02-23  23:47:00  POSITIVE\n",
              "4   1231726365789032449        2         3  ...  2020-02-23  23:43:44  POSITIVE\n",
              "..                  ...      ...       ...  ...         ...       ...       ...\n",
              "95  1231652338366124033        0         0  ...  2020-02-23  18:49:35  NEGATIVE\n",
              "96  1231651213164384256        1         0  ...  2020-02-23  18:45:06  POSITIVE\n",
              "97  1231650348642848769        0         1  ...  2020-02-23  18:41:40  NEGATIVE\n",
              "98  1231648810964791302        0         1  ...  2020-02-23  18:35:34  POSITIVE\n",
              "99  1231648442340069378        1         6  ...  2020-02-23  18:34:06  NEGATIVE\n",
              "\n",
              "[100 rows x 10 columns]"
            ]
          },
          "metadata": {
            "tags": []
          },
          "execution_count": 36
        }
      ]
    },
    {
      "cell_type": "code",
      "metadata": {
        "id": "DOo5yr8WJmmm",
        "colab_type": "code",
        "colab": {
          "base_uri": "https://localhost:8080/",
          "height": 35
        },
        "outputId": "8103cabf-0ef8-47d1-fd23-8cf37bd8ac0d"
      },
      "source": [
        "filename = 'covid_19_classified_dataset.csv'\n",
        "save_df_to_csv_file(classification_df, filename)"
      ],
      "execution_count": null,
      "outputs": [
        {
          "output_type": "execute_result",
          "data": {
            "text/plain": [
              "59848"
            ]
          },
          "metadata": {
            "tags": []
          },
          "execution_count": 38
        }
      ]
    },
    {
      "cell_type": "code",
      "metadata": {
        "id": "pTQweqz6Srfc",
        "colab_type": "code",
        "colab": {}
      },
      "source": [
        ""
      ],
      "execution_count": null,
      "outputs": []
    },
    {
      "cell_type": "markdown",
      "metadata": {
        "id": "yzITojzEJDEp",
        "colab_type": "text"
      },
      "source": [
        "## Filters"
      ]
    },
    {
      "cell_type": "markdown",
      "metadata": {
        "id": "Qr3NP98WHg0P",
        "colab_type": "text"
      },
      "source": [
        "### Hashtags frequency"
      ]
    },
    {
      "cell_type": "code",
      "metadata": {
        "id": "Z4yItgxRJHB1",
        "colab_type": "code",
        "colab": {
          "base_uri": "https://localhost:8080/",
          "height": 467
        },
        "outputId": "105dae97-c1c0-4f4c-9abf-c763972dffb5"
      },
      "source": [
        "def twitter_hastag():\n",
        "  hashtags = filter(lambda x: x != \"\", df['hashtags'])\n",
        "  hashtags = ' '.join(list(hashtags)).split(' ')\n",
        "\n",
        "  hashtag_frequency = FreqDist(hashtags)\n",
        "\n",
        "  print(hashtag_frequency.pprint(10))\n",
        "  print()\n",
        "  hashtag_frequency.plot(10, title=\"Hashtags for \\\"%s\\\" between %s - %s\"%(twitter__query, period[0], period[1]))\n",
        "\n",
        "twitter_hastag()"
      ],
      "execution_count": null,
      "outputs": [
        {
          "output_type": "stream",
          "text": [
            "FreqDist({'#COVID19': 4624, '#covid19': 2317, '#coronavirus': 2190, '#Covid19': 1799, '#Covid_19': 1662, '#FiqueEmCasa': 1056, '#coronavirusbrasil': 803, '#coronav': 772, '#coronavirusnobrasil': 635, '#Coronav': 604, ...})\n",
            "None\n",
            "\n"
          ],
          "name": "stdout"
        },
        {
          "output_type": "display_data",
          "data": {
            "image/png": "[encoded data removed]",
            "text/plain": [
              "<Figure size 432x288 with 1 Axes>"
            ]
          },
          "metadata": {
            "tags": [],
            "needs_background": "light"
          }
        }
      ]
    },
    {
      "cell_type": "markdown",
      "metadata": {
        "id": "qAEU2YVyUuLr",
        "colab_type": "text"
      },
      "source": [
        "### Mentions"
      ]
    },
    {
      "cell_type": "code",
      "metadata": {
        "id": "fSo14KUkUvqo",
        "colab_type": "code",
        "colab": {
          "base_uri": "https://localhost:8080/",
          "height": 441
        },
        "outputId": "bb2cd40e-a2e5-44ba-8796-24ae18f9a5ef"
      },
      "source": [
        "def twitter_mentions():\n",
        "  mentions = filter(lambda x: x != \"\", df['mentions'])\n",
        "  mentions = ' '.join(list(mentions)).split(' ')\n",
        "\n",
        "  mentions_frequency = FreqDist(mentions)\n",
        "\n",
        "  print(mentions_frequency.pprint(10))\n",
        "  print()\n",
        "  mentions_frequency.plot(10, title=\"Mentions for \\\"%s\\\" between %s - %s\"%(twitter__query, period[0], period[1]))\n",
        "\n",
        "twitter_mentions()"
      ],
      "execution_count": null,
      "outputs": [
        {
          "output_type": "stream",
          "text": [
            "FreqDist({'@jairbolsonaro': 621, '@YouTube': 425, '@UOL': 399, '@UOLNoticias': 338, '@minsaude': 328, '@jornalnacional': 182, '@change_br': 136, '@RodrigoMaia': 98, '@portalR7': 94, '@lhmandetta': 93, ...})\n",
            "None\n",
            "\n"
          ],
          "name": "stdout"
        },
        {
          "output_type": "display_data",
          "data": {
            "image/png": "[encoded data removed]",
            "text/plain": [
              "<Figure size 432x288 with 1 Axes>"
            ]
          },
          "metadata": {
            "tags": [],
            "needs_background": "light"
          }
        }
      ]
    },
    {
      "cell_type": "markdown",
      "metadata": {
        "id": "j5-3qaxkJNrd",
        "colab_type": "text"
      },
      "source": [
        "### Word Count"
      ]
    },
    {
      "cell_type": "code",
      "metadata": {
        "id": "eJTRjAU4JPuH",
        "colab_type": "code",
        "colab": {
          "base_uri": "https://localhost:8080/",
          "height": 403
        },
        "outputId": "8249c7e6-8e16-4d2c-edb4-e5bf32ba70e7"
      },
      "source": [
        "def twitter_wordcount():\n",
        "  text_list = filter(lambda x: x != \"\", sample['text'])\n",
        "  text_list = ' '.join(list(text_list)).split(' ')\n",
        "\n",
        "  clean_text = []\n",
        "  for text in text_list:\n",
        "    clean_text += remove_stopwords(text)\n",
        "\n",
        "  word_frequency = FreqDist(clean_text)\n",
        "\n",
        "  print(word_frequency.pprint(25))\n",
        "  print()\n",
        "  word_frequency.plot(10, title=\"Words for \\\"%s\\\" between %s - %s\"%(twitter__query, period[0], period[1]))\n",
        "\n",
        "twitter_wordcount()"
      ],
      "execution_count": null,
      "outputs": [
        {
          "output_type": "stream",
          "text": [
            "FreqDist({'covid-19': 718, 'covid19': 224, 'https': 196, 'casos': 182, 'brasil': 169, 'mortes': 131, 'saúde': 71, 'mil': 68, 'covid': 65, 'sobre': 62, 'coronavírus': 61, 'pandemia': 59, 'coronavirus': 58, 'estado': 57, 'contra': 57, 'via': 57, 'http': 52, 'bolsonaro': 51, 'confirmados': 51, 'dia': 49, 'hoje': 47, 'pra': 46, 'mundo': 45, 'mortos': 44, 'pessoas': 43, ...})\n",
            "None\n",
            "\n"
          ],
          "name": "stdout"
        },
        {
          "output_type": "display_data",
          "data": {
            "image/png": "[encoded data removed]",
            "text/plain": [
              "<Figure size 432x288 with 1 Axes>"
            ]
          },
          "metadata": {
            "tags": [],
            "needs_background": "light"
          }
        }
      ]
    },
    {
      "cell_type": "markdown",
      "metadata": {
        "id": "CUg4LsRRqHeW",
        "colab_type": "text"
      },
      "source": [
        "# News Module"
      ]
    },
    {
      "cell_type": "markdown",
      "metadata": {
        "id": "nsE0jFaP2Qig",
        "colab_type": "text"
      },
      "source": [
        "## G1/Globo"
      ]
    },
    {
      "cell_type": "markdown",
      "metadata": {
        "id": "Zq11HgqbqOwo",
        "colab_type": "text"
      },
      "source": [
        "### Config"
      ]
    },
    {
      "cell_type": "code",
      "metadata": {
        "id": "CL8sgv1TqKpz",
        "colab_type": "code",
        "colab": {}
      },
      "source": [
        "news__query = query\n",
        "min_results_day = 20\n",
        "\n",
        "#source urls\n",
        "source_search_base_url = 'https://g1.globo.com/busca/?'\n",
        "web_archive_search_base_url = 'https://web.archive.org/web/'\n",
        "\n",
        "#selectors\n",
        "result_href_selector = 'div[class*=\"widget--info__text-container\"] > a[href^=\"//g1.globo.com/busca/\"]'\n",
        "\n",
        "title_selector = 'h1[class*=\"content-head__title\"]'\n",
        "subtitle_selector = 'div[class*=\"medium-centered subtitle\"]'\n",
        "content_selector = 'p[class*=\"content-text__container\"]'\n",
        "date_selector = 'p[class*=\"content-publication-data__updated\"] > time'\n",
        "from_selector = 'p[class*=\"content-publication-data__from\"]'\n",
        "author_selector = 'p[class*=\"top__signature__text__author-name\"]'\n",
        "blockquote_content_selector = 'blockquote[class*=\"content-blockquote\"]'\n",
        "media_description_selector = 'p[class*=\"content-media__description\"]'\n",
        "\n",
        "#regex rules\n",
        "regex_rule_1 = '(http[s]?:\\/\\/g1.globo.com)+[^\\s([\"<,>]*\\.[^\\s[\",><]*'\n",
        "regex_rule_2 = '\\/video|ao-vivo\\/'\n",
        "\n",
        "date_regex = '\\d{4}(\\/)(((0)[0-9])|((1)[0-2]))(\\/)([0-2][0-9]|(3)[0-1])'\n",
        "\n",
        "news__filename = 'news_g1_dataset-%s-from_%s_to_%s'%(news__query, period[0], period[1])\n",
        "news__columns = ['id', 'date', 'time', 'title', 'subtitle', 'url', 'text']"
      ],
      "execution_count": null,
      "outputs": []
    },
    {
      "cell_type": "markdown",
      "metadata": {
        "id": "q6TYzEZOsNJX",
        "colab_type": "text"
      },
      "source": [
        "### Scraping"
      ]
    },
    {
      "cell_type": "code",
      "metadata": {
        "id": "TVosLbg1sPNp",
        "colab_type": "code",
        "colab": {}
      },
      "source": [
        "def parse_urls_from(content):\n",
        "  soup = BeautifulSoup(content)\n",
        "  hrefs = soup.select(result_href_selector)\n",
        "  \n",
        "  urls = []\n",
        "\n",
        "  for hr in hrefs:\n",
        "      href = hr['href']\n",
        "      encoded_href = href.split('&')[3][2:]\n",
        "      decoded_href = urllib.parse.unquote(encoded_href)\n",
        "\n",
        "      rule_1 = re.search(regex_rule_1, decoded_href)\n",
        "      rule_2 = re.search(regex_rule_2, decoded_href)\n",
        "\n",
        "      if rule_1 and not rule_2:\n",
        "          urls.append(decoded_href)\n",
        "  \n",
        "  return urls\n",
        "\n",
        "def results_by_page():\n",
        "  species = \"not%C3%ADcias\"\n",
        "  results = []\n",
        "  # date_range_weeks = pd.date_range(start = period[0], end = period[1], freq='W')\n",
        "\n",
        "  # i = 0\n",
        "  # while True:\n",
        "    # if (i + 1 >= len(date_range_weeks)): break\n",
        "\n",
        "    # date_range = pd.date_range(start = date_range_weeks[i], end = date_range_weeks[i + 1])\n",
        "  date_range = pd.date_range(start = period[0], end = period[1])\n",
        "    # i += 1\n",
        "\n",
        "  j = 0\n",
        "  while True:\n",
        "    if (j + 1 > len(date_range)): break\n",
        "\n",
        "    date_start = str(date_range[j].date())\n",
        "    #date_end = str(date_range[j+1].date())\n",
        "    date_end = str(date_range[j].date())\n",
        "    \n",
        "    j += 1\n",
        "\n",
        "    #for page_n in range(1, 5):\n",
        "    for page_n in range(1, 2):\n",
        "      params = 'https://g1.globo.com/busca/?q=%s&page=%s&order=relevant&from=%s&to=%s&species=%s'%(\n",
        "          news__query,\n",
        "          page_n,\n",
        "          date_start+\"T00%3A00%3A00-0300\",\n",
        "          date_end+\"T23%3A59%3A59-0300\",\n",
        "          species\n",
        "      )\n",
        "      #print(\"[INFO][...] {} | page {}\".format(date_start, page_n))\n",
        "      #print(\"[INFO][...] {}\".format(params))\n",
        "      \n",
        "      try:\n",
        "        response = urllib.request.urlopen(params)\n",
        "        content = response.read().decode('utf-8', 'ignore')\n",
        "        page_results = parse_urls_from(content)\n",
        "        results += page_results\n",
        "        #print(\"[INFO][...] {} results\".format(len(page_results)))\n",
        "        \n",
        "      except Exception as e:\n",
        "        print(e)\n",
        "\n",
        "  return results\n",
        "\n",
        "def bulk_results():\n",
        "  results = []\n",
        "  \n",
        "  new_results = results_by_page()\n",
        "  #if (len(new_results) == 0 or len(results) >= min_results_day): break\n",
        "  results += new_results\n",
        "\n",
        "  print(\"[INFO][...] {} news found\".format(len(results)))\n",
        "  return results"
      ],
      "execution_count": null,
      "outputs": []
    },
    {
      "cell_type": "markdown",
      "metadata": {
        "id": "8LyQmSzEsXji",
        "colab_type": "text"
      },
      "source": [
        "### Wayback Machine"
      ]
    },
    {
      "cell_type": "code",
      "metadata": {
        "id": "ACBde9qksZyP",
        "colab_type": "code",
        "colab": {}
      },
      "source": [
        "def get_content_from(url):\n",
        "  content = ''\n",
        "  try:\n",
        "    request_url = 'https://web.archive.org/web/%s'%(url)\n",
        "    #print('[Original] %s'%url)\n",
        "    #print('[Archive] %s'%request_url)\n",
        "    response = urllib.request.urlopen(request_url)\n",
        "    content = response.read().decode('utf-8', 'ignore')\n",
        "  except Exception as e:\n",
        "    print(\"[ERROR][{}] {}\".format(log_time(), e))\n",
        "    print(e)\n",
        "  \n",
        "  return content"
      ],
      "execution_count": null,
      "outputs": []
    },
    {
      "cell_type": "markdown",
      "metadata": {
        "id": "fF1L0Btb7cH2",
        "colab_type": "text"
      },
      "source": [
        "### Parse Content"
      ]
    },
    {
      "cell_type": "code",
      "metadata": {
        "id": "d5DYYM9qspkT",
        "colab_type": "code",
        "colab": {}
      },
      "source": [
        "def parse_content_from(news):\n",
        "  soup = BeautifulSoup(news)\n",
        "\n",
        "  title = soup.select(title_selector)[0].get_text()+'.' if soup.select(title_selector) else ''\n",
        "  subtitle = soup.select(subtitle_selector)[0].get_text()+'.' if soup.select(subtitle_selector) else ''\n",
        "  date = soup.select(date_selector)[0].get_text() if soup.select(date_selector) else ''\n",
        "  #author = soup.select(author_selector)[0].get_text() if soup.select(author_selector) else ''\n",
        "  #media_author = soup.select(from_selector)[0].get_text() if soup.select(from_selector) else ''\n",
        "  contents = soup.select(content_selector)\n",
        "  blockquote_contents = soup.select(blockquote_content_selector)\n",
        "  #media_descriptions = soup.select(media_description_selector)\n",
        "\n",
        "  text = ''\n",
        "  text += title.strip()\n",
        "  text += subtitle.strip()\n",
        "  \n",
        "  if date:\n",
        "    date = datetime.strptime(date.strip(), '%d/%m/%Y %Hh%M')\n",
        "\n",
        "  for c in contents:\n",
        "    text += c.get_text()\n",
        "\n",
        "  for bqc in blockquote_contents:\n",
        "    text += bqc.get_text()+'.'\n",
        "\n",
        "  #for md in media_descriptions:\n",
        "  #    text += md.get_text()+'.'\n",
        "\n",
        "  return title, subtitle, date, text\n",
        "          \n",
        "  #return text"
      ],
      "execution_count": null,
      "outputs": []
    },
    {
      "cell_type": "markdown",
      "metadata": {
        "id": "Knpru8367pv2",
        "colab_type": "text"
      },
      "source": [
        "### Fetch and save"
      ]
    },
    {
      "cell_type": "code",
      "metadata": {
        "id": "xKa_9nmi6rXz",
        "colab_type": "code",
        "colab": {}
      },
      "source": [
        "start_time = print_exec_start()\n",
        "\n",
        "urls = []\n",
        "urls = bulk_results()\n",
        "save_txt_to_drive(urls, 'g1_news_url_list')\n",
        "print(\"[INFO][{}] saving {} urls\".format(log_time(), len(urls)))\n",
        "\n",
        "print_exec_time(start_time)"
      ],
      "execution_count": null,
      "outputs": []
    },
    {
      "cell_type": "code",
      "metadata": {
        "id": "4TJO38qNEdzk",
        "colab_type": "code",
        "colab": {
          "base_uri": "https://localhost:8080/",
          "height": 1000
        },
        "outputId": "39b97a1c-6d0d-47b9-c331-4d8bf4b9bdd6"
      },
      "source": [
        "start_time = print_exec_start()\n",
        "\n",
        "news = ''\n",
        "news_list = []\n",
        "count = 0\n",
        "\n",
        "urls = load_txt_from_drive(list, 'g1_news_url_list')\n",
        "\n",
        "for index, url in enumerate(urls, start=1):\n",
        "  news = get_content_from(url)\n",
        "  title, subtitle, date, text = parse_content_from(news)\n",
        "  #date = re.search(date_regex, url).group(0)\n",
        "  id = generate_hash_md5(url)\n",
        "\n",
        "  d = {\n",
        "    'id': id,\n",
        "    'date': date.date() if date else '',\n",
        "    'time': date.time() if date else '',\n",
        "    'title': title,\n",
        "    'subtitle': subtitle,\n",
        "    'url': url,\n",
        "    'text': text,\n",
        "  }\n",
        "  news_list.append(d)\n",
        "  print(\"[INFO][...] {} {} {}\".format(id, date, title))\n",
        "\n",
        "  if ((index % 100) == 0):\n",
        "    print(\"[INFO][..ZzZz..] Saving and going to take a nap\")\n",
        "    news_df = pd.DataFrame(news_list, columns=news__columns)\n",
        "    save_csv_to_drive(news_df, news__filename+'_'+str(index))\n",
        "    count += len(news_list)\n",
        "    news_list = []\n",
        "\n",
        "    time.sleep(60*5)\n",
        "\n",
        "if news_list:\n",
        "  print(\"[INFO][...] Saving\")\n",
        "  count += len(news_list)\n",
        "\n",
        "  news_df = pd.DataFrame(news_list, columns=news__columns)\n",
        "  save_csv_to_drive(news_df, news__filename+'_'+str(count))\n",
        "  print(\"[INFO][{}] {} news collected\".format(log_time(), count))\n",
        "\n",
        "print_exec_time(start_time)"
      ],
      "execution_count": null,
      "outputs": [
        {
          "output_type": "stream",
          "text": [
            "--- Started at 2020/08/26 13:04\n",
            "[INFO][...] 9cd6fd395d763c724d91b3f1481a96bb 2020-02-23 12:07:00 Coreia do Sul ativa nível mais elevado de alerta por causa do novo coronavírus.\n",
            "[INFO][...] 73a983b66f19bd972fced57aab0bb717 2020-02-23 13:05:00 UE ainda não vê 'motivos para pânico' com surto do coronavírus na Itália, diz comissário europeu.\n",
            "[INFO][...] b14751286e9aca5a66f69ba1e662e2ab 2020-02-23 13:09:00 Coronavírus: mineiros que estavam em quarentena chegam a Lagoa Santa neste domingo.\n",
            "[INFO][...] e7209410a4ad66bc9421dd047e34ee18 2020-02-23 11:23:00 Coronavírus: mineiros que estavam em quarentena devem chegar a Lagoa Santa neste domingo.\n",
            "[INFO][...] cffe372052219eb58938c26df47f0210 2020-02-23 20:19:00 Itália suspende tradicional festa de carnaval em Veneza para conter surto de coronavírus.\n",
            "[INFO][...] d678546814f0d0e2304660ad0bda81dd 2020-02-23 08:39:00 Itália decreta 'toque de recolher' em regiões onde há casos do novo coronavírus.\n",
            "[INFO][...] 97b32d50140d43da27c65e87396292bb 2020-02-23 11:32:00 A história de Cixí, a poderosa imperatriz que controlava a China no século 19 e ajudou a modernizar o país.\n",
            "[INFO][...] f7beb414473be113eee4137af23a8f83 2020-02-23 14:14:00 UFPB publica edital com 128 vagas para cursos gratuitos de violão, bandolim e cavaquinho.\n",
            "[INFO][...] f2d0945f89fd1e5787a120b7119da636 2020-02-23 14:07:00 Enquanto Isso na Sala da Justiça reúne heróis, vilões e até Zé do Caixão nas ladeiras de Olinda.\n",
            "[INFO][...] 5219fa974894dac74b666346062809af 2020-02-23 20:02:00 Turista britânico que fugiu de hospital em Fortaleza é encontrado desorientado.\n",
            "[INFO][...] cc675e55dce9e5a49a289e22c68b22d3 2020-02-23 11:28:00 Japão confirma terceira morte causada pelo novo coronavírus em cruzeiro.\n",
            "[INFO][...] e505f69ac5f48ae86264076427aefd06 2020-02-23 13:45:00 Reino Unido confirma mais 4 casos do novo coronavírus.\n",
            "[INFO][...] c8418969fc114c4a446e6e9a1a842732 2020-02-23 13:23:00 Crescimento global será modesto em 2020 e 2021, preveem líderes financeiros no G20.\n",
            "[INFO][...] d759e8d2f07a7c2e453d92a4689f6112 2020-02-23 17:55:00 ‘Só de estar perto da família a gente já se sente melhor’, diz mineiro após sair de quarentena do coronavírus.\n",
            "[INFO][...] a472a6806684bb2e0f86f749aadff0ce 2020-02-23 11:00:00 Grupo deixa a quarentena na Base Aérea de Anápolis após 14 dias.\n",
            "[INFO][...] 60006402c50caba96dd88fd398638a5b 2020-02-24 08:27:00 Pesquisa sobre Mers feita com macacos aponta que remédio pode ser útil contra Covid-19.\n",
            "[INFO][...] 0765bdb33d845ead88434665520fc8b2 2020-02-24 17:26:00 SP investiga dois casos suspeitos de coronavírus na capital e um no interior.\n",
            "[INFO][...] a285e40ebd3ce033963c9ad9f0f72ac3 2020-02-24 13:38:00 Carnaval de Veneza: foliões adaptam fantasias para se proteger contra surto de coronavírus na Itália.\n",
            "[INFO][...] fac23bd7f152fb613691189ce43708d0 2020-02-24 15:48:00 Transporte público vazio e filas nos mercados: brasileiros em Milão relatam apreensão por coronavírus.\n",
            "[INFO][...] a559ef5a5cdbbdbc0e172200eebe246f 2020-02-23 12:29:00 Coronavírus: 9 repatriados que estavam em Anápolis chegam ao DF.\n",
            "[INFO][...] 734eff8a8100d7b0b544293ab8b8f778 2020-02-24 13:00:00 Lei Seca: operação já autuou 19 motoristas dirigindo sob efeito de álcool no carnaval do AP.\n",
            "[INFO][...] 31369b93112136282ba76e78063e6ba8 2020-02-24 19:56:00 Em seis dias, número de casos de Síndrome Respiratória Aguda Grave sobe para 193 no AM; 27 pessoas já morreram.\n",
            "[INFO][...] f3679c649b17ee07291754196a7d809d 2020-02-24 12:26:00 Família com criança de 2 anos é presa suspeita de tentar embarcar com 19 kg de cocaína no Aeroporto Afonso Pena.\n",
            "[INFO][...] 467efe4a2f306f314df8a1fbd241a327 2020-02-24 17:03:00 Chuvas deixam Avenida 23 de maio submersa e interditam Túnel do Anhangabaú, no Centro de SP.\n",
            "[INFO][...] a2d1877cc660b9e31bcbc489f25947a0 2020-02-24 19:01:00 Número de casos de embriaguez nas BRs do Tocantins durante carnaval já supera o registrado em 2019.\n",
            "[INFO][...] 80fff7f18999b1d0bdb381e009ac91d1 2020-02-24 12:10:00 'Ela estava cansada, mas foi uma fofa', diz jovem que tirou foto com Bruna Marquezine no carnaval de Salvador .\n",
            "[INFO][...] 03e07f14a353f73c48a78f4eb4fb3cb6 2020-02-23 07:40:00 Número de infectados pelo novo coronavírus na China passa dos 77 mil.\n",
            "[INFO][...] 11d4c40d7d889d456cb18d256a343e9b 2020-02-24 18:56:00 Temor com coronavírus derruba ativos brasileiros em NY.\n",
            "[INFO][...] fdd15a978d9598028ab8f38a8b8c06fc 2020-02-24 11:45:00 OMS descarta 'pandemia' para coronavírus, mas diz que surto ainda é emergência internacional.\n",
            "[INFO][...] 7d656ff3aad4afecb9a5ced82c8fbd7f 2020-02-24 22:10:00 China registra 77,6 mil casos de pessoas infectadas pelo novo coronavírus.\n",
            "[INFO][...] c53fa9be44aeaa76a09acc5751acaa55 2020-02-25 13:21:00 Itália confirma mais 4 mortes por Covid-19; país tem 323 casos.\n",
            "[INFO][...] ad1e1280c649fce471b4395c75a71e01 2020-02-25 17:06:00 Coronavírus: como a taxa de mortalidade do covid-19 se compara com outras doenças infecciosas.\n",
            "[INFO][...] 5993b425b33277832e6ae252994d34c6 2020-02-25 16:47:00 SP investiga três casos suspeitos de coronavírus na capital e um no interior.\n",
            "[INFO][...] 37a382eda37b00cc48f325fdf65b652c 2020-02-25 10:58:00 Brasileira no Irã relata preocupação das pessoas com avanço do novo coronavírus.\n",
            "[INFO][...] cbec6e4e635b1b9cb1196ecbe48ad689 2020-02-24 17:44:00 Brasil tem 4 casos suspeitos de novo coronavírus; outros 54 foram descartados.\n",
            "[INFO][...] ac7b351c05c1d8302070f0f41b815536 2020-02-25 16:43:00 Brasil tem 4 casos suspeitos de novo coronavírus, todos no estado de São Paulo; outros 55 foram descartados.\n",
            "[INFO][...] 9255e64e5c88ab284b6eba584a35e4ed 2020-02-25 09:10:00 Irã, Coreia do Sul, Ilhas Canárias, sul da Itália: novo coronavírus se espalha e causa novas mortes, quarentena em hotel e suspensão de voos.\n",
            "[INFO][...] 969a00f056357f6f0805b3f279d923c2 2020-02-24 20:11:00 Brasil dobra número de países em monitoramento de casos suspeitos de novo coronavírus; Itália, França e Alemanha entram na lista.\n",
            "[INFO][...] c41d3a6d2c9c1df6b3fe2c39d4db6cc7 2020-02-25 05:01:00 Frente fria deixa o tempo instável em Santa Catarina nesta terça-feira.\n",
            "[INFO][...] 7adc49dedbd59ce8a8d391e55b93e6bc 2020-02-25 20:08:00 Argélia confirma primeiro caso de coronavírus; País é o segundo na África.\n",
            "[INFO][...] 7f85afe06e3969d069b27de8f10810ae 2020-02-25 12:34:00 O que é uma pandemia e por que o atual surto de coronavírus ainda não é uma.\n",
            "[INFO][...] 56a1b4116d9c85ef953d317463757e7d 2020-02-25 15:46:00 EUA avisam população para se preparar para o coronavírus.\n",
            "[INFO][...] 85a36526d1caba000dfec069c25bbca6 2020-02-25 06:24:00 Coronavírus 'No início era uma piada, mas agora há sensação de medo' - o clima em Veneza após alta de infecções.\n",
            "[INFO][...] 291749da190cd0cc5dbf6ba42d61be4c 2020-02-25 08:50:00 Bolsas da Europa fecham novamente em queda com temores de avanço do coronavírus no continente.\n",
            "[INFO][...] 4d4a46e23bd098483cac0cb9d44eae52 2020-02-25 20:30:00 Ministério da Saúde investiga possível paciente com coronavírus em SP; caso foi para contraprova .\n",
            "[INFO][...] b62ee58050a0dfa3c80ab2accc35620f 2020-02-26 08:07:00 Grécia confirma primeiro caso de Covid-19.\n",
            "[INFO][...] 4ed1c952545215ca0893ab24b4c641f4 2020-02-26 08:17:00 Itália confirma 12ª morte por Covid-19.\n",
            "[INFO][...] 0068e65417b66aa4793273c7ba297dba 2020-02-26 18:45:00 Novo coronavírus: médico brasileiro lidera estudo nos EUA com o remédio considerado mais promissor para a cura de Covid-19.\n",
            "[INFO][...] 6037a23a820c2787a0802a367a659375 2020-02-26 07:56:00 China tem mais de 78 mil casos de Covid-19 e anuncia quarentena para turistas de países atingidos.\n",
            "[INFO][...] d19c1372267fb877e47449e91f8def0b 2020-02-26 19:11:00 Covid-19: brasileiro enfrenta 50 horas de viagem para levar 30 mil máscaras de Campinas à China.\n",
            "[INFO][...] 4d90c3eb5b12f05e3cb8379ad53ea50b  \n",
            "[INFO][...] 3bbdb96fdd8a676ffa01e91e6537def0 2020-02-26 12:58:00  Além do Brasil, outros países confirmam primeiros casos de novo coronavírus; veja quais são.\n",
            "[INFO][...] 664080b3f7be7fefa2b71e379677ebfb 2020-02-26 18:34:00 Veja como hóspedes de hotel na Espanha enfrentam quarentena por novo coronavírus.\n",
            "[INFO][...] ebc7f20146fd1431147db6278b5c7ad2 2020-02-26 20:39:00 Ao menos 40 países têm casos confirmados de coronavírus, incluindo a China.\n",
            "[INFO][...] d552c41d81a0f6b9df7a4fbf38e05522 2020-02-26 13:49:00 Mineiras relatam corrida aos supermercados e isolamento em cidades na Itália por coronavírus.\n",
            "[INFO][...] 74f622dfe26f81e0932d88ba60d5e382 2020-02-26 13:09:00 Coronavírus: moradores da região de Campinas que estão na Itália tranquilizam sobre casos.\n",
            "[INFO][...] 9afcce591b4ca2bd7bb166978d3a96b0 2020-02-26 17:42:00 Confirmação do novo coronavírus no Brasil representa perigo? Há motivo para pânico? .\n",
            "[INFO][...] 0d65a681dc352471cde6d16d49d0b7fb 2020-02-26 15:56:00 Coronavírus: brasileiras na Itália relatam corrida aos supermercados, além de bares e museus fechados .\n",
            "[INFO][...] d640566f420d182ecd650a1770f99c30 2020-02-26 20:55:00 30 vagas são oferecidas em curso gratuito na área de saúde, em Manaus; Inscrições iniciam nesta sexta-feira (28).\n",
            "[INFO][...] f40005083d1db9f47ccc29a98d694808 2020-02-26 18:05:00 Professor é condenado por maus-tratos após pendurar aluno de 5 anos pelo pescoço em SC.\n",
            "[INFO][...] a1ed5f22c1a1efd325ab1b4110df8d79 2020-02-27 08:44:00 Dinamarca e Estônia registram primeiros casos de Covid-19.\n",
            "[INFO][...] 1140c9383e032cea28e78a90c395cf6d 2020-02-27 14:10:00 Casal pode ter espalhado novo coronavírus no norte da Alemanha.\n",
            "[INFO][...] 17dd1612edc28d5a92ba61abd08fcab1 2020-02-27 17:32:00 Ministério da Saúde confirma 5 casos suspeitos de coronavírus no DF.\n",
            "[INFO][...] b3819c17f89611501e16c022c28812bd 2020-02-27 22:18:00 Brasil já tem 132 casos suspeitos de novo coronavírus .\n",
            "[INFO][...] 66f3ab9466011e93c43554b63ea14a15 2020-02-27 22:25:00 Ministério da Saúde antecipa campanha de vacinação contra gripe .\n",
            "[INFO][...] be74e1aa1e809aab0b46e3392aa760c3 2020-02-27 08:46:00 Últimas notícias de coronavírus de 27 de fevereiro.\n",
            "[INFO][...] 89d1e29107ba2cd6c0f98ac50bb69e93  \n",
            "[INFO][...] fa46a33635022fcfef85ff323ffa877a 2020-02-27 21:26:00 Nos EUA, brasileiro lidera estudo de remédios contra novo coronavírus.\n",
            "[INFO][...] cf07fb2ae83d7f5d5e86990110e3a8aa 2020-02-27 17:01:00 Comerciante de Mogi visita a Itália e fala do clima no país por causa do coronavirus.\n",
            "[INFO][...] fa9de22fe444fbb343bea11ec0d2dc87  \n",
            "[INFO][...] 2d3ef00376902e50676c9451d81e2250 2020-02-27 17:00:00 Qual é a origem do novo coronavírus?.\n",
            "[INFO][...] d61b8f9dd5167256f84156fd8ec939fd 2020-02-27 22:21:00 Secretaria de Saúde de SP monitora pessoas que estiveram com infectado por coronavírus.\n",
            "[INFO][...] 4f490ac682879e24df3f67cfc5567cf7  \n",
            "[INFO][...] b72c12864fbe811221b379083649498d 2020-02-27 19:38:00 O clima no Brasil pode ajudar a combater o novo coronavírus?.\n",
            "[INFO][...] 1325c85ae1c915f6ae5380e8cb1f4223 2020-02-27 15:12:00 Atletas de SP lamentam suspensão de maratona em Tóquio após surto de coronavírus.\n",
            "[INFO][...] 71c514075dc8fe7df7d10d1793ea62ba 2020-02-28 10:25:00 México confirma primeiro caso de Covid-19.\n",
            "[INFO][...] debcffa0ed52e64b9f0202d2e47a6930 2020-02-28 08:43:00 Coronavírus: casos suspeitos de Covid-19 em PE devem ser levados a isolamento domiciliar, diz secretário.\n",
            "[INFO][...] 0e6851653e5fab20dd698ecf628fb17d 2020-02-28 00:57:00 Número de casos do novo coronavírus na Coreia do Sul chega a 2.022.\n",
            "[INFO][...] f5e492ab758ada0b675283d5d487c4ed 2020-02-28 10:59:00 EUA oferece ajuda ao Irã para combater epidemia de coronavírus.\n",
            "[INFO][...] 50efed854b0e64195f91c44006276ec0 2020-02-28 21:33:00 OMS eleva grau de risco do novo coronarvírus de alto para muito alto.\n",
            "[INFO][...] 66194c171f33c9e7347cc4c7f956ec4c 2020-02-28 18:42:00 Coronavírus: Grávidas correm mais riscos?.\n",
            "[INFO][...] b857e58c9f1d7f9dc19db487198a50e9 2020-02-28 21:35:00 Exames de 3 parentes do paciente de SP infectado por coronavírus dão negativo .\n",
            "[INFO][...] fe8c475c44015f41a61710843481321d 2020-02-28 12:50:00 Coronavírus: Hospital Regional de Uberaba tem leitos aptos para atender pacientes com suspeita da doença.\n",
            "[ERROR][2020/08/26 13:20] HTTP Error 404: NOT FOUND\n",
            "HTTP Error 404: NOT FOUND\n",
            "[INFO][...] 3b3fda819a0bc1835630b226407347c6  \n",
            "[INFO][...] d1377457c853255835837f6e2ea6c95a 2020-02-28 21:19:00 GloboNews Internacional #27: coronavírus no mundo.\n",
            "[INFO][...] 3ce8c220f011540f1d75959d6f3dafe9 2020-02-28 21:37:00 Nos EUA, mercado tem a pior semana desde 2008 por causa do novo coronavírus.\n",
            "[INFO][...] 8f7dedf210f3e9b387ddc71200337af9 2020-02-28 21:51:00 SP treinou quatro mil profissionais para orientar sobre novo coronavírus.\n",
            "[INFO][...] 5eeba0566a2edefe64ed9cd385dfd732 2020-02-28 08:29:00 Coronavírus causa cancelamento do Salão de Genebra 2020 às vésperas do evento.\n",
            "[INFO][...] f9b4f6c07cbdba770a9849d708fd0f49 2020-02-28 11:51:00 Fed poderá proteger economia americana do novo coronavírus?.\n",
            "[INFO][...] 52159ecbdce89a60f2f3a0b179ca0951 2020-02-27 14:04:00 Coronavírus: Brasil tem capacidade de resposta em larga escala, diz diretor-executivo da OMS.\n",
            "[INFO][...] f4bb73e1c9b1e891e767effe5a8bf126 2020-02-29 23:11:00 Austrália confirma primeira morte por novo coronavírus; paciente estava em navio de cruzeiro no Japão.\n",
            "[INFO][...] 508bdf1120b8f5cd1796b63829cef175 2020-02-29 02:58:00 Kim Jong-un adverte para 'consequências graves' do coronavírus na Coreia do Norte.\n",
            "[INFO][...] 86acce4aec2cc11c974ca2adb4fa695d 2020-02-29 20:59:00 Casos do novo coronavírus no mundo passam de 85.400, diz OMS.\n",
            "[INFO][...] 286bc4ca81dad7ac5ed3cdd5ef1f8ac5 2020-02-29 20:23:00 RJ tem 19 casos suspeitos de coronavírus, diz Ministério da Saúde.\n",
            "[INFO][...] 2b5b29fd53b734489a36eaa823746ef4 2020-02-29 11:15:00 Jovem é assassinado com cinco tiros em Porto Real.\n",
            "[INFO][...] 0d6af34e52276f34fd9ed4889ba76c18 2020-02-29 14:03:00 Final regional da F1 nas Escolas é neste domingo, em Brasília.\n",
            "[INFO][...] bebac7f0993e785f814908efd04bd8cc 2020-02-29 19:41:00 Polícia Militar prende rapaz em flagrante por porte ilegal de arma de fogo e tráfico de droga em Presidente Prudente.\n",
            "[INFO][...] 364c344117d5377544c3859722ffd602 2020-02-29 19:52:00 Após 'arrastão', nº de celulares furtados ou roubados na Avenida Paulista cresce 47% em janeiro.\n",
            "[INFO][...] 4d77214d2412eb2b5afaa4f3b2987935 2020-02-29 20:45:00 Caso suspeito de coronavírus em Santarém é descartado pela Sespa.\n",
            "[INFO][...] c62264ab4129469d97bda1c6f59dff76 2020-02-29 11:40:00 Caso suspeito de coronavírus em São Carlos foi notificado por Guarulhos, afirma Vigilância.\n",
            "[INFO][..ZzZz..] Saving and going to take a nap\n",
            "[INFO][...] 6941ed9d3896829003d48dfeb8f06276 2020-02-29 17:46:00 Segundo caso de novo coronavírus no Brasil é confirmado em São Paulo.\n",
            "[INFO][...] 2ca1369eebfe9c83d5ee4b23c45f70e9 2020-02-29 12:31:00 Secretaria da Saúde de Valinhos investiga 2º caso suspeito de coronavírus.\n",
            "[INFO][...] f7209479a88564917f7da9545e3d87f5 2020-02-29 17:43:00 Secretaria de Saúde de Santarém investiga caso suspeito de coronavírus.\n",
            "[INFO][...] dde94fa7d1a438a07822e44dd90648b0 2020-02-29 10:26:00 Anvisa amplia normas de vigilância contra o novo coronavirus nos portos.\n",
            "[INFO][...] b64b2b6e487c21d69fa0d4f7ac26a13c 2020-02-29 08:22:00 Últimas notícias de coronavírus de 29 de fevereiro.\n",
            "[INFO][...] 750984ab700da8655413529e571d0dcf 2020-03-01 02:40:00 Armênia tem primeiro caso de coronavírus.\n",
            "[INFO][...] b5279b669099a0790ff51289fbc1c736 2020-03-01 21:17:00 Usar máscara previne o novo coronavírus? Infectologistas tiram dúvidas .\n",
            "[INFO][...] 4ea9eb7d3047cf78416481a116081253 2020-03-01 16:56:00 Corpo de jovem de 19 anos é achado dentro de poço artesiano em Costa Marques, RO.\n",
            "[INFO][...] cb2add301f8c56b40df4c62b7611346b 2020-03-01 15:06:00 Sete integrantes de grupo especializado em roubo a bancos com explosivos são condenados pela Justiça de Goiás.\n",
            "[INFO][...] d1296c8a822d5023fc51dbadea0de923 2020-03-01 15:54:00 Brasil tem 252 casos suspeitos de novo coronavírus, diz Ministério da Saúde.\n",
            "[INFO][...] 458d12d0c6f284eff609fefd3082fb44 2020-03-01 15:22:00 Secretaria da Saúde de Vinhedo investiga caso suspeito de coronavírus.\n",
            "[INFO][...] c53b3eb2e025201409d7ad7cefa228e9 2020-03-01 12:01:00 Dois casos suspeitos do novo coronavírus no Paraná são descartados, diz Secretaria da Saúde.\n",
            "[INFO][...] 67305cc67d11d62e71a16a4260bcac4d 2020-03-01 08:13:00 Últimas notícias de coronavírus de 1º de março.\n",
            "[INFO][...] 8b2ac71cfe009f2ed8243f2149efb8a0 2020-03-01 16:20:00 Cinco dos seis casos suspeitos de coronavírus estão descartados no ES, diz Secretaria de Saúde.\n",
            "[INFO][...] 1b558ebe4d9f1d02b0722f3d50b2debb 2020-03-01 09:52:00 Museu do Louvre fecha para reunião de funcionários sobre o coronavírus.\n",
            "[INFO][...] 8252a6aa119e5ddd159ea9a1e430c2a9 2020-03-01 15:20:00 Paciente monitorada com suspeita de coronavírus apresenta melhora dos sintomas, diz SES .\n",
            "[INFO][...] 2c690ca4fb8649a4522a956c6c2056d3 2020-03-01 06:55:00 Brasileira é alvo de bullying por conta de coronavírus: 'me senti humilhada'.\n",
            "[INFO][...] a20ac23c30bce2726dedb0b2353feee4 2020-03-01 16:54:00 Sespa descarta suspeita de coronavírus em paciente de Belém.\n",
            "[INFO][...] 7726f8bb193d1a40fac52770075ff7ed 2020-03-01 18:17:00 Coronavírus: Secretaria de Saúde descarta mais um caso suspeito e investiga cinco em Pernambuco.\n",
            "[INFO][...] 960b511a9725b1873656d2776d5de704 2020-03-01 10:17:00 Acidente com seis mortes em Taquari, casos suspeitos de coronavírus, e outras notícias da semana no RS.\n",
            "[INFO][...] d1f507ecb3091e411e486f4ac7ec15dc 2020-03-02 07:15:00 Portugal confirma primeiro caso de Covid-19.\n",
            "[INFO][...] b468ef4993b87b1ddb495897a4149abd 2020-03-02 08:18:00 Membro do conselho do líder supremo do Irã morre de Covid-19.\n",
            "[INFO][...] 8d808fb5c78578de362666c3725a877e 2020-03-02 09:42:00 Coreia do Sul denuncia líder religioso por obstruir investigação de novos casos de Covid-19.\n",
            "[INFO][...] 7fbf099de9b4b23294c45b0c788107ab 2020-03-02 10:54:00 Wuhan fecha hospital temporário e comemora queda de novos casos de Covid-19 no epicentro do surto.\n",
            "[INFO][...] df29f4614c1ed7dccfda8869eb586e9a 2020-03-02 21:09:00 Número de casos suspeitos do novo coronavírus no Brasil sobe para 433.\n",
            "[INFO][...] c14278ec7fd3a241afda74bc442337b6 2020-03-02 12:20:00 Em meio à crise do coronavírus, ministro deixa Merkel 'no vácuo' e recusa aperto de mão; veja vídeo .\n",
            "[INFO][...] 598d1084506399810700ff09777b48b3 2020-03-02 21:14:00 Governo descarta segundo caso suspeito do novo coronavírus no MA.\n",
            "[INFO][...] c3c6c0d41ca40022ea892218a2d63c22 2020-03-02 18:32:00 Um caso suspeito de coronavírus em AL é descartado; há novos 3 pacientes sendo investigados.\n",
            "[INFO][...] 72392d49c1926620e864ddf3285d5d73 2020-03-02 07:55:00 Últimas notícias de coronavírus de 2 de março.\n",
            "[INFO][...] 5c52a656663f09ffdd806aa955934e7c 2020-03-01 20:47:00 UFJF deve receber mais de 19 mil alunos na volta às aulas.\n",
            "[INFO][...] 143b0538c8a0636769037ae3d966966a 2020-03-02 19:56:00 Aeroportos do Rio tiveram 15 voos cancelados devido ao mau tempo nesta segunda.\n",
            "[INFO][...] bef73e3e51fd5bbdd359b7e214c07f02 2020-03-02 16:57:00 Dois militares são denunciados pela morte de jovem e lesão em menor durante blitz na Zona Oeste do Rio.\n",
            "[INFO][...] db0f98a139b06165832b07fdd30e62af 2020-03-02 10:05:00 Estudante transexual é agredida por grupo após sair de casa noturna em Franca, SP .\n",
            "[INFO][...] f56fe9cdadda6a0fa4c15d41fb511272 2020-03-02 00:39:00 Três brasileiras interpretam Donna Summer em musical dirigido por Miguel Falabella.\n",
            "[INFO][...] d69bd6ea1ab913b9311a97dcf022bc6b 2020-03-02 19:01:00 Mais de 60% dos países atingidos pelo Covid-19 têm apenas casos importados da doença.\n",
            "[INFO][...] 6f8d4904368fdfdcf282d1e0066dba68 2020-03-03 14:07:00 OMS alerta para mau uso de equipamentos de proteção contra o Covid-19; França confisca estoques.\n",
            "[INFO][...] a3e369a6fc608f2296f1806a61f0d3d4 2020-03-03 16:59:00 Secretaria de Saúde descarta dois casos suspeitos de coronavírus em MT e outros seis ainda são investigados .\n",
            "[INFO][...] d2f97d64365441843aee42550cbae568 2020-03-03 19:07:00 Paraná dobra número de suspeitas do novo coronavírus em investigação, diz ministério.\n",
            "[INFO][...] d8613a2a7991c6c53172953fda727565 2020-03-03 06:41:00 Papa Francisco tem um resfriado, diz Vaticano após notícia sobre teste de novo coronavírus.\n",
            "[ERROR][2020/08/26 13:35] HTTP Error 404: NOT FOUND\n",
            "HTTP Error 404: NOT FOUND\n",
            "[INFO][...] 2f725e0bad37aa245da4db78b41c6468  \n",
            "[INFO][...] 9548af0e1c763bc1361732f55ff6e878 2020-03-03 14:16:00 Secretaria de Saúde de Maricá, RJ, descarta caso suspeito de coronavírus.\n",
            "[INFO][...] da8fab3d167545279be560506843b62f 2020-03-03 06:36:00 Pequim impõe quarentena a quem chegar de Itália, Irã, Japão e Coreia do Sul.\n",
            "[INFO][...] 879333f5035515dbd97ff18285c53d59 2020-03-03 15:51:00 Jovem com suspeita de coronavírus relata preconceito durante isolamento no interior de SP: 'Espalharam minhas fotos'.\n",
            "[INFO][...] 9d0c39947036a49276acce901df3dc7e 2020-03-03 17:53:00 Chega a 19 o número de casos suspeitos de coronavírus no Ceará.\n",
            "[INFO][...] 8c9605996eeff9d14399a19e135232bc 2020-03-03 13:08:00 Alunos de escolas estaduais da região de Itapetininga ficam sem aulas.\n",
            "[INFO][...] 24125577eee16cbc46edb5c4d854ceda 2020-03-03 16:40:00 Reuniões do FMI e Banco Mundial serão virtuais devido ao coronavírus.\n",
            "[INFO][...] 79cfad0b07a7d32ba1a5b7c25fcb7020 2020-03-03 07:00:00 Inscrições para disputar vagas remanescentes da UFT terminam nesta terça (3).\n",
            "[INFO][...] fef71472a98a3fb671ca618290269fab 2020-03-03 17:16:00 Morre taxista esfaqueado em Santana do Livramento.\n",
            "[INFO][...] 8ead6ec3baf49a245405450a4b193c1c 2020-03-03 13:29:00 Mãe denuncia que desmaiou após hospital informar falsa morte de DJ agredido em festa de Goiânia.\n",
            "[INFO][...] 62ad17ee9ad16ba3ac7cc4b95dc96ae2 2020-03-04 10:59:00 Covid-19: novos testes descartam suspeitas de coronavírus na região de Ribeirão Preto, SP.\n",
            "[INFO][...] 3c7a10f81a2310df727f2f21bb6df984 2020-03-04 05:02:00 Covid-19 se espalhou pelo mundo mais devagar do que o H1N1, aponta levantamento.\n",
            "[INFO][...] 6aef7c0a8c51c00fcb0257aeccfdcb61 2020-03-04 13:47:00 Itália fechará escolas até 15 de março contra o coronavírus; estratégia já foi adotada em outros países.\n",
            "[INFO][...] eb54ad25b951632ee4389d545f92ee2a 2020-03-04 09:43:00 Iraque confirma a primeira morte provocada pelo novo coronavírus.\n",
            "[INFO][...] 38f929df6f2ab639a72dbe7080f9b210 2020-03-03 15:07:00 Jovem e mulher de Uberaba com suspeita de coronavírus apresentam resultado negativo para H1N1.\n",
            "[INFO][...] 33be97eb5fb15feb4f81a69ca1190909 2020-03-04 10:06:00 Jovem de 19 anos é baleado e morre dentro de mercantil de Cascavel, na Grande Fortaleza.\n",
            "[ERROR][2020/08/26 13:38] HTTP Error 404: NOT FOUND\n",
            "HTTP Error 404: NOT FOUND\n",
            "[INFO][...] 3f4cb37f0c1a5e83b1e5d4b1557a30ad  \n",
            "[INFO][...] f0c1157e82cea2983478b9c73c478234 2020-03-04 17:05:00 Seminário Diocesano abre na segunda (9) o novenário de São José em Petrolina.\n",
            "[INFO][...] c512520453ce1b611ec1dcfcf6d8431e 2020-03-04 13:46:00 Três penitenciárias de MS são alvo de operação contra o tráfico de drogas .\n",
            "[INFO][...] f9ab78bc99f0b6bbfba44204a050986e 2020-03-04 08:47:00 Adolescente e jovem são assassinados e mulher é baleada na cabeça em MT.\n",
            "[INFO][...] f684923c64a939e12b76b2fb369cfd70 2020-03-04 11:03:00 Casal é assassinado a tiros em praça na Zona Norte do Recife.\n",
            "[INFO][...] 4d9492bf3d88a5d86466c5b9cf98bd99 2020-03-04 18:57:00 Estudante transexual agredida em Franca, SP, diz que foi vítima de preconceito e machismo.\n",
            "[INFO][...] edb0f9061d075916b490f0cb74b7200a 2020-03-04 10:00:00 Palestra sobre as eleições 2020 está com inscrições abertas em Petrolina.\n",
            "[INFO][...] a4b13ca1250bad7eae570b8ade76a466 2020-03-04 19:01:00 Rio Grande do Sul chega a quase 100 casos suspeitos de coronavírus .\n",
            "[INFO][...] a17dca8fb868549fbdd61eeaddd348ad 2020-03-04 12:10:00 Estudo preliminar da China aponta duas variações principais do novo coronavírus .\n",
            "[INFO][...] 7cd6306b816fd14959c8f0e54d175f7d 2020-03-05 10:21:00 África do Sul confirma primeiro caso de Covid-19.\n",
            "[ERROR][2020/08/26 13:40] HTTP Error 404: NOT FOUND\n",
            "HTTP Error 404: NOT FOUND\n",
            "[INFO][...] 9445b524c708553d1971181d496cdef9  \n",
            "[INFO][...] 1dac050365a8b40d5bf0e0f6c7b18600 2020-03-05 21:12:00 Nos EUA, temor pelo novo coronavírus impede navio de atracar na Califórnia.\n",
            "[INFO][...] 045762842345e532acbb9b0aae3b0eda 2020-03-05 21:47:00 OMS não fala em pandemia, apesar do alcance do novo coronavírus.\n",
            "[INFO][...] 492086569ad00bb700a5622602f53b3c 2020-03-05 21:49:00 Itália registra mais de 3.800 casos do novo coronavírus.\n",
            "[INFO][...] 977cadecdca7c36e2f9561cd9f284c0c 2020-03-05 21:44:00 Novo coronavírus impacta mercado e dólar chega a R$ 4,65.\n",
            "[INFO][...] 84c6ad97d3abf45fcb353f09d27b8eb2 2020-03-05 10:23:00 Diocese de Marília orienta fiéis a evitar saudação de paz nas igrejas como prevenção ao coronavírus .\n",
            "[INFO][...] 1246726eaed7c96b5bf630d823825e26 2020-03-05 16:14:00 Brasil tem oito casos confirmados de novo coronavírus, diz Ministério da Saúde.\n",
            "[INFO][...] bae1b5a93a281141f73c393ca0a8011d 2020-03-05 15:23:00 Pessoas sem sintomas não são as principais responsáveis pela transmissão do coronavírus, diz OMS.\n",
            "[INFO][...] d39ac23f697202789020bd0da2e965ea 2020-03-05 21:59:00 Número de casos do novo coronavírus no Brasil sobe para oito.\n",
            "[INFO][...] 4e4e911c40476d57ee39345e522d9b3d 2020-03-05 20:24:00 Paciente que testou positivo para coronavírus no DF está internada em UTI.\n",
            "[INFO][...] ee545dd3f5956c1663fefde579e896f1 2020-03-05 05:27:00 Obesidade atinge quase 19% da população do DF.\n",
            "[INFO][...] 9e8b1e5fac94d10da2bd4ce4119c6038 2020-03-05 15:58:00 Universidade de Fortaleza oferece 462 vagas em 19 cursos gratuitos.\n",
            "[INFO][...] e18351c45978486e26221c1a0c5a0084 2020-03-05 08:17:00 Basílica da Natividade em Belém será fechada por suspeita de coronavírus.\n",
            "[INFO][...] 49fde05c97dc704f0b2252addb9c63a9 2020-03-05 10:07:00 Pane elétrica em estação da Caern suspende fornecimento de água em 19 bairros de Natal; veja lista.\n",
            "[INFO][...] 8284dcbeff58fa9f42c166afe7906997 2020-03-06 21:11:00 Vinte e um passageiros de navio impedido de atracar em São Francisco estão com a Covid-19.\n",
            "[INFO][...] 6555b711b440be0fbab22e01e93fd87c 2020-02-28 14:10:00 Tenho viagem marcada para a China ou outros países com registro de coronavírus, o que fazer?.\n",
            "[INFO][...] 68581b2037fe55faa22fd0748c037afb 2020-02-27 19:19:00 Como o coronavírus é transmitido?.\n",
            "[INFO][...] c8a6877907851e0dd847f3ca6926be49 2020-03-06 01:00:00 Após ter casamento adiado por epidemia do novo coronavírus, enfermeiro reencontra noiva em hospital de Wuhan; VÍDEO.\n",
            "[INFO][...] ac3a2113fa713f40190be9d00bfa7e35 2020-03-06 21:00:00 Três suspeitas de novo coronavírus são descartadas e uma segue em investigação no ES.\n",
            "[INFO][...] 3c45b3c27290d120ed5c4e4d3ea48573 2020-03-06 12:47:00 Alemanha registra mais de 100 casos de coronavírus em apenas um dia.\n",
            "[INFO][...] 51aa854c164be97cd0556627171c9dca 2020-03-06 21:33:00 Passa de 100 mil o número de infectados pelo novo coronavírus no mundo.\n",
            "[INFO][...] 35e024810ec02cc25f27166e1d87ed12 2020-03-06 06:43:00 Últimas notícias de coronavírus de 6 de março.\n",
            "[INFO][...] e26c4b2d356aaecf199cb8b4a30e783c 2020-03-06 09:33:00 Fãs acompanham funeral de rapper Pop Smoke pelas ruas de NY; cortejo tem caixão em carruagem .\n",
            "[INFO][...] 66a1f91980644add688638d5cdff9542 2020-03-06 08:05:00 Chove em todo Distrito Federal; capital amanheceu coberta pela neblina.\n",
            "[INFO][...] 0f6013d7886cf01e25638a41fc063796 2020-03-06 19:12:00 Vereador que está preso desde dezembro é denunciado por associação para o tráfico de drogas em MT.\n",
            "[INFO][...] 62aacaecd0e2ce3ccfed82fa73d92141 2020-03-06 17:52:00 Foragido da Funase é preso com moto roubada em Carpina.\n",
            "[INFO][...] a7029d40a0dfb6fa1bf1c806dd4f0e8f 2020-03-06 08:00:00 'Ele estava jurado de morte', diz pai de jovem assassinado com tiro na cabeça em Palmas.\n",
            "[INFO][...] a730f65ed043cb52114db8065f32939e 2020-03-06 15:47:00 França: polícia prende homem acusado de raptar e torturar jovem que conheceu na internet.\n",
            "[INFO][...] bd1ce9ef5f1e641ecc60235d999b45c1 2020-03-06 08:05:00 Suspeitos de envolvimento em homicídio são detidos em Montes Claros; corpo foi encontrado em uma estrada na zona rural.\n",
            "[INFO][...] 3ed26da47ad7b7e36f33c9fe3284c4c2 2020-03-07 05:00:00 Inteligência artificial, exames e sequenciamento genético: como estão as pesquisas das universidades sobre o novo coronavírus.\n",
            "[INFO][...] c524115ebd25b575656ffd1537ad5f52 2020-03-07 14:57:00 Veja como famosos pontos turísticos ou de grande circulação pelo mundo foram afetados pelo coronavírus.\n",
            "[INFO][...] 9cc844373d2689c2e156c206d7aacb69 2020-03-07 18:23:00 Vigilância Epidemiológica registra 6º caso suspeito de coronavírus em São Carlos .\n",
            "[INFO][...] 2cb4c306acdf10cda60a1fa65d700279 2020-03-07 16:09:00 Coronavírus deixa mais de 200 mortos e cerca de 6.000 contaminados na Itália.\n",
            "[INFO][...] d38ab9bc89b83c0d8ee8eb6407481e30 2020-03-07 21:00:00 Secretaria da Saúde de SP monitora casos suspeitos do novo coronavírus pelo telefone diariamente.\n",
            "[INFO][...] eb0a314325dd6d0e49221c3f985db825 2020-03-07 11:28:00 Hotel desaba na China com 70 pessoas em quarentena por coronavírus.\n",
            "[INFO][..ZzZz..] Saving and going to take a nap\n",
            "[INFO][...] 21c32c3d026dbd6b8d78d31f21226b6b 2020-03-07 13:50:00 Deputada e mais 20 pacientes morrem em consequência do coronavírus no Irã.\n",
            "[INFO][...] 871936985458e5707f523b75232e8b5b 2020-03-07 20:59:00 Número de pacientes com o novo coronavírus no Brasil chega a 19.\n",
            "[INFO][...] 3b5451fd5dd686e74a356b39297584c9 2020-03-07 18:00:00 Ministério da Saúde confirma seis novos casos do novo coronavírus; agora são 19 no país.\n",
            "[INFO][...] 9e35217cc78534a051a02a6576181c8b 2020-03-07 14:56:00 Polícia apreende 73 pinos de cocaína e crack em Governador Valadares.\n",
            "[INFO][...] 234b3a5b6f7b9de5a93054fd9ae465e1 2020-03-07 07:22:00 Secretaria de Saúde confirma o 2º caso do novo coronavírus no RJ, o 1º na capital.\n",
            "[INFO][...] 9e77188d7f409035b090dfce0a5aeecc 2020-03-07 20:02:00 Mega-Sena, concurso 2.240: apostas de BH e de SP acertam as seis dezenas e ganham R$ 27,8 milhões cada uma.\n",
            "[INFO][...] 155d5d82809385dc80a7c4a2661f43c1 2020-03-07 07:00:00 Justiça de SP absolve cabeleireiro preso por 38 dias após ser acusado de roubo e reconhecido por tatuagem no rosto.\n",
            "[INFO][...] 0577880ec6d19c8ab6e269a8d59e739b 2020-03-07 21:14:00 Secretaria de Saúde de São Vicente monitora caso suspeito do novo coronavírus.\n",
            "[INFO][...] c4dc6562b603687b910316f9880811e8 2020-03-07 21:45:00 ES tem 15 casos suspeitos de novo coronavírus .\n",
            "[INFO][...] 38f625539206861bdaefe4503314b674 2020-03-07 21:07:00 Itália põe um quarto do país em quarentena e ordena fechamento de cinemas, teatros e museus.\n",
            "[INFO][...] 12c68509bfc3b1f3484b4d287e133028 2020-03-08 19:34:00 Coronavírus pode derrubar em até 15% investimento estrangeiro no mundo, diz Unctad .\n",
            "[INFO][...] 3eafddb8f63777d9fc8f8a9bf7e5c204 2020-03-08 08:09:00 Últimas notícias de coronavírus de 8 de março.\n",
            "[INFO][...] 9a6c7c1cb3ddb21ea4a39b9a370ce9a9 2020-03-08 21:38:00 Americano com novo coronavírus fala sobre doença: 'Já tive resfriados muito piores'.\n",
            "[INFO][...] a7ab89735900482839d04cef46914b01 2020-03-08 17:59:00 Jovem de 19 anos é morto a tiros em São Geraldo, na Serra, ES.\n",
            "[INFO][...] 68e7ac51e7d560e2b115eece2bb03df8 2020-03-08 13:00:00 Delegacia de mulher em Manaus registrou mais de 19 mil casos de violência no último ano.\n",
            "[INFO][...] 5725801e7b3e15a2e52cd156ee6f40c2 2020-03-08 09:34:00 Agricultores de SP começam colheita do amendoim otimistas com a safra.\n",
            "[INFO][...] 8f5e486f95fcdbaa8e12f1fbddf6bbd3 2020-03-08 13:04:00 Sebrae oferece curso a empreendedor que busca se qualificar em Fernandópolis.\n",
            "[INFO][...] d5054f6847f502b1b02813ed0d51f87c 2020-03-08 15:59:00 22 pessoas são presas e 30 veículos são apreendidos em operação Lei Seca em Sorriso (MT).\n",
            "[INFO][...] e1297a81bdbcca927729ef1b53bc00d6 2020-03-08 20:23:00 Corpo de jovem que estava desaparecido é encontrado na zona rural de Pindamonhangaba.\n",
            "[INFO][...] 45090ceb2b86d01f4a1d91c44592bbbf 2020-03-08 12:44:00 Marabaixo, batuque e 10 dias de festa organizada por jovens celebram São José, em Macapá.\n",
            "[INFO][...] c6a113eaed6a6570d45bbdbb676e9533 2020-03-08 15:43:00 Sem pistas, mãe sofre por filho desaparecido há oito dias no AC: ‘celular nem chama’.\n",
            "[INFO][...] bfbaea31d86bebd1d1381e22717a0153 2020-03-08 10:21:00 IFTO vai selecionar professores substitutos com salários de até R$ 5,8 mil.\n",
            "[INFO][...] 695ddeacdf2aefe844353e69a791beb1 2020-03-08 18:29:00 Hospital monitora jovem com suspeita de coronavírus em Francisco Santos, no Piauí.\n",
            "[INFO][...] 4a3e4393bf651d8a6c5e1efefd602c20 2020-03-08 18:58:00 Sespa investiga cinco casos suspeitos do novo coronavírus no Pará.\n",
            "[INFO][...] ececdc685d7b38010b97e1f88a66fac5 2020-03-09 09:19:00 Coronavírus: o efeito psicológico da quarentena forçada para tentar conter a Covid-19.\n",
            "[INFO][...] 3041d162890a027628734f41fdd60b2b 2020-03-09 12:32:00 Fiocruz no AM monta laboratório para diagnóstico de doenças como Covid-19.\n",
            "[INFO][...] 875f443704c5d3268b5908fd2c6e225f 2020-03-09 14:36:00 Flórida recomenda 14 dias de isolamento a todos os que retornarem aos EUA após viagem internacional.\n",
            "[INFO][...] 29527b59e8e03b496b28b1ffdbeb6638 2020-03-09 14:45:00 Museu do Louvre anuncia restrições de acesso por conta do coronavírus.\n",
            "[INFO][...] 28fa5154dafcddfe051105e93d215704 2020-03-09 09:23:00 'Pânico' com coronavírus 'não é compatível com a realidade', diz Mourão.\n",
            "[INFO][...] 984cf2fd1cf7576fa3c48586f81ed795 2020-03-09 13:19:00 Ministro francês é diagnosticado com novo coronavírus; presidente de Portugal está isolado.\n",
            "[INFO][...] 413db7a8cfecc5a25d724a3e8a29d1c8 2020-03-09 13:57:00 Saúde de Piracicaba chega a 11 suspeitas de coronavírus e Limeira monitora mais duas.\n",
            "[INFO][...] 23fa55910092c1f60799eda574afe566 2020-03-09 18:57:00 Indaiatuba investiga 1º caso suspeito de coronavírus; Valinhos e Vinhedo monitoram 15 pessoas.\n",
            "[INFO][...] 2bc51ab213fd552b4b3dc16a455461d5 2020-03-09 16:41:00 Receita em Alagoas recebe mais de 19 mil declarações do Imposto de Renda 2020 em uma semana.\n",
            "[INFO][...] ebc46c0c7187bd583846eb112c53ae52 2020-03-09 15:15:00 Senac Caruaru realiza roda de conversa 'Enfrentamentos do Ser Mulher'.\n",
            "[INFO][...] dbea4b694c1cb020c7506d6221cfcf09 2020-03-09 12:31:00 Tempo deve ser de sol entre nuvens durante a semana no Centro-Oeste de Minas.\n",
            "[INFO][...] 96ecd2e3446d41b65d3b81442e5506e0 2020-03-08 17:37:00 Paróquia divulga a programação dos festejos em homenagem a São José.\n",
            "[INFO][...] 3a98bdcd657abe4bc5c5d5f1508705d7 2020-03-09 15:40:00 Polícia Civil prende suspeito de estuprar jovem de 23 anos em Águas Claras, no DF.\n",
            "[INFO][...] 0d08be7c7ba204c08a8d900cc89ad197 2020-03-09 11:50:00 Adolescente de 16 anos é resgatada de cativeiro em Manaus; vítima era torturada, diz polícia .\n",
            "[INFO][...] f775fa68234ba530e266299eee4f6cdb 2020-03-09 11:07:00 Sol entre nuvens deve prevalecer e temperaturas aumentam nesta semana no Triângulo e Alto Paranaíba.\n",
            "[INFO][...] 60de056183b29b377c5cb4b3071dcd33 2020-03-10 09:14:00 Mortes por Covid-19 passam de 4 mil em todo o mundo.\n",
            "[INFO][...] f84335c0924e915a02c82033e6b435de 2020-03-10 15:20:00 Trump diz que não tem sintomas do novo coronavírus.\n",
            "[INFO][...] 0ef335212af041a310cb748be03b8d37 2020-03-10 18:14:00 Nova York fechará escolas de subúrbio no epicentro do surto de coronavírus; governador convoca Guarda Nacional.\n",
            "[INFO][...] 6b7f7964938118c545d461a48347dd5d 2020-03-10 10:59:00 Casos suspeitos de coronavírus no Piauí caem para 4; outros 4 foram descartados, diz Sesapi.\n",
            "[INFO][...] 69e9bcf0c4ee6b0dfc6b90e9595f6360 2020-03-10 11:59:00 PB tem 11 casos notificados por suspeita de coronavírus, diz SES; cinco seguem sob investigação .\n",
            "[INFO][...] 8f034cbbe038c7eb7a96516df69fe5a7 2020-03-10 06:39:00 Últimas notícias de coronavírus de 10 de março.\n",
            "[INFO][...] a3937ed8b132f81cb519a051ab605f5a 2020-03-09 20:29:00 Araguari registra primeiros casos de coronavírus em investigação; Triângulo e Alto Paranaíba somam 19 suspeitas.\n",
            "[INFO][...] f304833a1803fd733f9821ed5e4d8d9e 2020-03-10 17:01:00 Novo boletim da Secretaria de Saúde aponta 19 casos suspeitos de coronavírus no Sul de MG.\n",
            "[INFO][...] cf3865fa84b3095ee9c4a90840ce67ab 2020-03-10 12:00:00 Jovem de 19 anos é assassinado a tiros em frente de casa em MS .\n",
            "[INFO][...] 30ea0e1c681cb14adacf3ab17c10f591 2020-03-10 16:35:00 Serviço de manutenção deixa 19 bairros de Natal sem abastecimento de água na sexta-feira (13).\n",
            "[INFO][...] cd302f5711443d80a0b05c45043642dd 2020-03-10 16:48:00 São Paulo confirma mais 3 casos do novo coronavírus; total sobe para 19 no estado.\n",
            "[INFO][...] 4370fb4c612565507c00a57b817c630f 2020-03-10 17:23:00 Copasa divulga edital para leilão de veículos na unidade em Divinópolis.\n",
            "[INFO][...] cefbd83465a20378ab13ea8ff6ec45a9 2020-03-09 13:19:00 Polícia investiga morte de jovem e desaparecimento de motorista de aplicativo em Rio Claro.\n",
            "[INFO][...] 5b9433137a81010961907e80dbe2678a 2020-03-10 21:31:00 Sob forte chuva, carreata para São José abre homenagens ao padroeiro de Palmas.\n",
            "[INFO][...] 5a83f526f0f9ead416dcc78183365c90 2020-03-10 18:10:00 Motorista que estava desaparecido em Rio Claro se apresenta à polícia e é liberado.\n",
            "[INFO][...] ce0cb03ce9dd22ad60825b6c521c2655 2020-03-11 20:29:00 Governo anuncia medidas após decreto de pandemia de Covid-19.\n",
            "[INFO][...] 9c8a7c5a6f7dd79351f58f7e51d67ce4 2020-03-11 21:18:00 Decreto de pandemia de Covid-19 abala mercado financeiro global.\n",
            "[INFO][...] 737579e7749112527f966f642b9cdcff 2020-03-11 12:29:00 Região Metropolitana de Manaus recebe oficina para Plano de Contingências do Covid-19.\n",
            "[INFO][...] fe45df078446da21f22e6b38ec9c64c3 2020-03-11 15:17:00 Ministério da Saúde oficializa quatro novos casos suspeitos da Covid-19 no Maranhão.\n",
            "[INFO][...] 72a671bea99b2163a199fe59d6d30cd6 2020-03-10 22:12:00 Itália tem primeiro dia de isolamento por causa do novo coronavírus.\n",
            "[INFO][...] d74582dedaa8553837a0a42ecf44fd6c 2020-03-11 11:11:00 Governo do DF proíbe visitas a pacientes com coronavírus internados em UTI.\n",
            "[INFO][...] 74aee935d2be1e203eb5f7cc07465e34 2020-03-10 23:02:00 EUA têm mais de 900 casos de novo coronavírus com 29 mortes.\n",
            "[INFO][...] 8874ace81379523a1f4f5be345562fa3 2020-03-11 16:36:00 Atleta de MT não embarca para a Rússia após competição ser cancelada por pandemia de coronavírus.\n",
            "[INFO][...] a6962daa369815c5759e9678430efe3e 2020-03-10 21:48:00 Brasileiro contaminado com o novo coronavírus fala sobre a doença.\n",
            "[INFO][...] fba0a78b919301fb5d257a549d2d308b 2020-03-11 20:15:00 Saiba como a declaração de pandemia impacta as orientações do Ministério da Saúde contra o coronavírus.\n",
            "[INFO][...] 4a3fa4b09b2bb304311e162162f59de2 2020-03-11 14:13:00 Paciente com sintomas vindo de qualquer continente será considerado suspeito, diz ministro da Saúde .\n",
            "[INFO][...] f9775c96db3a07c0560d6f2338ffa5b1 2020-03-11 18:13:00 Após OMS declarar pandemia, Bolsonaro volta a falar sobre coronavírus: 'Outras gripes mataram mais do que essa'.\n",
            "[INFO][...] 1fed7a5f3dd6877b69229e1f9ae1bdd3 2020-03-11 13:28:00 OMS declara pandemia de coronavírus.\n",
            "[ERROR][2020/08/26 14:04] HTTP Error 404: NOT FOUND\n",
            "HTTP Error 404: NOT FOUND\n",
            "[INFO][...] c09ed907112c37aef471341be0090903  \n",
            "[INFO][...] 3d830101471401ebd7513bf1fee601b1 2020-03-11 13:16:00 Defesa Civil estuda retirar 19 famílias de áreas com risco de alagamento em Teresina.\n",
            "[ERROR][2020/08/26 14:04] HTTP Error 404: NOT FOUND\n",
            "HTTP Error 404: NOT FOUND\n",
            "[INFO][...] 1c25aec9f75e9f6a67af36148d7e0939  \n",
            "[INFO][...] 17fbbe59bc8f47f0d7f96cb70636b4e6 2020-03-12 21:22:00 Procedimentos básicos podem reduzir risco de transmissão da Covid-19.\n",
            "[INFO][...] 302715280f9e305c2e1f83ee291cd51d 2020-03-12 21:38:00 GP da Austrália de Fórmula 1 é cancelado por causa da Covid-19.\n",
            "[ERROR][2020/08/26 14:05] HTTP Error 404: NOT FOUND\n",
            "HTTP Error 404: NOT FOUND\n",
            "[INFO][...] d3b5fb5a90ff6d5edb79f00610a08722  \n",
            "[INFO][...] 181c0a58f158ce76649bddd7bb0707fd 2020-03-12 12:44:00 SUS prevê 2 mil leitos de UTI para tratar pacientes com Covid-19.\n",
            "[INFO][...] c20f2226ecec07bb02c26662c6aeca1d 2020-03-12 06:46:00 Desenrola, Rio #27: Como o estado se prepara para a pandemia de Covid-19.\n",
            "[ERROR][2020/08/26 14:05] HTTP Error 404: NOT FOUND\n",
            "HTTP Error 404: NOT FOUND\n",
            "[INFO][...] 80d75f803057e213abc214531819b6df  \n",
            "[INFO][...] f893ced6a24a375c68270469ba5037c9 2020-03-12 21:08:00 Com o avanço da Covid-19, governo prepara mais leitos em hospitais.\n",
            "[ERROR][2020/08/26 14:05] HTTP Error 404: NOT FOUND\n",
            "HTTP Error 404: NOT FOUND\n",
            "[INFO][...] fd541f82eb5e1e3e93c3e035ab1a323b  \n",
            "[ERROR][2020/08/26 14:05] HTTP Error 404: NOT FOUND\n",
            "HTTP Error 404: NOT FOUND\n",
            "[INFO][...] 8d7eab03f092019e4140cad482e9e7c3  \n",
            "[INFO][...] 4a3f8008f666300f93925b626f8ef866 2020-03-12 11:46:00 Coronavírus: Saúde convoca 5 mil profissionais pelo programa Mais Médicos.\n",
            "[ERROR][2020/08/26 14:06] HTTP Error 404: NOT FOUND\n",
            "HTTP Error 404: NOT FOUND\n",
            "[INFO][...] 8cd79e30ee587495dc9f0ac7f65e6a69  \n",
            "[INFO][...] c3589ebf32cc57ae1ac208034316cb13 2020-03-12 12:58:00 'Não estou preocupado', diz Trump sobre caso de coronavírus na comitiva de Bolsonaro que foi à Flórida.\n",
            "[INFO][...] 690b396791dc8cea01f86a97b4f60284 2020-03-12 21:51:00 Disney fecha parques nos EUA para conter novo coronavírus.\n",
            "[ERROR][2020/08/26 14:06] HTTP Error 404: NOT FOUND\n",
            "HTTP Error 404: NOT FOUND\n",
            "[INFO][...] 1ecaa5d1b1ef6774ca8709ae6d4e7602  \n",
            "[INFO][...] e4210866217312a2189e7a89040db4cb 2020-03-13 21:02:00 Governador e prefeito anunciam medidas para conter Covid-19 no Rio.\n",
            "[INFO][...] a55dce09d3a57647b7d7ef6a5adaf8de 2020-03-13 14:09:00 Sesapi afirma que vai alugar leitos de UTI para isolamento de possíveis pacientes de COVID-19.\n",
            "[INFO][...] 184341a96610fed062ff6f64485ac937 2020-03-13 21:24:00 Trump declara emergência nacional nos EUA por causa da Covid-19.\n",
            "[INFO][...] 35c44d5fbdbcac02b2d85c64792d4800 2020-03-13 21:14:00 Europa é o novo epicentro da pandemia de Covid-19, diz OMS.\n",
            "[ERROR][2020/08/26 14:07] HTTP Error 404: NOT FOUND\n",
            "HTTP Error 404: NOT FOUND\n",
            "[INFO][...] ff2d0324ebf28cb59336ada1614f4f39  \n",
            "[INFO][...] d9edc933b098922c333a91a6ae7a3b35 2020-03-13 17:15:00 Servidores, escolas e UFMA recebem orientações preventivas contra a Covid-19 no MA.\n",
            "[INFO][...] a53d87c58815deaece81fe11789487db 2020-03-13 21:29:00 Governo de SP determina suspensão de aulas por causa da Covid-19.\n",
            "[ERROR][2020/08/26 14:07] HTTP Error 404: NOT FOUND\n",
            "HTTP Error 404: NOT FOUND\n",
            "[INFO][...] a6db75837e04b7fdca5471613c15a48f  \n",
            "[INFO][...] 7d8b17f05964fe8089db06e01fd5a5c5 2020-03-13 12:35:00 Hospitais regionais recebem materiais e treinamento para atender casos suspeitos de coronavírus em MT.\n",
            "[INFO][...] 19f490cf974ca2d428ba852a4440340b 2020-03-13 14:06:00 Ministério Público do RN suspende atendimentos presenciais para evitar propagação do coronavírus.\n",
            "[INFO][...] 5bfc21a06c0d02f565f393d07bfde832 2020-03-13 11:53:00 Coronavírus: Sesap recomenda suspensão de eventos com mais de 100 pessoas e jogos do estadual com portões fechado.\n",
            "[INFO][...] d1b33fd367b75be98ec979c61a273a00 2020-03-13 13:10:00 Assembleia Legislativa do RN restringe acesso e suspende audiências públicas por conta do coronavírus.\n",
            "[INFO][...] 26c39465c02c78753151a258a8a5a98a 2020-03-13 21:47:00 Visitas a presídios do AM são suspensas por 15 dias após confirmação de caso de coronavírus.\n",
            "[INFO][...] 68202ff3125303ac5712b9dc5985fa0b 2020-03-13 18:10:00 UERR cancela aula magna por novo coronavírus.\n",
            "[INFO][...] dd607a7c96b191d1b79e35caa0ab3e53 2020-03-13 20:23:00 De quarentena por novo coronavírus, moradores de cidades da Itália cantam nas janelas; veja VÍDEO.\n",
            "[INFO][...] 2e240c746972bc71e85c2df5d20b5271 2020-03-14 20:58:00 Cidades brasileiras adotam medidas para prevenir a Covid-19.\n",
            "[INFO][..ZzZz..] Saving and going to take a nap\n",
            "[INFO][...] c7c03b22b84f710a83d3c8dec7b8246a 2020-03-14 21:46:00 Brasil tem 133 casos confirmados de Covid-19 .\n",
            "[INFO][...] 3d1895cab494043b63ec867227ef9f4f 2020-03-14 22:25:00 Na Itália, número de mortos cai, mas o de novos casos de Covid-19 dispara.\n",
            "[INFO][...] 31fd9776a35040e79788269603860281 2020-03-14 21:02:00 Cinco pessoas que estiveram nos EUA com Bolsonaro estão com a Covid-19.\n",
            "[INFO][...] 0a2a568037ddec9e0e50003a14bf6fd6 2020-03-14 21:03:00 Atitudes básicas são fundamentais para frear o avanço da Covid-19.\n",
            "[INFO][...] 2b0524d31505b17dea7c10500d6c80bd 2020-03-14 20:52:00 Rio tem dia de pouco movimento nas ruas após medidas contra a Covid-19.\n",
            "[INFO][...] d9fc8528a9e20496bb4a7cd5d7d36e5c 2020-03-14 12:22:00 Como medida de prevenção a Covid-19, MP cancela viagens e atividades programadas no Acre .\n",
            "[INFO][...] a3567a47e0036ef19d77a5c624830c2c 2020-03-14 07:41:00 Últimas notícias de coronavírus de 14 de março.\n",
            "[INFO][...] 57229af8fb00bd86e4c1a97aed4bc697 2020-03-14 17:33:00 Espanha decreta estado de emergência por coronavírus e restrição de deslocamento em todo o país.\n",
            "[INFO][...] cbf3c37570dacacbe0279a550dca020d 2020-03-14 10:34:00 Decreto de governo da Espanha prevê restrição de deslocamento em todo o país, diz imprensa.\n",
            "[INFO][...] 53158746bfee2d27e22eb9b2bd9db711 2020-03-14 09:53:00 Prefeitura de Barbacena decreta situação de emergência por conta de coronavírus.\n",
            "[INFO][...] 21351513fc1612faef4a54f736411329 2020-03-14 15:19:00 Secretário de Saúde fala sobre plano de contingência para enfrentamento do novo coronavírus em Rio Preto.\n",
            "[INFO][...] ee801ff4ee1ef8d02fc87415e27e1909 2020-03-14 10:08:00 Universidades e escolas do Piauí adotam medidas de prevenção ao contágio do coronavírus.\n",
            "[INFO][...] d9687c234513803bcd37cbb1b1a5e3b5 2020-03-14 20:27:00 Teste de coronavírus de Trump tem resultado negativo.\n",
            "[INFO][...] 89a14377e1275d8c6a9a7f733e625988 2020-03-14 21:11:00 Passageiro de navio de cruzeiro retido no Recife tem novo coronavírus.\n",
            "[INFO][...] 2e7c4444bd2d6f95cb0710a88ea40bc3 2020-03-15 16:56:00 Coronavírus: tire dúvidas e veja o que é mito e o que é verdade sobre o Covid-19.\n",
            "[INFO][...] 8254dcf50845850e28547b2dda6bd9f1 2020-02-27 18:59:00 Animais de estimação podem transmitir o novo coronavírus?.\n",
            "[INFO][...] ad5945d85c11be60ae54c544862c416f 2020-03-15 18:18:00 #30 Isso é Fantástico - Coronavírus e os idosos.\n",
            "[INFO][...] 4388efd0e0d1b27d777579856946428d 2020-03-15 17:04:00 GloboNews reúne especialistas em cobertura especial sobre o novo coronavírus.\n",
            "[INFO][...] 57aa6eb78c81b4daf9090ca06684ae17 2020-03-15 15:08:00 Coronavírus: DF tem 14 casos confirmados, diz Secretaria de Saúde .\n",
            "[INFO][...] 946c9132b28fe0a8d4693fa8dd4ce14f 2020-03-15 08:00:00 Apesar da boa colheita, produtores da Bahia estão preocupados com impacto do coronavírus no agronegócio .\n",
            "[INFO][...] 1a2df7a9ef6434a59e1810ed666d50b2 2020-03-15 17:02:00 “Está muito mais perto do que a gente pensa”, diz Gabriela Pugliesi sobre coronavírus; veja entrevista na íntegra .\n",
            "[INFO][...] 4fd9a0f4c7fceafbd2fbb4d2019f23b2 2020-03-15 11:25:00 Hospital Márcio Cunha, em Ipatinga, suspende visitas por tempo indeterminado devido ao coronavírus.\n",
            "[INFO][...] 753a9eb2c778011bb807f733a2e31cd1 2020-03-15 19:21:00 Sobe para 14 o número de casos suspeitos do novo coronavírus no Maranhão.\n",
            "[INFO][...] 9195115634265b3cb377b92986ed5f7d 2020-03-15 21:51:00 Repórter Ilze Scamparini relata como é viver na Itália em quarentena por conta do coronavírus.\n",
            "[INFO][...] 33d92bed3e3fc4d1062a3f2da493648b 2020-03-13 16:46:00 Faculdades e escolas mantêm aulas e se organizam para tentar coibir o coronavírus; UFG suspende cerimônias de colação.\n",
            "[INFO][...] 98655f8bcc5982d4df725e6871fc7a04 2020-03-15 15:43:00 Coronavírus e pets: veja perguntas e respostas sobre cuidados com animais de estimação.\n",
            "[INFO][...] 33a0f16dbf8a6332a0b0fcb22493a89c 2020-03-14 18:47:00 Médico é internado com suspeita de coronavírus em Roraima.\n",
            "[INFO][...] b553aa4628e79b584e3e0f42933bd5b7 2020-03-15 10:44:00 Aprovado na USP usa reportagem do Globo Rural como tema de redação.\n",
            "[INFO][...] ff7303d1d7401568e9690a428680854b 2020-03-15 11:00:00 Órgãos federais vão receber capacitação de prevenção e combate ao novo coronavírus na fronteira do AC.\n",
            "[INFO][...] daf29dc36ef938d51b8ca786c09ed323 2020-03-16 22:06:00 Bolsonaro descumpre orientação sobre Covid-19 e provoca críticas.\n",
            "[INFO][...] 6c6dd435fefa42882886839ec5580b8f 2020-03-16 13:03:00 OMS defende testes em massa e diz que Covid-19 já matou crianças.\n",
            "[INFO][...] 9290abdd0167cf60f5058ecef8bc5b9e 2020-03-16 21:34:00 Trump diz que medidas para conter Covid-19 podem ir até o 2º semestre.\n",
            "[INFO][...] f5eedc542f9363b723f58a9d9d3b2489 2020-03-13 15:46:00 Justiça do Trabalho do Ceará suspende atendimento presencial ao público como prevenção ao Covid-19 .\n",
            "[INFO][...] acbbe07ec55adabbf80f53fe02c5d822 2020-03-16 18:14:00 Museu Emílio Goeldi suspende visitação e cancela programações devido à pandemia do Covid-19.\n",
            "[INFO][...] d3936a7edbadc4f0c3ef1bc7357afaf7 2020-03-16 10:16:00 Tradicional shopping paraguaio, na fronteira com o Brasil, suspende atividades em prevenção ao covid-19.\n",
            "[INFO][...] a948fb0183d50ffe0886b196eda74714 2020-03-16 11:50:00 Onze casos suspeitos da Covid-19 são descartados em Sergipe, diz SES.\n",
            "[INFO][...] 51771a32fbcffa86eaffb5e7f70306a2 2020-03-16 10:06:00 Coronavírus: por que os EUA estão 'fracassando' no combate à Covid-19.\n",
            "[INFO][...] 46ff99ef603121a851424921f0715bf9 2020-03-16 21:15:00 Navio segue retido no Recife após turista testar positivo para Covid-19.\n",
            "[INFO][...] e7f487e3c0bb3987461ca4b2e0de30b3 2020-03-16 21:21:00 França proíbe entrada de pessoas de fora da União Europeia por causa da Covid-19.\n",
            "[INFO][...] b6ef4f29e2c170318f86018f23b8a967 2020-03-16 22:05:00 Governo anuncia R$ 147 bilhões para conter impacto da Covid-19 na economia.\n",
            "[INFO][...] b0bb13be53c67ffdd0ff82440d5bda4d 2020-03-16 15:54:00 Mortes por Covid-19 fora da China já ultrapassam as registradas no território chinês, diz OMS.\n",
            "[INFO][...] f961abb1e362e409e2a10ef20f22931c 2020-03-16 21:18:00 OMS pede que países façam mais testes em suspeitos de ter Covid-19.\n",
            "[INFO][...] 3f364a7dd88c2401ab397be5f8910059 2020-03-16 05:01:00 Com três casos de Covid-19, coronavírus altera rotina da população no Ceará.\n",
            "[ERROR][2020/08/26 14:20] HTTP Error 404: NOT FOUND\n",
            "HTTP Error 404: NOT FOUND\n",
            "[INFO][...] 61bfcbf778efbdc3c8c062ce64f3f64b  \n",
            "[INFO][...] af1433d0480a5be9df2068d00366b864 2020-03-15 05:00:00 Coronavírus: ouça podcasts sobre a pandemia de Covid-19.\n",
            "[INFO][...] 2a30d3f93b53784550863baffcb1f6fd 2020-03-17 21:26:00 RJ cria cinturão para isolar região metropolitana da Covid-19.\n",
            "[INFO][...] c9039227dacff4d29bcb09cc4174e297 2020-03-17 09:49:00 Governo do Acre decreta situação de emergência por conta da pandemia de Covid-19.\n",
            "[INFO][...] d9b9f83e124b38e8300048efc32095b5 2020-03-16 16:56:00 Faculdades suspendem aulas como medida de prevenção ao Covid-19 na Grande Cuiabá.\n",
            "[INFO][...] e4cfa5bcb2d1cbd2a1612844b59c4505 2020-03-16 17:25:00 Comitê de Enfrentamento ao Covid-19 em Uberlândia faz recomendações às empresas.\n",
            "[INFO][...] 7da0ad7625ab555b584f8538a3b2c383 2020-03-16 10:18:00 Ibuprofeno e coronavírus: veja por que especialistas não recomendam substância para combater Covid-19.\n",
            "[INFO][...] 3e4dc4c2ec77cce0a9fc376e6e082d2b 2020-03-17 21:26:00 Presidente da Câmara quer fronteiras fechadas por causa da Covid-19.\n",
            "[INFO][...] cdc6fb53dfa38a036f15140b9009105f 2020-03-17 09:18:00 MTU orienta passageiros e funcionários sobre medidas de prevenção ao Covid-19; veja recomendações.\n",
            "[INFO][...] a05cbb845df663e2a302c61079c8599d 2020-03-17 14:17:00 Empresária relata dificuldade para fazer exame de Covid-19 pelo plano de saúde em Goiânia.\n",
            "[INFO][...] f89ce8f5195017c8da1866d54c69c41f 2020-03-17 22:41:00 Ibuprofeno não deve ser usado em suspeita de Covid-19, orienta OMS.\n",
            "[INFO][...] 087ee62ce66f5a33e33822fd80c78e03 2020-03-17 21:48:00 Na Argentina, brasileiros não podem sair de navio por causa da Covid-19.\n",
            "[INFO][...] 29ff4b4f650dd7e9642a1375fe2f4fc3 2020-03-17 22:47:00 Estudantes de medicina vão ajudar na pandemia de Covid-19 na Itália.\n",
            "[INFO][...] e214a6cdeb355b9af72e303c47cf3e83 2020-03-16 20:40:00 Wellington Dias pede que fake news sobre a Covid-19 sejam investigadas pela Secretaria de Segurança.\n",
            "[INFO][...] 930eb566e56b1bb5f917288e0ca08ef7 2020-03-17 13:51:00 Câmara e Aleac suspendem sessões solenes e audiências públicas para evitar proliferação de Covid-19.\n",
            "[INFO][...] d704e6f21ff9cf052f0c5a7a11afba2f 2020-03-17 22:44:00 UE vai fechar fronteiras para cidadãos de fora do bloco para conter Covid-19.\n",
            "[INFO][...] 5ce5bb8f8c8690a6bb870a9a956d5171 2020-03-18 21:25:00 Governo estuda fechar fronteiras para conter contaminação por Covid-19.\n",
            "[INFO][...] 54b664cf8aa2c3ac949af564ae2223cf 2020-03-18 21:57:00 OMS confirma 200 mil casos de Covid-19 no mundo.\n",
            "[INFO][...] 442c22a3f421c6779eeaa701c618bd0a 2020-03-18 09:38:00 Coronavírus: cientistas descobrem como o corpo combate a Covid-19.\n",
            "[INFO][...] 56f2ff48c48500b06d1c5843425eedbb 2020-03-18 21:35:00 Prefeitura de SP manda fechar parte do comércio para conter Covid-19.\n",
            "[INFO][...] 3f86392094044ae4381609220f913914 2020-03-18 22:16:00 Para conter a Covid-19, Supremo terá julgamentos em plenário virtual.\n",
            "[INFO][...] 6b9595a9d8c2f17305b4e8669bbcb1c5 2020-03-18 13:12:00 Hotéis do RJ têm que comunicar a presença de hóspedes com sintomas da Covid-19.\n",
            "[INFO][...] 87a4e98c1f95319193262d00587a4083 2020-03-18 14:16:00 Ipem-AM suspende atendimento a taxistas por 15 dias como prevenção ao Covid-19.\n",
            "[INFO][...] 40a947922b76f77990d1f4c423e0861d 2020-03-18 09:04:00 Ribeirão Preto tem planos de contingência contra avanço da Covid-19, diz secretário.\n",
            "[INFO][...] e09a904cf729e9b4eeb981b86233e81e 2020-03-18 21:40:00 Bolsonaro reúne ministros e anuncia medidas para a crise da Covid-19 .\n",
            "[INFO][...] f4c1aa4af3f80eab7d157ee674acf722 2020-03-18 10:22:00 Unesco: metade dos estudantes do mundo sem aulas por conta da Covid-19.\n",
            "[INFO][...] 99f8ea941528b907627aa22b6d457086 2020-03-18 09:52:00 Prefeita decreta emergência após casos de Covid-19 e recomenda higienização de ônibus em Rio Branco.\n",
            "[INFO][...] ca82bc8495b291a379da8fb02c031794 2020-03-18 10:09:00 Por prevenção ao Covid-19, PF suspende atendimento ao público em todo o Acre.\n",
            "[INFO][...] b60e11a849b94b3259ec9af95be4742b 2020-03-17 13:01:00 Covid-19: shoppings de Ribeirão Preto e Franca reduzem horários; comércio tem abertura alternativa.\n",
            "[INFO][...] 568add6314c18b1e317030df2ae031cd 2020-03-18 11:51:00 Média de passageiros do transporte coletivo cai 24% após alerta da Covid-19 em Ribeirão Preto.\n",
            "[INFO][...] c440cb4229a5e2c01281b5297b47db74 2020-03-18 22:19:00 Ministro da Saúde ressalta papel do cidadão na luta contra a Covid-19.\n",
            "[INFO][...] 59d73ebbf1ebd18f805cc4aa33d457c9 2020-03-17 11:51:00 OMS recomenda não usar ibuprofeno para tratar Covid-19.\n",
            "[INFO][...] 90f0efdd1b13569dd1cdcf2bc8f28158 2020-03-19 21:12:00 Aumenta o número de mortos pela Covid-19 no Brasil.\n",
            "[INFO][...] 5f556dc80b1efb076e05034f4e0c4f5f 2020-03-19 21:41:00 Santa Catarina proíbe circulações do ônibus para conter Covid-19.\n",
            "[INFO][...] 063bcf13bdb72bd94b418ae2f2365b42 2020-03-19 21:46:00 Espanha é o segundo país mais afetado pela Covid-19 da Europa.\n",
            "[INFO][...] f906bc292e8962babb49fcf9c25fb478 2020-03-19 14:19:00 Número de mortos na Itália por Covid-19 ultrapassa total de vítimas na China.\n",
            "[INFO][...] 2571149209abe68e228721444bb7496f 2020-03-19 19:20:00 Cartórios mudam horário de funcionamento durante período de prevenção ao Covid-19.\n",
            "[INFO][...] 2841d03107834f6cead032eb9e4a2a78 2020-03-19 09:27:00 Coronavírus no Piauí: Laboratório Central de Saúde Pública passa a fazer testes para Covid-19.\n",
            "[INFO][...] 0c5efb0855d190a3d90a727eebb702b0 2020-03-19 11:12:00 Covid-19: sem equipamentos, servidores usam touca como máscaras em hospitais no AC.\n",
            "[INFO][...] b4c21e5d16193f3be15e58b8ea63ed3e 2020-03-19 21:56:00 OMS volta atrás e diz que doentes da Covid-19 podem usar ibuprofeno .\n",
            "[INFO][...] 132e791a2ed8c755289a4df19c1e7c76 2020-03-19 21:24:00 Itália tem mais mortos por Covid-19 do que a China, onde surto começou.\n",
            "[INFO][...] a28c1ba7ed33bfd268cf2d5fd087f869 2020-03-19 08:56:00 Mais de 9 mil mortes por Covid-19 no mundo, diz universidade.\n",
            "[INFO][...] b77bf7bbfa3e024cb7277158bba0b570 2020-03-19 12:49:00 43 estabelecimentos de Fortaleza são notificados por preços abusivos de produtos para prevenir Covid-19.\n",
            "[INFO][...] 4c1bc4081c010050789c91cf787c0f1e 2020-03-19 10:25:00 Piauí tem 63 casos suspeitos de Covid-19 e 25 descartados, diz Sesapi.\n",
            "[INFO][...] f1496e6a95276bc855b2d459b3f40634 2020-03-19 10:18:00 Laboratório de MT recebe 100 kits do Ministério da Saúde para diagnóstico da Covid-19.\n",
            "[INFO][...] 03e223d749656160815c4c6745ba3608 2020-03-19 12:45:00 Prefeitura de Viçosa cria teleatendimento para pessoas com sintomas da Covid-19.\n",
            "[INFO][...] 3318c36a5fe9c2698cf3c24b68f9ee4b 2020-03-20 11:54:00 Com exames precoces, Alemanha tem poucas fatalidades da Covid-19 .\n",
            "[INFO][...] 3b46a83ff39836762ea5f053c4692f00 2020-03-20 10:29:00 Sespa confirma segundo caso de Covid-19 no Pará.\n",
            "[INFO][...] fbf9445e0e8841bdbfe472ba19eb39ab 2020-03-19 16:22:00 Maternidade Dona Evangelina Rosa adota medidas de prevenção contra o COVID-19.\n",
            "[INFO][...] 14863cda94bec314ee6c8fa0092508bd 2020-03-20 07:40:00 Mais de 10 mil mortes por Covid-19 no mundo, diz universidade.\n",
            "[INFO][...] f1e43ae4bb2f1f1538fab0ba1766068b 2020-03-20 16:52:00 Juiz determina soltura de presos em regime semiaberto no Piauí para evitar contágio da COVID-19.\n",
            "[INFO][...] 737ccc8784e30ccc377a400a5aa51e68 2020-03-20 19:29:00 Secretaria Estadual de Saúde diz que casos suspeitos de Covid-19 no TO subiram para 67.\n",
            "[INFO][...] 04bd527fd28fdc27209857a7586a7afa 2020-03-19 17:50:00 Durante pandemia de Covid-19, PL quer suspender cortes de energia e água no Acre .\n",
            "[INFO][...] c3ff2e95bef4ceae72aac85252337f44 2020-03-20 14:17:00 Decreto de calamidade pública por pandemia de Covid-19 é aprovado por deputados no Acre.\n",
            "[INFO][...] fe3daa064c708ab7b66f4ec8338a6c95 2020-03-20 14:00:00 Laboratório da UFDPar vai passar a fazer testes para Covid-19 em Parnaíba e região.\n",
            "[INFO][...] 20b85167ab9dd8e74033dd5281b987be 2020-03-20 11:19:00 Delegacias do AC têm atendimentos presenciais suspensos por 15 dias como prevenção a Covid-19.\n",
            "[INFO][...] 4951a48bdbdd0001577fbab58e6b74cd 2020-03-20 18:30:00 Com 7 casos de Covid-19 confirmados, governo suspende todos os serviços não essenciais no Acre.\n",
            "[INFO][..ZzZz..] Saving and going to take a nap\n",
            "[INFO][...] fc06d521523026102f28e04893bc242a 2020-03-20 15:42:00 Prainha decreta situação de emergência por enxurradas e anuncia medidas para Covid-19.\n",
            "[ERROR][2020/08/26 14:34] HTTP Error 404: NOT FOUND\n",
            "HTTP Error 404: NOT FOUND\n",
            "[INFO][...] ca8e379c06558ea57a820342e4f88dba  \n",
            "[INFO][...] f578eb78d213287b4ff5909321501768 2020-03-20 19:13:00 Esclarecimentos à população de Volta Redonda sobre o novo Coronavírus COVID–19.\n",
            "[INFO][...] 3ab5dd7af8a600242b4f11a596d0f4d0 2020-03-20 20:56:00 Casamento é adiado na véspera por conta da Covid-19 e noivos correm para avisar convidados .\n",
            "[INFO][...] 31a9907d21ce401c9c2df4a4a26f7963 2020-03-21 08:23:00 Séries médicas dos EUA doam suprimentos para combater a Covid-19.\n",
            "[INFO][...] 657a8e8230ab24ee544bbddf3ed5c52e 2020-03-21 10:34:00 Plano de contingência do HRBA para covid-19 prevê instalação de tendas para atendimento a pacientes .\n",
            "[INFO][...] 990b9178b52e2cc0a2c9167d6f790a6d 2020-03-21 20:00:00 Covid-19: Comerciantes que abrirem lojas no AC vão ser notificados e podem responder por desobediência.\n",
            "[INFO][...] 1f7a3946ab4b318dfb01db99a0dbebd5 2020-03-20 19:35:00 Sorocaba só vai testar para Covid-19 pacientes que estiverem em estado crítico.\n",
            "[INFO][...] 3121ac9af820b57210695a1574ea0626 2020-03-20 13:45:00 Após diagnóstico de Covid-19, Marcelo Magno segue internado em UTI e apresenta melhora.\n",
            "[INFO][...] fbed69b228e613e0e641e80b78eb6fb3 2020-03-21 15:06:00 Covid-19: Pesquisadores produzem até 200 frascos de álcool em gel em laboratório no Acre .\n",
            "[INFO][...] c33bb713291c616733bc4c3ce16b9c00 2020-03-21 16:31:00 Resultados dos exames de funcionário da MRN e três familiares dão negativo para Covid-19.\n",
            "[INFO][...] 2c12807f5a10ea19bc41f7fdd79f76e5 2020-03-21 18:53:00 Secretaria de Saúde do Acre registra 11 casos de Covid-19.\n",
            "[INFO][...] b29964e25a1f2cec7f3edd71a7785611 2020-03-21 14:44:00 Após diagnóstico de Covid-19, Marcelo Magno segue internado em UTI sob vigilância médica.\n",
            "[INFO][...] deaaf559903761a4e0a581a2923f81d3 2020-03-21 12:30:00 MPF solicita informações sobre prevenção à covid-19 entre indígenas Warao em Santarém.\n",
            "[INFO][...] 83e898d9562dcef600a2795b90975180 2020-03-21 14:15:00 Moradores de condomínio em Rio Branco homenageiam profissionais da saúde na luta contra a Covid-19.\n",
            "[INFO][...] 1062a4ab30ceb15998ddf09942f1631e 2020-03-21 19:14:00 Secretaria Municipal de Saúde não notifica novos casos suspeitos da Covid-19 em Petrolina, PE.\n",
            "[INFO][...] 6e8e71e66259d9e0cdf32f17904f3921 2020-03-21 08:19:00 Pesquisa mostra que quase 40% dos empresários de Cuiabá já sentiram queda no faturamento por causa da Covid-19.\n",
            "[INFO][...] 9d5e3bf4cccd1cb520de33e2cdf28d29 2020-03-21 18:16:00 Prefeitura de Campo Grande decreta toque de recolher a partir deste sábado em prevenção à Covid-19.\n",
            "[INFO][...] 2dec77f71b26f041bed2e1c5ef4a7883 2020-03-21 08:11:00 Governo do DF permite que hospital da PM atenda civis; Mané Garrincha oferece espaço para casos de Covid-19.\n",
            "[INFO][...] 3288484b348f54e6bed1a8932ba963e3 2020-03-22 19:00:00 Homem com suspeita de Covid-19 morre em Marília .\n",
            "[INFO][...] adb5703977989591741b942afce7c11f 2020-03-22 19:52:00 Sobe para 6 o número de casos confirmados de Covid-19 no Piauí; suspeitos são 117.\n",
            "[INFO][...] 41832e5c248ce93a08708421b86dac80 2020-03-22 15:33:00 Hospitais do Ceará utilizam hidroxicloroquina com restrição em pacientes com Covid-19.\n",
            "[INFO][...] 0f68725448bbdfdfb97a78617bfc19ba 2020-03-22 18:38:00 Diagnosticado com Covid-19, Marcelo Magno segue internado em UTI e apresenta melhora.\n",
            "[INFO][...] cb9767022117cc8f001c31b69d3125c2 2020-03-22 10:06:00 Covid-19: Shopping Popular de Cuiabá fecha as portas a partir deste domingo.\n",
            "[INFO][...] 0800ef02128970a80492909e5dee4f04 2020-03-22 18:16:00 Araraquara investiga morte de homem de 72 anos por suspeita de Covid-19.\n",
            "[INFO][...] d2e9214f0472f714c5c3d1ba39ccc074 2020-03-22 11:16:00 Porto Ferreira investiga morte de mulher de 64 anos por suspeita de Covid-19.\n",
            "[INFO][...] d128204ddb6430516b78a5454289a62f 2020-03-22 14:56:00 Em Rio Branco, apenas 40% da frota de ônibus funciona devido à pandemia de Covid-19.\n",
            "[INFO][...] 17d8b2b23ffbdcc0f541547c680dc18d 2020-03-22 12:59:00 Covid-19: Comércios e shoppings são fechados e prefeitura de Rondonópolis (MT) suspende transporte.\n",
            "[INFO][...] 37e882f32e0d0f403ce4bdcfa0bf6355 2020-03-22 12:14:00 Prefeitura de Ribeirão Preto tem 'Disque Covid-19' para dúvidas sobre o novo coronavírus.\n",
            "[INFO][...] 88b114796ac25f9d6ce00685e01eedb5 2020-03-22 20:06:00 Alexandre de Moraes autoriza SP a suspender pagamento de dívida com a União; recurso deverá ser usado contra Covid-19.\n",
            "[INFO][...] b10af94e36453f5b3a8d293a97ab228b 2020-03-22 10:32:00 Jovem infectado por Covid-19 que desobedeceu isolamento é posto em prisão domiciliar na Região Metropolitana de Porto Alegre .\n",
            "[INFO][...] 0461eab0bcd065f5638287fdf39f3c73 2020-03-22 14:20:00 Câmara do Rio aprova, em sessão virtual, mudança na escala da Guarda Municipal para ajudar no combate ao Covid-19.\n",
            "[INFO][...] 012071223514d36b0bad52bce3430353 2020-03-22 13:00:00 Sespa confirma mais dois pacientes com Covid-19 no Pará; sobe pra 4 o número de casos.\n",
            "[INFO][...] 90197a972e45c021cceff395746e794e 2020-03-22 15:54:00 Antigo PS de Cuiabá e nova UPA vão ser disponibilizados para atender pacientes com suspeita de Covid-19.\n",
            "[INFO][...] 52bbf0b50d5c636af9713ecb994d66d4 2020-03-23 15:31:00 UnB suspende semestre por conta da Covid-19.\n",
            "[INFO][...] a41466ebe84d70f530111b942adc4d1c 2020-03-23 10:04:00 Sespa confirma quinto caso de Covid-19 no Pará.\n",
            "[INFO][...] 652902101fdbbf04f3d47cc83c3f1380 2020-03-23 17:42:00 Energisa suspende atendimento em agências na Paraíba como medida contra a Covid-19.\n",
            "[INFO][...] 1f1e30d6698f0f6e845dd25a32ef82b4 2020-03-23 17:59:00 ACIC lança e-books para orientar empreendedores sobre como minimizar efeitos da Covid-19 nos negócios.\n",
            "[INFO][...] 4823e057f5d2e0aa074c4c5db2b550b1 2020-03-23 17:32:00 Ribeirão Preto tem 8 pacientes com testes positivos para Covid-19; cinco aguardam contraprova.\n",
            "[INFO][...] 8139a07a8da9a7d901f63b325378ae53 2020-03-23 17:13:00 Dois pacientes diagnosticados com Covid-19 estão internados em Rio Branco.\n",
            "[INFO][...] beb4463ca430fc7a18b397e756386471 2020-03-23 06:00:00 Janela aberta, pessoas sentadas: as novas regras nos ônibus de Ribeirão Preto contra a Covid-19.\n",
            "[INFO][...] 59db3647a9275348b982a5a7afa03bdc 2020-03-23 14:40:00 Itália atinge a marca de 6 mil mortos pela Covid-19, doença provocada pelo novo coronavírus.\n",
            "[INFO][...] 55535e375197d2a1befdbe573294bdd6 2020-03-23 14:35:00 Em isolamento, Merkel testa negativo para Covid-19 após contato com médico infectado.\n",
            "[INFO][...] ea82cbfa81f1807317628d971f2db28a 2020-03-23 13:02:00 Espanha: aumenta o número de profissionais da saúde contaminados pelo Covid-19.\n",
            "[INFO][...] 0a773814a883bf2c844059d6c5dbc198 2020-03-23 20:00:00 Associação Comercial do AC suspende atendimento presencial do público por precaução a Covid-19.\n",
            "[INFO][...] ebd5f328dddc8a89c378be0ee5db1306 2020-03-23 21:17:00 Farmácia Escola da UFSC é fechada por causa da pandemia de Covid-19.\n",
            "[INFO][...] dc4b4c302b91ecd2d8429dbc08c74366 2020-03-23 16:45:00 Ex-senador do Acre, Jorge Viana usa redes sociais para informar que está com Covid-19.\n",
            "[INFO][...] 0c83f01b69ada99446b5d16df3c44a40 2020-03-20 20:29:00 Prefeitura de Caruaru anuncia novas medidas para conter transmissão da Covid-19.\n",
            "[INFO][...] a3e5390ef7c4c0f6cd43e42d3355259a 2020-03-23 22:49:00 Um dos primeiros casos de Covid-19 no AC, advogada está em coma induzido .\n",
            "[INFO][...] b002362e26bcf7a6874b84fa5181bbfc 2020-03-24 18:03:00 Ceará tem tem 40 pacientes internados por Covid-19.\n",
            "[INFO][...] bcbb87ac58f99542d6917aeffac8df24 2020-03-23 18:35:00 Quatro internos do Copemcan estão isolados após mulher com Covid-19 visitar presídio.\n",
            "[INFO][...] 9835121b2d4258b98e2454c8e33c506a 2020-03-24 09:14:00 Para conter Covid-19, prefeitura restringe acesso a Itatiaia para veículos de pessoas de fora.\n",
            "[INFO][...] 66293706be2c52051682f9ed278de989 2020-03-24 17:56:00 Camilo anuncia construção de três novos anexos hospitalares no Ceará para atender infectados por Covid-19 .\n",
            "[INFO][...] 64ee7c996a82620fa9933220b53d39d0 2020-03-24 17:22:00 Uber vai dar assistência financeira por até 14 dias para motoristas e entregadores com Covid-19.\n",
            "[INFO][...] 5fbed2fd37170b33a1ecf7cbe6fac309 2020-03-24 14:12:00 Itália volta a registrar mais de 700 mortes por Covid-19 em um dia.\n",
            "[INFO][...] 4cf332178bc87f55aee9dcc4dc7e91b8 2020-03-24 19:32:00 Apresentador Marcelo Magno segue com melhoras após ser diagnosticado com Covid-19.\n",
            "[INFO][...] 1a30c75a1c5442778ee2b73ec7d492d8 2020-03-24 19:51:00 Prefeitura de Ferraz anuncia leitos específicos para pacientes com suspeita e confirmação e Covid-19.\n",
            "[INFO][...] 8b84e837fc82cdc3aca1089dabbe1406 2020-03-24 18:48:00 Mogi tem primeiras três mortes com suspeita de Covid-19 e anuncia hospital de campanha.\n",
            "[INFO][...] 4b9775abc927cc88e31c50f26e249a06 2020-03-24 13:00:00 MPF recomenda medidas de controle da Covid-19 no aeroporto de Santarém.\n",
            "[INFO][...] 9c4e57b44f9544c4e92716a08f53a0b8 2020-03-24 17:05:00 Brasil tem 46 mortes e 2.201 casos confirmados de Covid-19, diz Ministério da Saúde.\n",
            "[INFO][...] 6a8e9fc081fa1a818d21bda75343f35c 2020-03-24 14:31:00 Aeroportos têm alertas sobre Covid-19, passageiros tensos e ausência de barreiras sanitárias.\n",
            "[INFO][...] 852db97bdaab24a862be7e1bf3248efd 2020-03-24 13:41:00 Greta Thunberg fica em isolamento e diz que teve sintomas de Covid-19.\n",
            "[INFO][...] d859f63e864e90c3b4d4be469f3e1c83 2020-03-24 18:35:00 Justiça proíbe que marido de primeira infectada com Covid-19 no DF deixe isolamento.\n",
            "[INFO][...] b4b5ab307e517ce8d348e23838cc71d8 2020-03-24 11:56:00 Operação 'Covid-19' faz autuações e apreensões coibindo preços abusivos de álcool em gel e máscaras .\n",
            "[INFO][...] 312db855d75ca0fd7f73bbb03907e48e 2020-03-25 05:01:00 Ceará compra 350 mil testes rápidos para Covid-19.\n",
            "[INFO][...] ec6631a24d55e2337c973910c48d5aad 2020-03-25 12:36:00 Unimed Resende divulga medidas para evitar contágio pelo COVID-19.\n",
            "[INFO][...] 579c7e2c597822cf57b863814b94fd6c 2020-03-25 12:27:00 Diagnosticado com Covid-19, Conselheiro da TV Clube apresenta melhoras.\n",
            "[INFO][...] 80649999759ce7bafdfd7da69f6a7392 2020-03-25 16:21:00 Jovem de 19 anos morre com suspeita de Covid-19 em Teresina.\n",
            "[INFO][...] 857aa5a8b271c0d4772ffbd80d9fef51 2020-03-25 15:14:00 Após medidas contra o Covid-19, número de passageiros cai 91% nos ônibus de Cuiabá.\n",
            "[INFO][...] fce5170f39528e958daa7afd7231a06a 2020-03-25 17:23:00 MPF ingressa com procedimento para acompanhar ações contra o Covid-19 na região.\n",
            "[INFO][...] e4a8363808cbdb6e9577ae45e3a4d77c 2020-03-25 18:28:00 Secretaria investiga morte de criança por suspeita de Covid-19 em São Raimundo Nonato.\n",
            "[INFO][...] 9977afb3d5c67bc56774f25f8d73ef6b 2020-03-25 12:15:00 Defensoria Pública pede à Prefeitura de Santarém atualização de casos suspeitos de Covid-19.\n",
            "[INFO][...] fa934717f41359e652b4e76039595acf 2020-03-25 22:30:00 Prefeitura confirma primeiro caso de Covid-19 em Teresópolis, no RJ .\n",
            "[INFO][...] 27604b3ddd0d8d8d8976a3e1259a62d2 2020-03-25 18:28:00 Centro de Regulação é criado para administrar casos de Covid-19 na Paraíba.\n",
            "[INFO][...] cf752d6cbdba91c51f1bf1d9a8149ba1 2020-03-25 12:13:00 Prefeitura de Jaboticabal confirma 3º caso de Covid-19 e investiga 17 suspeitas.\n",
            "[INFO][...] 401f4305ef036fcd61480fc7cbf457f5 2020-03-25 07:18:00 Rio dá orientações para realização de velórios e recomenda cremação para evitar proliferação do Covid-19.\n",
            "[INFO][...] 738b6391060cc2cf895153bec0f0b8e0 2020-03-25 18:43:00 Secretaria de Saúde confirma nove casos de Covid-19 em MT; outros 326 são monitorados.\n",
            "[INFO][...] 9bef10c8bd5e57f0c50723737228bc75 2020-03-24 18:10:00 Mais quatro pacientes testam positivo para Covid-19 no Acre e casos sobem para 21 .\n",
            "[INFO][...] c81fd3e1d94c19ed75d6ff3c37a06d53 2020-03-25 12:48:00 Prefeitura de Rio Branco decreta calamidade pública para conter contaminação pela Covid-19 .\n",
            "[ERROR][2020/08/26 14:48] HTTP Error 404: NOT FOUND\n",
            "HTTP Error 404: NOT FOUND\n",
            "[INFO][...] 4ffe063eb8f285f7d0912d098cf0c439  \n",
            "[INFO][...] 8f35c5ad7aaac78be474dbe7997830ca 2020-03-26 15:08:00 Franca investiga 24 suspeitas de Covid-19; criança está internada com ventilação mecânica.\n",
            "[INFO][...] f85e510ed593546a161ba21b7e1b49f6 2020-03-26 15:10:00 Itália tem mais de 8 mil mortes por Covid-19 desde o início do surto.\n",
            "[INFO][...] a463033cfd847b48ebe495d4b6c7afdb 2020-03-26 17:21:00 Nove moradores de Ribeirão Preto testam positivo para Covid-19; 160 casos suspeitos aguardam exames .\n",
            "[INFO][...] 3624163ba70334e0c67617d7c252c541 2020-03-25 21:43:00 Rio Claro confirma primeiro caso de Covid-19 em homem de 50 anos.\n",
            "[INFO][...] b967407d2b25dbf2190d867ea1eae7ba 2020-03-25 06:44:00 Hospital da Mulher será centro especializado para tratar casos da Covid-19 em Alagoas .\n",
            "[INFO][...] 35bb1a0dc1e4dcde7b83e673ca5a602e 2020-03-26 06:32:00 Unesp cede aparelhos de hospital veterinário em Jaboticabal para atender pacientes com Covid-19.\n",
            "[INFO][...] aec1b2086edc58554e134559197a4b3e 2020-03-26 16:15:00 Banco de leite da Maternidade Evangelina Rosa tem baixa de doadoras por conta da Covid-19.\n",
            "[INFO][...] afdb280e4f7fd10613c3581305371c38 2020-03-26 14:55:00 Prefeitura de Bebedouro, SP, confirma dois casos de Covid-19; Saúde aguarda contraprova.\n",
            "[INFO][...] 93052b8e8a1d39416192b4b74d59e2a5 2020-03-25 19:10:00 25 de março: saiba o perfil dos casos suspeitos da Covid-19 na região.\n",
            "[INFO][...] a2d7b7cb62418f37868f258897f740da 2020-03-26 10:52:00 Prefeitura decreta estado de calamidade pública para conter a Covid-19 em Paragominas.\n",
            "[INFO][...] a81e34e509bb690ed3d8cec0725bd4eb 2020-03-26 08:26:00 Ministério Público do Rio investiga falta de água em comunidades durante pandemia do Covid-19.\n",
            "[INFO][...] 0c744be8f5ca406cf6249e4b1c79bbab 2020-03-26 11:16:00 Covid-19: MPT notifica 5 supermercados de Cuiabá e alerta sobre medidas de proteção a trabalhadores.\n",
            "[INFO][...] c38ce2a0797764c73a28bf1427acbab2 2020-03-26 12:26:00 Prefeitura de Araxá divulga novas medidas a serem tomadas devido à Covid-19; veja vídeo .\n",
            "[INFO][...] 48b015f0c07027c64c90d483b7bc7727 2020-03-21 05:00:00 Covid-19, gripe, resfriado e alergias têm sintomas parecidos, mas duração e evolução são diferentes.\n",
            "[INFO][...] 9bac7009c6df88b50cb4e0a0c1109366 2020-03-27 19:18:00 Celíacos não são considerados grupo de risco da Covid-19.\n",
            "[ERROR][2020/08/26 14:51] HTTP Error 404: NOT FOUND\n",
            "HTTP Error 404: NOT FOUND\n",
            "[INFO][...] 37bac4bbf98fdd6249a5256894e8d908  \n",
            "[INFO][...] b4dde6c3dddcdcab9933c23bc0894638 2020-03-27 10:04:00 Paciente de Botucatu testa positivo para Covid-19.\n",
            "[INFO][...] e17cd181444efb2a76a80df6c329a2fa 2020-03-25 09:33:00 A importância da boa alimentação na prevenção da COVID-19.\n",
            "[ERROR][2020/08/26 14:51] HTTP Error 404: NOT FOUND\n",
            "HTTP Error 404: NOT FOUND\n",
            "[INFO][...] 183c3d57dfb13ab3ceb81a69f5ae011b  \n",
            "[ERROR][2020/08/26 14:51] HTTP Error 404: NOT FOUND\n",
            "HTTP Error 404: NOT FOUND\n",
            "[INFO][...] a0084a5331808aa2c1101963c7ba2010  \n",
            "[INFO][..ZzZz..] Saving and going to take a nap\n",
            "[ERROR][2020/08/26 14:56] HTTP Error 404: NOT FOUND\n",
            "HTTP Error 404: NOT FOUND\n",
            "[INFO][...] 239912414edf5359d49dbc1369784bde  \n",
            "[ERROR][2020/08/26 14:57] HTTP Error 404: NOT FOUND\n",
            "HTTP Error 404: NOT FOUND\n",
            "[INFO][...] f6fa224422ec46ae8cd78f660f73a756  \n",
            "[INFO][...] c760a34798ba24c4a13f8ef6a92a327a 2020-03-27 19:41:00 Governo da Bahia anuncia acordo com hotel, que vai receber profissionais da saúde com Covid-19.\n",
            "[INFO][...] 4221c984e1b066bd9dac08d80d0804bd 2020-03-26 18:28:00 Número de casos confirmados de Covid-19 no Alto Tietê cresce 35% em um dia .\n",
            "[INFO][...] 9a36972b2667847a86114653967afdd4 2020-03-27 13:41:00 Itália tem quase mil mortes causadas pela Covid-19, o recorde diário.\n",
            "[INFO][...] 00052ac8941bd2ecad41cdd08d79608e 2020-03-27 07:42:00 Leilão com objetos de famosos vai arrecadar dinheiro para ajudar hospitais no combate à Covid-19.\n",
            "[ERROR][2020/08/26 14:57] HTTP Error 404: NOT FOUND\n",
            "HTTP Error 404: NOT FOUND\n",
            "[INFO][...] 0b9ddb1f0c4b5373ce4109c4c210082c  \n",
            "[INFO][...] 71ba6d9adaf84641ec367a0e61bf187c 2020-03-27 02:09:00 O Assunto #152: O isolamento de Bolsonaro na crise da Covid-19.\n",
            "[ERROR][2020/08/26 14:58] HTTP Error 404: NOT FOUND\n",
            "HTTP Error 404: NOT FOUND\n",
            "[INFO][...] 5f0bbc727bfe3b5425997564e535cb45  \n",
            "[INFO][...] f3ccb2c65d06024d904c4aec3df69b58 2020-03-28 13:45:00 Prefeitura de Cravinhos, SP, confirma dois casos de Covid-19.\n",
            "[INFO][...] 39567e1b2275bd1db497e370ba19a54c 2020-03-28 21:19:00 Rondônia continua com 6 casos confirmados de Covid-19; 175 notificados aguardam resultado.\n",
            "[INFO][...] 6708726467cad6d2df9c78785e8d3706 2020-03-28 15:40:00 Covid-19: Prefeitura de Resende publica novo decreto com mais medidas preventivas.\n",
            "[INFO][...] bf3e00c3b4c99c43abe814706b6f8eee 2020-03-28 11:27:00 Advogada com Covid-19 no AC é transferida para UTI do pronto-socorro.\n",
            "[INFO][...] 348566a4ee99ad62200254a443950619 2020-03-27 23:57:00 Recomendação pede mais transparência no registro de casos suspeitos da Covid-19 no Amapá.\n",
            "[INFO][...] 77a58f7236114d0f1734a85d450ce17e 2020-03-28 12:07:00 Sobe para 11 número de testes negativos para Covid-19 em Santarém; 13 seguem em análise.\n",
            "[INFO][...] 704e6d9d7ce6ca9c7c81ffefefd2d603 2020-03-28 14:08:00 Ministério Público investiga hospital particular por se recusar a receber pacientes com a Covid-19 .\n",
            "[INFO][...] 89c6eacf7b5c724fdc174e22132e0705 2020-03-28 12:02:00 MPF questiona governo do AC por liberar motéis ao editar decreto com medidas contra Covid-19.\n",
            "[INFO][...] 17b17e36a486bdf440056d9a184bd9b3 2020-03-28 10:54:00 Prefeitura de Fortaleza higieniza UPAs que atendem suspeitos de Covid-19 .\n",
            "[INFO][...] 2252b2bf7f4f501c1f18575cd8dc2121 2020-03-28 16:03:00 Coronavírus: Laboratório de BH volta a fazer teste de Covid-19.\n",
            "[INFO][...] b41276bcd439fae4c2552d623f6a4fdd 2020-03-28 17:19:00 Casos confirmados de Covid-19 chegam a 18 em Ribeirão Preto, SP, diz Prefeitura.\n",
            "[INFO][...] 8c636e792a1aaabb39c01146342d17d2 2020-03-28 10:25:00 Ufopa vai dar alimentação a estudantes e dependentes durante enfrentamento à Covid-19.\n",
            "[INFO][...] 794ac2db6bb87921b233f08412bda437 2020-03-28 07:48:00 Após suspensão de funcionamento por causa da Covid-19, comércio de rua de Salvador amanhece fechado.\n",
            "[INFO][...] a2a279404d42d35be645cd63a35605a1 2020-03-28 15:22:00 Governador anuncia mais 147 leitos para pacientes de Covid-19 na Santa Casa de Cuiabá.\n",
            "[INFO][...] 9bbcd4a4567ca86c61e3412e3e7f8be0 2020-03-28 20:55:00 Secretaria decide divulgar boletim e diz que estado segue com nove casos de Covid-19 confirmados .\n",
            "[INFO][...] aada0fa9e3426fbba43985568284806a 2020-03-29 15:08:00 Prefeitura confirma primeiro caso de Covid-19 em Pirassununga.\n",
            "[INFO][...] 888a3786ea68262b4b12c08476cac95d 2020-03-29 19:55:00 Maricá e Macaé confirmam novos casos de Covid-19.\n",
            "[INFO][...] a4d582669c271c760e0b255610a9a798 2020-03-29 17:01:00 Comitê de Contingência descarta dois casos suspeitos de Covid-19 em Araraquara.\n",
            "[INFO][...] ab41f99f4938ecda8557800a84065367 2020-03-29 10:59:00 Duas mortes por suspeita de Covid-19 são descartadas na Paraíba, diz SES.\n",
            "[INFO][...] 9ac31304aea1e50dfba55024a5706805 2020-03-29 09:11:00 'Empresas vão ter que se reinventar', diz economista sobre impacto econômico com Covid-19.\n",
            "[INFO][...] 2f0387d2d2880fa21321ae992c8d3399 2020-03-29 20:07:00 Prefeito Firmino Filho confirma duas primeiras mortes por Covid-19 em Teresina.\n",
            "[INFO][...] 8f451df15912d8efd33c34b44ae38136 2020-03-29 19:43:00 Advogada acreana que está na UTI com Covid-19 já respira sem ajuda aparelhos, diz Saúde .\n",
            "[INFO][...] a863a38453fec0ee2da7e794b9276ff3 2020-03-29 15:21:00 Em meio à pandemia de Covid-19, associação pede volta do funcionamento de cartórios no Ceará.\n",
            "[INFO][...] 881b69cc2a012923013f6e2894e6ca26 2020-03-29 19:02:00 Para adequação de recomendações ao Covid-19, Ipat ganha nova portaria externa construída por detentos.\n",
            "[INFO][...] b22adce5f2eef51cea9fda6bd8a14b3c 2020-03-29 10:26:00 Prefeitura de Timóteo investiga morte de idoso com suspeita de Covid-19.\n",
            "[INFO][...] 8ebbcaac40cee05a3c362937bdee5ed5 2020-03-29 12:51:00 Portaria restringe sepultamentos e suspende velórios de pacientes suspeitos de Covid-19 em Cuiabá.\n",
            "[INFO][...] 9f392c48b3d730f690164f58a893bbe7 2020-03-29 18:41:00 Pernambuco monta central para receber doações durante pandemia de Covid-19.\n",
            "[INFO][...] 3350aaca7e7015652bc34227429736dd 2020-03-23 18:00:00 Veja o que abre e o que fecha no DF durante a pandemia de Covid-19.\n",
            "[INFO][...] c7617675187da7b4d0745f2ea1b5abee 2020-03-29 15:03:00 Prefeitura de Rio das Ostras, RJ, confirma dois primeiros casos de Covid-19 na cidade.\n",
            "[INFO][...] b18662a281ca30f8b65d2ad8af85aad6 2020-03-29 19:44:00 Caminhoneiros em MT sentem dificuldades para transportar soja com as medidas de prevenção ao Covid-19.\n",
            "[INFO][...] 49ce6d107ce30c287bcd995a0da71f28 2020-03-29 18:44:00 Prefeitura confirma o primeiro caso de Covid-19 em Curvelo.\n",
            "[INFO][...] 795c8a224a2352fac67cf9cab237028b 2020-03-30 08:34:00 MT tem 16 casos confirmados de Covid-19, diz governo.\n",
            "[INFO][...] c77cf5a4bc7fa95ec891fa64bdd7aa91 2020-03-30 21:26:00 Nazaré Paulista investiga morte suspeita de Covid-19.\n",
            "[INFO][...] 3400f7197f55332119cd5d1d23000000 2020-03-30 09:26:00 Espaços públicos de Teresina passam por sanitarização por combate a Covid-19.\n",
            "[INFO][...] ca70666605bd103a2a70be3dab0e5d36 2020-03-30 12:10:00 MPPA recomenda que embarcações intermunicipais adotem medidas de enfrentamento à Covid-19.\n",
            "[ERROR][2020/08/26 15:03] HTTP Error 404: NOT FOUND\n",
            "HTTP Error 404: NOT FOUND\n",
            "[INFO][...] aed36211f0fb9af64d496d5d01057c22  \n",
            "[INFO][...] 48f58ae181f37f7abc00ac281780ba15 2020-03-30 19:12:00 Criação de novos leitos é fundamental para o tratamento da Covid-19.\n",
            "[INFO][...] 19dd462a18cd08d8f9d6b3053d7c6dd5 2020-03-30 13:30:00 Itália tem mais de 100 mil casos confirmados de Covid-19.\n",
            "[INFO][...] aecac69aadbc795f0104dd61af50c3de 2020-03-30 11:52:00 Após presidente do Tjap ser confirmado com Covid-19, cinco servidores apresentaram sintomas do novo coronavírus.\n",
            "[INFO][...] 54f4b46c00f26ee0d9b1f6fabeb287f5 2020-03-27 18:31:00 Catarinense no Peru aguarda resultado de exame de Covid-19 para voltar ao Brasil.\n",
            "[INFO][...] a174c5ee84f926d60a7ac47a462f585e 2020-03-30 15:29:00 Capacidade de diagnóstico da Covid-19 no Ceará deve triplicar em até dois meses.\n",
            "[INFO][...] 49359938bed5e32749375f089e573e41 2020-03-30 21:57:00 ONU, ameaçada de paralisação pela Covid-19, adota por escrito quatro resoluções.\n",
            "[INFO][...] 9a3faf178b4db35cfd2bc5704e9565a9 2020-03-29 11:15:00 Prefeitura de Cravinhos, SP, confirma morte de idoso diagnosticado com Covid-19 .\n",
            "[INFO][...] 4c0281176620bdadc58a6e7792f67cfe 2020-03-30 13:03:00 Secretaria de Saúde anuncia mais um caso suspeito de Covid-19 em Adamantina.\n",
            "[INFO][...] 52577f64a326edf9bba364ab16a762fc 2020-03-30 13:37:00 Coronavírus: Prefeitura de Conchal investiga morte de idoso por suspeita de Covid-19.\n",
            "[INFO][...] 68194b7b7296ad0b38ced3472c5947c9 2020-03-31 19:11:00 Pindamonhangaba investiga 3ª morte suspeita por Covid-19.\n",
            "[INFO][...] f5d1e9d59ba9fe830113b7a761523215 2020-03-31 13:32:00 Prefeitura registra morte suspeita por Covid-19 em Presidente Venceslau.\n",
            "[INFO][...] 4a4f5d8468b69d2fedae914e7f8762f2 2020-03-30 10:34:00 Bauru divulga primeiros casos positivos de Covid-19 .\n",
            "[INFO][...] d1b1ea83e5c68141a1e970a409a576a3 2020-03-30 18:20:00 Ceará tem 382 casos confirmados de Covid-19.\n",
            "[INFO][...] 8529b88c110fdccffd080c72f27987c2 2020-03-31 06:38:00 México declara emergência de saúde por epidemia da Covid-19.\n",
            "[INFO][...] 83e9e353fd2f8478389f25e63159f47b 2020-03-31 14:28:00 19% dos pacientes com Covid-19 no Ceará têm doença cardiovascular.\n",
            "[INFO][...] 746ea826ca8909e2650515e8ea50e76f 2020-03-31 19:10:00 FPS prorroga edital de R$ 10 milhões por conta da pandemia de Covid-19.\n",
            "[INFO][...] bfd65447aef67bb9ac2eb49ed95b6665 2020-03-30 22:35:00 Crivella diz que secretária de Saúde do Rio está internada e apresentou sintomas de Covid-19.\n",
            "[INFO][...] c8b53966259cf987221d2ea9cf2293ab 2020-03-31 19:09:00 Presidente de Belarus mantém estádios abertos e recomenda vodka e sauna contra Covid-19.\n",
            "[INFO][...] 53dc157951cfa74a61bb92c8ec98f0c0 2020-03-31 09:34:00 Velórios de mortos por Covid-19 são suspensos e enterros devem ser imediatos, em João Pessoa.\n",
            "[INFO][...] bfee18218db1317545764df2393541c8 2020-03-31 12:52:00 Hospital de Emergência de Resende cria centro de triagem para pacientes com sintomas da Covid-19.\n",
            "[INFO][...] f6af5ee1d534a6a1aa1a2569a8652428 2020-03-31 18:13:00 Prefeitura de Sorocaba confirma 11 casos de coronavírus; cidade tem oito mortes suspeitas por Covid-19.\n",
            "[INFO][...] 2a480dc752b77044c8f85ff08522cbd6 2020-03-31 15:52:00 Bragança Paulista confirma mais três casos de Covid-19; registros chegam a dez na cidade.\n",
            "[INFO][...] 501bb749c42aa1db96086ff0355879a0 2020-03-31 17:35:00 Covid-19: Prefeitura de Montes Claros diz que credenciamento de laboratório da Unimontes pode agilizar exames.\n",
            "[INFO][...] 4bf8ea25235220d8f0cbeae309ac9afc 2020-03-31 19:19:00 Em MT, 48 pacientes seguem internados com suspeita de Covid-19; 19 deles estão em leitos de UTI.\n",
            "[INFO][...] 7d360d452b56a15a406ccd22708e8eee 2020-04-01 14:55:00 Descubra o perfil de vítimas da Covid-19 no Brasil.\n",
            "[INFO][...] 8593d049e6f954459ccbaaa0ad2f67f3 2020-04-01 00:53:00 O Assunto #155: Covid-19 - vai faltar leito de UTI?.\n",
            "[ERROR][2020/08/26 15:07] HTTP Error 404: NOT FOUND\n",
            "HTTP Error 404: NOT FOUND\n",
            "[INFO][...] f4fb8e8b7b0435f4a9b839adef2ce7f0  \n",
            "[INFO][...] 77d07b0f642f8c28e3c22456174d53e2 2020-04-01 20:08:00 Ceará deve receber 18 mil testes rápidos para Covid-19 .\n",
            "[INFO][...] 1da4c312bddaa38ccf3a12c44a83a46b 2020-04-01 21:16:00 Trump e Bolsonaro conversaram sobre combate à Covid-19 em telefonema.\n",
            "[INFO][...] 64a558791d2e91b847f1cc5238813299 2020-04-01 20:26:00 Estudo estima que 93% da população mundial têm restrições de viagem por Covid-19.\n",
            "[INFO][...] 0d569b7591a3a72d1f2c1a27c6320ff3 2020-04-01 21:43:00 Coronavírus: Casal de Curitiba que viajou de cruzeiro pela Europa se recupera da Covid-19.\n",
            "[INFO][...] fc24003d740dee8eea56a65437f30759 2020-03-31 21:46:00 Ceará registra 1ª morte por Covid-19 de paciente com menos de 60 anos.\n",
            "[INFO][...] eddd863b4b2ff9f6df48b0f1783ecc4c 2020-04-01 08:43:00 Mulher que morreu com problemas respiratórios em Aracaju não tinha Covid-19, diz SMS.\n",
            "[INFO][...] 0a9e4f0d8eb2ef29c75b3d28f9c0c4b2 2020-04-01 18:01:00 Com nove casos no interior, número de pacientes com Covid-19 chega a 43 no Acre .\n",
            "[INFO][...] 25f0d732548c5d53f5e1ec35c44865c6 2020-04-01 11:57:00 Cidade de Nova York registra mais de 1 mil mortes por Covid-19.\n",
            "[INFO][...] 8fcfb61eb6a44255fbb237426041a169 2020-03-31 19:00:00 Coronavírus: Exame de laboratório particular confirma segundo caso de Covid-19 em Matão.\n",
            "[INFO][...] 20858ccae0056b661fcf335725cbac59 2020-04-01 16:09:00 Serviço de teleconsulta para Covid-19 em Curitiba atende 11 mil pessoas em 15 dias.\n",
            "[INFO][...] 889711578e057b898d720a5214124ca4 2020-04-01 18:50:00 Paciente de hospital particular que faleceu em Maceió testou negativo para Covid-19, diz Sesau.\n",
            "[INFO][...] 9d8d9afaf8a4b8d1ae571dca5a473082 2020-04-01 09:31:00 Imigrante africano instalado em abrigo no interior do AC é isolado com sintomas de Covid-19.\n",
            "[INFO][...] eb95d697f4054f47facf4ae0b1584f9c 2020-04-02 06:27:00 Sergipe registra duas mortes pela Covid-19.\n",
            "[INFO][...] d1f6081ef9623a430ca6b97a0c7242cd 2020-04-02 06:52:00 Agudos divulga primeiro caso positivo de Covid-19 .\n",
            "[INFO][...] efea89cd33eab72bc06e3eb71b655974 2020-04-02 19:12:00 Cidades do noroeste paulista confirmam casos positivos de Covid-19.\n",
            "[INFO][...] b5ff88efe3de26e2e8230261a297e549 2020-04-02 15:27:00 Após contraprova, jornalista Roberto Fernandes testa positivo para Covid-19.\n",
            "[INFO][...] 21b960ca7425fe5537f470fbda30e20c 2020-04-02 14:33:00 Pacientes da Covid-19 podem desenvolver sintomas de conjuntivite.\n",
            "[INFO][...] 8fb7412a73c5bbebc847aec6b4cf1dcc 2020-04-02 10:06:00 Procedimento Investigatório Criminal sobre caso de Covid-19 em Alter do Chão corre em sigilo.\n",
            "[INFO][...] 85f73fb807e371e7ae6b47e6039b8f3d 2020-04-02 08:28:00 Prefeitura de Santarém prorroga medidas temporárias de enfrentamento à Covid-19.\n",
            "[INFO][...] 4bb58b38c5e5d2ebe43370821fc4891c 2020-04-02 18:11:00 Médico de 43 anos morre com Covid-19 no Ceará, diz sindicato.\n",
            "[INFO][...] 8dc676503cee44ffa7157f3d10b15a09 2020-04-02 16:39:00 Professores e alunos de Odontologia doam aventais cirúrgicos para ajudar no combate à Covid-19.\n",
            "[ERROR][2020/08/26 15:10] HTTP Error 404: NOT FOUND\n",
            "HTTP Error 404: NOT FOUND\n",
            "[INFO][...] abe51045d552708ce2a8036b89beb474  \n",
            "[INFO][...] 19648a8494ef531626b983427115e103 2020-04-02 03:45:00 Equador retira 150 corpos de casas; funerárias enfrentam caos por conta da Covid-19.\n",
            "[INFO][...] 061ff30e0eb7d4101264dbfc89932799 2020-04-02 22:01:00 Exame de casal de idosos de Nanuque dá positivo para Covid-19, segundo prefeitura.\n",
            "[INFO][...] e543c3eb8d670b1334e8de3ae35170c3 2020-04-02 17:31:00 Sem casos de Covid-19, cidade do interior do Acre declara estado de calamidade pública .\n",
            "[INFO][...] fc181b59ea219348eecdf89191dc1f86 2020-04-02 12:51:00 Coronavírus: Unicamp começa testes rápidos com resultados em até 48h para diagnóstico da Covid-19.\n",
            "[INFO][...] 2f17f199021f1db997068a6be2739c95 2020-04-02 12:14:00 Prefeitura de Botucatu confirma três casos de Covid-19 com testes feitos no HC.\n",
            "[INFO][...] 86a64369af9c88e72393b0ef2baea756 2020-04-03 17:21:00 Araçatuba chega a cinco casos confirmados de Covid-19.\n",
            "[INFO][..ZzZz..] Saving and going to take a nap\n",
            "[INFO][...] c693cd6a9effaf104bfcf394f9e84872 2020-04-03 11:20:00 Botucatu confirma mais quatro casos positivos de Covid-19.\n",
            "[INFO][...] 0844e542a72b11fab257c7a89ff0c428 2020-04-03 08:18:00 Laboratório da Unimontes é credenciado para testes da Covid-19.\n",
            "[INFO][...] 8fe943e0bd24320625e8815ad2df4ec5 2020-04-03 18:51:00 Presidente Prudente registra a 3ª morte suspeita por Covid-19.\n",
            "[ERROR][2020/08/26 15:17] HTTP Error 404: NOT FOUND\n",
            "HTTP Error 404: NOT FOUND\n",
            "[INFO][...] 2ad1de58ea7a3ac1d86f7fe7ebc74af8  \n",
            "[INFO][...] e540ba6f18157b84f5a0ddb97fe1d732 2020-04-03 09:43:00 Aleac aprova decretos de calamidade devido à Covid-19 de sete cidades do Acre .\n",
            "[INFO][...] 5b856d8d3f9b20b9f94a381920f8c346 2020-04-03 11:21:00 Covid-19 em Santarém: confira o boletim das notificações desta sexta-feira no município.\n",
            "[ERROR][2020/08/26 15:18] HTTP Error 404: NOT FOUND\n",
            "HTTP Error 404: NOT FOUND\n",
            "[INFO][...] 32e74751655ed29cb8998cf7807defa3  \n",
            "[ERROR][2020/08/26 15:18] HTTP Error 404: NOT FOUND\n",
            "HTTP Error 404: NOT FOUND\n",
            "[INFO][...] 955e4c3e9d1159618d27e9840952854f  \n",
            "[ERROR][2020/08/26 15:18] <urlopen error [Errno -2] Name or service not known>\n",
            "<urlopen error [Errno -2] Name or service not known>\n",
            "[INFO][...] 4a59bf3c901b360909fa7cad50ddf682  \n",
            "[INFO][...] 1657235cb5ca602f9a8c2a9a06aa06f3 2020-04-02 21:54:00 Teste de secretária de Educação do Rio dá positivo para Covid-19.\n",
            "[INFO][...] a8b53f952f8d1364366b109b62e429ea 2020-04-03 13:14:00 Equipamentos chegam ao Hospital Santa Catarina em Uberlândia, que será usado no combate à Covid-19.\n",
            "[INFO][...] 885f649b932a4e51238bc823f29c50de 2020-04-03 20:15:00 Verbas de consultas populares e emendas parlamentares são destinadas ao combate à Covid-19 no RS .\n",
            "[ERROR][2020/08/26 15:18] HTTP Error 404: NOT FOUND\n",
            "HTTP Error 404: NOT FOUND\n",
            "[INFO][...] 25ca565a93be5d50b361607ca5c1b507  \n",
            "[INFO][...] 6473510a322bcae69344bae006b24d4a 2020-04-03 11:24:00 Covid-19: Trabalhadores informais de Salvador receberão auxílio a partir de segunda; confira cronograma.\n",
            "[INFO][...] 8dbcca6d6e9747d260278b07aa4d2e1c 2020-04-04 20:40:00 ES tem mais 13 casos confirmados de Covid-19.\n",
            "[INFO][...] 9be17dbe088e9dc65ee6f68379a11f1a 2020-04-04 12:47:00 Prefeitura de Dianópolis confirma primeiro caso de Covid-19.\n",
            "[INFO][...] b48d83521257f299f8cae012fb17e244 2020-04-04 12:02:00 Coronavírus: Mococa confirma primeira morte por Covid-19.\n",
            "[INFO][...] 1389757838cc55b7b97d8a45f7e2f2f5 2020-04-04 21:46:00 UFC passa a realizar diagnósticos de Covid-19, após receber certificação do Lacen.\n",
            "[INFO][...] ab5df470cd9115b21e09788e0c0dd832 2020-04-04 11:59:00 Governo prorroga suspensão de visitas nos presídios para evitar contaminação por Covid-19.\n",
            "[INFO][...] fa5eb78f8963ec0cf7a050aecaaa40e8 2020-04-04 10:28:00 UFRR e IFRR mantêm suspensão de aulas presenciais por pandemia de Covid-19.\n",
            "[INFO][...] 0df050907b50c182d3a1401035bd1fa8 2020-04-04 09:54:00 Idoso de 80 anos morre vítima de Covid-19 em Cianorte, diz prefeitura.\n",
            "[INFO][...] a8c8361515906badfa8d83f9348fd62f 2020-04-04 10:17:00 Com 600 casos, Fortaleza concentra 91% das ocorrências de Covid-19 no Ceará.\n",
            "[INFO][...] d06632fdfaf9fad950392b0a2f7f6c51 2020-04-04 19:55:00 Coronavírus: São Carlos confirma 3º caso e Pirassununga apura morte por suspeita de Covid-19.\n",
            "[INFO][...] 244411f6b391e192d9e6f6fd2ee39100 2020-04-04 13:41:00 Hospital instala contêiner frigorífico para necrotério provisório após óbitos da Covid-19 no AM.\n",
            "[INFO][...] c1cc9819695fc87211533a85aec227d2 2020-04-03 18:10:00 Novo boletim aponta 46 casos confirmados de Covid-19 no Acre .\n",
            "[INFO][...] ed676835cdfec2004c84bea265e15efa 2020-04-04 12:22:00 PM recomenda afastamento de equipes que tiveram contato com militar diagnosticado com Covid-19.\n",
            "[INFO][...] fdd3fdf0212b4f34975c2d59646a6264 2020-04-04 01:20:00 China para por 3 minutos para prestar homenagem às vítimas da Covid-19.\n",
            "[INFO][...] 979a7105f727d2decbfdc451f38fe803 2020-04-04 12:02:00 Número de casos de Covid-19 em SC sobe para 334.\n",
            "[INFO][...] f1199e3319b2b18956eb3ba811985e1b 2020-04-04 18:35:00 Duas moradoras de Presidente Venceslau com suspeita de Covid-19 morrem em hospitais.\n",
            "[INFO][...] 91de954e3f8878b7af7205a50781b679 2020-04-05 19:02:00 Ubá tem primeiro caso de Covid-19 confirmado, diz Prefeitura.\n",
            "[INFO][...] b4907226798377575b36a3e888b2e735 2020-04-05 15:21:00 Coronavírus: Rio Claro confirma segundo caso de Covid-19.\n",
            "[INFO][...] 901474180ce9e8b060c9d7c3ba2bf793 2020-04-05 08:49:00 Rio Preto confirma 2ª morte por Covid-19.\n",
            "[INFO][...] b078a4e5b4fa2371d43a55ab1e1447e9 2020-04-05 15:57:00 Bragança Paulista investiga mais uma morte suspeita de Covid-19.\n",
            "[INFO][...] f9369d0deeef324cfcd8ef18d4c2fdd9 2020-04-04 20:03:00 Hospital de Cirurgia abre setor de UTI Covid-19.\n",
            "[INFO][...] 0f4b774e5d0774910447f74c3b4cc51c 2020-04-05 10:32:00 França autoriza uso de anestésico veterinário para tratar doentes com Covid-19.\n",
            "[INFO][...] 2ee47a2979270a052334e5b8a1dfaaf2 2020-04-05 20:54:00 Piracicaba confirma 16º caso de novo coronavírus; região soma 22 confirmações de Covid-19.\n",
            "[INFO][...] a9d928de443ebb8e46405848a5cd971f 2020-04-05 11:32:00 MPRJ promete repasse de R$ 100 milhões para ajudar no combate à Covid-19 .\n",
            "[INFO][...] 06decd1d659d9a600b1da218ba6bf8e3 2020-04-05 10:47:00 Sobe para 13 número de mortes por Covid-19 no AM, diz Governo.\n",
            "[INFO][...] be702c3f8d22c07a29be7c96a0782492 2020-04-05 11:18:00 Homem de 36 anos com suspeita de Covid-19 morre na Santa Casa de Dracena.\n",
            "[INFO][...] 2ee041e7293c1422ae3822c134758dd3 2020-04-05 18:31:00 Itália começa a mirar 'fase dois' em meio à redução de mortos por Covid-19.\n",
            "[INFO][...] 82c51a47e2bc7d086b9e053ead83e23e 2020-04-05 10:31:00 Curado de covid-19 tem alta após 12 dias entubado e homenageia funcionários do Hospital Igesp.\n",
            "[INFO][...] 35b6b616d5bd7f15591c11b9c175a688 2020-04-05 13:24:00 Cineasta mato-grossense com Covid-19 deixa a UTI após apresentar melhora em quadro clínico.\n",
            "[INFO][...] b66d7d540cd5dafe8b74fe267620a05b 2020-04-05 10:33:00 Palmas confirma mais um caso de Covid-19; Paciente pode ter sido contaminado no exterior.\n",
            "[INFO][...] e3db0e5891c7972a58f24aebc016b6a6 2020-04-05 13:42:00 Diagnosticado com covid-19, jurista Ives Gandra Martins deixa o hospital e cumpre quarentena em casa.\n",
            "[INFO][...] 679590eaf8aa8950832a15969108a2c0 2020-03-31 18:14:00 Prefeitura de Marília confirma primeiro caso de Covid-19.\n",
            "[INFO][...] a8953bd744d3cb8f68d22f14d6106cb8 2020-04-03 20:59:00 Morador de Lins testa positivo para Covid-19.\n",
            "[INFO][...] e9af73914bd571b4f66fe6c6be9e83fb 2020-04-01 17:28:00 Prefeitura de Promissão confirma primeiro caso de Covid-19 .\n",
            "[INFO][...] 369a3f542984e0ed34cfca71c131c3eb 2020-04-06 14:21:00 Novos sintomas da Covid-19 vêm sendo descobertos pela medicina.\n",
            "[INFO][...] ac1c474d57b29bd1388dd280faec0ff9 2020-04-06 14:24:00 Sintomas da Covid-19 podem ser confundidos com infarto.\n",
            "[INFO][...] 20c590e047937b773fda0cf46e06a0e4 2020-04-04 19:02:00 ES tem seis mortes por Covid-19 confirmadas.\n",
            "[INFO][...] 3d0c098a4cb16e85652c9f9dbcdd3507 2020-03-30 08:12:00 Lençóis Paulista divulga primeiro caso confirmado de Covid-19 .\n",
            "[INFO][...] fab6c332da0558d8950c195dd5c2ea9d 2020-04-06 20:07:00 Lençóis Paulista registra o terceiro caso positivo de Covid-19.\n",
            "[INFO][...] ac0736a303f7faa26816feec49b0aca1 2020-04-02 17:28:00 Prefeitura de Jaú confirma o primeiro caso de Covid-19.\n",
            "[INFO][...] c5e467072f3f90213056f728d57a0851 2020-03-24 14:28:00 É #FAKE que auto-hemoterapia cure a Covid-19.\n",
            "[INFO][...] 3b9c719586694039cb3a11863a08d00f 2020-04-06 19:08:00 Teste descarta Covid-19 em mulher que morreu com suspeita da doença em Valença.\n",
            "[INFO][...] 0d77a88935ab56c03b4735c4845c3dbf 2020-04-05 20:48:00 Homem de 66 anos morre com suspeita de Covid-19 em Araçatuba.\n",
            "[INFO][...] b9cad1f8d080e93b37f5ab9a484946e4 2020-04-06 21:03:00 Boris Johnson é transferido para UTI para tratamento de Covid-19.\n",
            "[INFO][...] 2d4cf7d89b06490dfb5525ce2171c31a 2020-04-06 19:34:00 Rondônia confirma mais 4 casos de Covid-19 e total vai a 18.\n",
            "[INFO][...] 5e54ac873543007f9f5d065928017ac5 2020-04-06 11:04:00 UFRN recebe R$ 18 milhões para compra de testes da Covid-19 e equipamentos de proteção.\n",
            "[INFO][...] c1da9147cb2521c47eb4df5e53a0f117 2020-04-07 14:35:00 Mortes por Covid-19 na França passam de 10 mil.\n",
            "[INFO][...] ac9782685a4a1f16772fb09e162a0e89 2020-04-07 12:54:00 Primeira morte por Covid-19 é confirmada em Laranjal Paulista.\n",
            "[INFO][...] 79db2ba3b34d69580c9e19c68c50babb 2020-04-07 15:00:00 Acaba o confinamento em Wuhan, primeiro epicentro da Covid-19.\n",
            "[ERROR][2020/08/26 15:26] HTTP Error 404: NOT FOUND\n",
            "HTTP Error 404: NOT FOUND\n",
            "[INFO][...] fa908a8d04fa44ad36c812f8d814f6e6  \n",
            "[INFO][...] ab242acd9e19e9242a726315abbf0945 2020-04-07 13:55:00 Vereador de Santos testa positivo para Covid-19: 'muito difícil'.\n",
            "[INFO][...] a8ad7a65d2be448f6dc479ead9df706b 2020-04-07 16:12:00 Programação online exibe 'Saberes Passados' e infanto-juvenil 'Tabuh' durante Covid-19.\n",
            "[INFO][...] f8955252095220ffdd7d9dfdb8b8be92 2020-04-07 14:13:00 Grupo monta força-tarefa na BA para consertar respiradores mecânicos durante pandemia da Covid-19 .\n",
            "[INFO][...] 1163656ab218379900200a0f226f5219 2020-04-07 21:54:00 Profissionais que atuam na saúde representam 21% dos pacientes confirmados com Covid-19 no Alto Tietê .\n",
            "[INFO][...] 503da587ee4d977bca7d4c4535a967cd 2020-04-07 06:43:00 Luva que 'destrói vírus' e novos aparelhos respiratórios; conheça projetos da UnB contra a Covid-19.\n",
            "[INFO][...] f937f88787ba788f9f536df1d46a1181 2020-04-07 17:24:00 Mais de 200 exames aguardam resultados para diagnóstico de Covid-19 em Presidente Prudente.\n",
            "[INFO][...] 6635a66d5cefd78e4ccd67cd664d9605 2020-04-07 15:34:00 Covid-19: Como a Europa está se preparando para deixar o confinamento.\n",
            "[INFO][...] ebd9891c315db9e3df3651508c5f3bb8 2020-04-07 16:52:00 Com quatro casos da Covid-19, Vitória da Conquista declara estado de calamidade pública.\n",
            "[INFO][...] 69c8246e8b369a89bf56ee839e258cf2 2020-04-07 17:51:00 Guiné Equatorial expulsará pastores brasileiros em meio a contenção da Covid-19.\n",
            "[INFO][...] 84523f765b877eeb4e9ba6fa65eeabaf 2020-04-07 11:47:00 Coronavírus: jogo de perguntas e respostas desenvolvido na UFMG tira dúvidas sobre Covid-19.\n",
            "[INFO][...] 13cccf0a07750b73f7a41a09a2ae8a2d 2020-04-06 21:29:00 Centros de Saúde de Florianópolis são fechados após servidores apresentarem sintomas da Covid-19.\n",
            "[INFO][...] a5e3410664b5f84c0e10663cee88da76 2020-04-08 19:34:00 Sergipe registra o 39º caso da Covid-19.\n",
            "[INFO][...] 74373d7b7fb424ebb85b1953421cad5e 2020-04-08 18:13:00 Coronavírus: Santa Gertrudes tem 1º caso confirmado de Covid-19.\n",
            "[INFO][...] 103f7b35baa7b1b913822b715ba431b9 2020-04-08 11:44:00 Crea-PR segue atuando durante quarentena do COVID-19 .\n",
            "[INFO][...] 82a4f9eb88d5a7b672d899b79948702f 2020-04-08 14:28:00 Coronavírus: Corumbataí confirma 1º caso de Covid-19 .\n",
            "[INFO][...] 0ca5fe6334414d3db725df3c8bc14bea 2020-04-08 20:09:00 Prefeitura de Pratânia registra 3 casos de Covid-19.\n",
            "[INFO][...] 92eacc4dc7a28d6719054162d490d369 2020-04-08 12:04:00 Prefeitura anuncia segunda morte por Covid-19 em Laranjal Paulista.\n",
            "[INFO][...] 26c876653e140f863396da44a07a2d1e 2020-04-08 20:11:00 Prefeitura de Fernandópolis confirma terceiro caso de Covid-19 .\n",
            "[INFO][...] 9a908b3da7906222605e510eda3147f4 2020-04-08 10:23:00 Universidade de Fortaleza vai realizar diagnóstico de Covid-19.\n",
            "[INFO][...] 1bb8f94a5a858d33474f15282d3b54d4 2020-04-07 21:09:00 Botucatu registra 18 casos confirmados de Covid-19.\n",
            "[INFO][...] 57d5d0f2ab1668e198a1f69d6f264fee 2020-04-08 12:21:00 São Sebastião registra segunda morte por Covid-19, diz prefeitura.\n",
            "[INFO][...] e50e37dcd7998aa1bd0d2aad7b01ddc2 2020-04-07 14:44:00 Ceará registra 40 mortes por Covid-19 e 1.188 casos.\n",
            "[INFO][...] 481e49d1b3916b8574a85a622a3a829a 2020-04-08 19:21:00 Coronavírus: São Carlos confirma primeira morte por Covid-19.\n",
            "[INFO][...] a6314c912a11a4bc174111fbb8f2050b 2020-04-08 10:07:00 Bem Estar #33: Covid-19, a doença da solidão?.\n",
            "[INFO][...] d91a543ba9487449f4c60a841464bc26 2020-04-08 07:59:00 Teste descarta Covid-19 em idoso que morreu com suspeita da doença em Paraty.\n",
            "[INFO][...] dbe3b61fa221278aaa6fca3b98e410d6 2020-04-08 06:01:00 Alunos da UFMG trabalham como voluntários para agilizar diagnóstico de testes da Covid-19.\n",
            "[INFO][...] 1d7b0955191519ee4ccbebaf5c0157f3 2020-04-09 18:06:00 Iges-DF pesquisa tratamento para Covid-19.\n",
            "[INFO][...] d126985f7334fbf366727210dc4edb95 2020-04-09 17:45:00 Maior número de pacientes com Covid-19 são homens.\n",
            "[INFO][...] e191577340f1ed929527001ef69dfe49 2020-04-09 17:49:00 Roraima tem mais um paciente curado da Covid-19.\n",
            "[INFO][...] 6a3429ad4d9adb2e34c619068467edbc 2020-04-09 05:30:00 Fapergs seleciona pesquisas que auxiliem no combate à Covid-19.\n",
            "[INFO][...] 95a017ea4fc54a8d9624c6c6c9068644 2020-04-09 07:16:00 Prefeitura de Governador Valadares confirma terceiro caso de Covid-19.\n",
            "[INFO][...] 4dfa60936c98a7079bcdc53d4d0a40d4 2020-04-09 09:56:00 ES tem sete mortes por Covid-19 confirmadas.\n",
            "[INFO][...] 80aef9d5b59e6c53823bc3e63ab98f06 2020-04-09 19:23:00 Rio Preto tem 47 casos confirmados de Covid-19.\n",
            "[INFO][...] 2ee1c79e1278657fb422eee969bcadc0 2020-04-09 10:30:00 São Manuel registra primeira morte por Covid-19.\n",
            "[INFO][...] e9ce88f12ff31e13862bcb09b101ccba 2020-04-08 17:25:00 Angra dos Reis recebe testes rápidos para diagnosticar Covid-19.\n",
            "[INFO][...] c2950b7748d6cb5bfaf8b5cb9553ac51 2020-04-09 12:37:00 Laboratório credenciado realizará testes rápidos para Covid-19 em Jundiaí.\n",
            "[INFO][...] 1104a6ea86bdccc91b178edebc719280 2020-04-09 16:57:00 Coronavírus: Rio Claro confirma primeira morte por Covid-19.\n",
            "[INFO][..ZzZz..] Saving and going to take a nap\n",
            "[INFO][...] 827b619d0b64ac29c162b6bbc89f9807 2020-04-09 10:58:00 Prefeitura de Paranaguá confirma duas novas mortes por Covid-19.\n",
            "[INFO][...] ccb3abb0826527d887706b4eb8aa0387 2020-04-09 15:22:00 Com Covid-19, Boris Johnson deixa a UTI.\n",
            "[INFO][...] ca899c28c0c56267d50e637f49424f33 2020-04-09 12:18:00 Coronavírus: Porto Ferreira confirma a 1ª morte por Covid-19.\n",
            "[INFO][...] f4dbc14dfeeb2d08e917af1dec97acf5 2020-04-09 13:07:00 Prefeitura de Itiúba, na Bahia, determina 'toque de recolher' como medida de prevenção a Covid-19.\n",
            "[INFO][...] 1955e3a2e531650e397f385981f1b9d6 2020-04-10 20:37:00 Vinhedo investiga 4º óbito suspeito por Covid-19.\n",
            "[INFO][...] f754270768c9631c4bd50214b8287969 2020-04-09 18:58:00 Fernandópolis registra 5º caso positivo de Covid-19.\n",
            "[INFO][...] 4cbadf87d3e1210b7c78c0fbb46078cd 2020-04-10 16:43:00 GDF lança versão do Portal Covid-19 para dispositivos móveis.\n",
            "[INFO][...] fd2b43c107dba010695bc5159806f3fc 2020-04-10 12:10:00 Paraná tem 199 pessoas recuperadas da Covid-19, diz Sesa.\n",
            "[INFO][...] 5dd5e7e40e319970a88e7861d296c21b 2020-04-10 13:12:00 Morador de Iretama morre vítima de Covid-19, confirma prefeitura .\n",
            "[INFO][...] 8806400e19d49141c8d6dd8e5b34114f 2020-04-07 14:01:00 Saúde do Acre investiga morte de idoso de 75 anos por suspeita de Covid-19.\n",
            "[INFO][...] a3cd31a48a693b9be894cd3df03eb57e 2020-04-10 17:56:00 Secretaria confirma 112 casos da Covid-19 em MT; dois pacientes morreram.\n",
            "[INFO][...] cc1da4a2838f9975d8a60e383ff456d4 2020-04-10 20:57:00 Avião da FAB chega ao Ceará com 30 respiradores para auxilar pacientes com Covid-19.\n",
            "[INFO][...] a33294eec120a1f05af0da670f718115 2020-04-10 20:41:00 Estudante de Santa Isabel que venceu a Covid-19 relata sintomas e cuidado no isolamento.\n",
            "[INFO][...] 4bdd41b128ba2084a2631a34594ccfb1 2020-04-10 14:54:00 Artesãos de comunidades do Rio fabricam máscaras caseiras para intensificar combate à Covid-19.\n",
            "[INFO][...] 3a17f27fe1e5d511093a4c47fab1f3db 2020-04-10 17:51:00 Vigilância Epidemiológica aguarda resultado de 176 exames para diagnóstico de Covid-19 em Presidente Prudente.\n",
            "[INFO][...] 8883237e9be047352f5c753e33537bf2 2020-04-10 14:34:00 Hospital referência em Covid-19 de Manaus atinge capacidade máxima operacional, diz governo.\n",
            "[INFO][...] ac38f28a00d0c97e3db396a62f9309ce 2020-04-10 14:28:00 Coronavírus: Araraquara e Matão confirmam mais 2 casos de Covid-19 e região soma 49.\n",
            "[INFO][...] fce490ad8817091360549c779572fd6a 2020-04-10 20:59:00 Brasil ultrapassa a marca de mil mortes causadas pela Covid-19.\n",
            "[INFO][...] 44e96c58205a791cf5f8813dc8bc7abe 2020-04-10 17:47:00 Sobe para 13 o número de casos confirmados de Covid-19 em Santarém.\n",
            "[INFO][...] f58716de72fd042716e15ee93a04b96f 2020-04-11 11:18:00 Amapá confirma terceira morte em decorrência da Covid-19.\n",
            "[INFO][...] 0e7dcdfdbfbe9e8ce0a94c25ab489431 2020-04-11 13:35:00 Coronavírus: Leme confirma primeira morte por Covid-19.\n",
            "[INFO][...] 076c690db1ac6552b9c59b44b673487d 2020-04-11 13:46:00 Rio Preto confirma 3ª morte por Covid-19; Araçatuba tem 19 casos.\n",
            "[INFO][...] 5cefc55fe6f4d08208ed4a44092d818e 2020-04-11 12:58:00 Bahia tem 19 novos casos de Covid-19; nº de infectados chega a 635 no estado.\n",
            "[INFO][...] f029455836a940cffcb01277381a794a 2020-04-11 10:57:00 Covid-19: Araraquara tem mais 13 confirmações e chega a 27 casos.\n",
            "[INFO][...] 4b154f4b43683233136ee0a0d230bc77 2020-04-11 21:00:00 Combate a Covid-19: Estudante do sul da Bahia doam sabão produzido por eles para hospitais .\n",
            "[INFO][...] c4744c37ad4dfb2086352a6a8e29b2cf 2020-04-11 07:19:00 RJ tem quase 150 mortes por Covid-19 e 2,4 mil casos.\n",
            "[INFO][...] 09afa9f617059236f88c110cf4047b2c 2020-04-11 07:00:00 Testes de medicamentos contra Covid-19 em Fortaleza devem começar na próxima semana .\n",
            "[INFO][...] bb9cd3bce3d2208bb1347f57654e43f5 2020-04-11 10:40:00 Jovem infectada com Covid-19 está curada, diz Prefeitura de Santana do Paraíso.\n",
            "[INFO][...] f0c28aa8e8f1507c1bf65ab757177890 2020-04-09 18:16:00 HC de Bauru terá 40 novos leitos para desafogar Hospital Estadual durante pandemia de Covid-19.\n",
            "[INFO][...] 20efa1423212a5c9b366593d1916db8f 2020-04-11 17:15:00 Órgãos orientam população a evitar aglomeração no combate à Covid-19 no interior do Acre.\n",
            "[INFO][...] 6c51e220ceb9f7bc0ffd0c5bfd908a6f 2020-04-11 12:11:00 Prefeitura de Cambuquira decide fechar até comércio essencial após confirmar 1º caso de Covid-19.\n",
            "[INFO][...] 14329de9ac18a37188ab23bfe5660bdc 2020-04-11 14:23:00 Iapen-AC confirma segundo policial penal com Covid-19 em Rio Branco.\n",
            "[INFO][...] a25f69e016423508ee58ce193f7b8f4d 2020-04-11 12:52:00 Número de mortos por Covid-19 no Reino Unido se aproxima de 10 mil.\n",
            "[INFO][...] dc632b4e123b02a4dd7bb07981d80aa4 2020-04-11 13:54:00 Casos de Covid-19 em Cuiabá estão em 26 bairros, aponta estudo.\n",
            "[INFO][...] 634d0d4add51e8afa559fdb3356f2c9d 2020-04-11 09:23:00 Casos de Covid-19 no Ceará chegam a 1.670.\n",
            "[INFO][...] 001c713821d55d4dac79c3d69516d64e 2020-04-11 19:04:00 Ator Felipe Simas é diagnosticado com a Covid-19.\n",
            "[INFO][...] bb7dce1fb1d83d4688ac49b3e0bc609e 2020-04-12 22:19:00 Covid-19 faz vítimas entre profissionais da saúde no Brasil.\n",
            "[INFO][...] 864afe7520539579520692ba5fd267ed 2020-04-12 12:49:00 Presidente da Câmara de Arandu morre após contrair Covid-19.\n",
            "[INFO][...] 826edd93d4c261873177da439489f89a 2020-04-12 17:09:00 Rio Preto chega a 54 casos positivos de Covid-19.\n",
            "[INFO][...] 929ae3b2716d454209c833b31bec0308 2020-04-12 21:43:00 Depois de tigresa testar positivo para Covid-19, especialistas indicam cuidados com animais.\n",
            "[INFO][...] 7cc05ed59df099185e1b5df17280b3e2 2020-04-12 17:58:00 Acre confirma mais 5 casos da Covid-19 e número de infectados chega a 77.\n",
            "[INFO][...] b40b31128c9e277fe59491df4f060451 2020-04-12 10:33:00 Idoso que foi primeiro caso confirmado de Covid-19 em Ourinhos recebe alta sob aplausos; vídeo.\n",
            "[INFO][...] d6efdf4398d31ac4cb95d8a5c91b9007 2020-04-12 18:21:00 Câmara de Campinas vota novas medidas de combate à Covid-19 e analisa mudanças no Camprev .\n",
            "[INFO][...] b0e76a8e9f6e79735c2c6f1966eade0e 2020-04-11 09:59:00 Pároco da Paróquia da Gruta de Lourdes é internado com Covid-19, diz Arquidiocese de Maceió .\n",
            "[INFO][...] 95b690fc032b32fe3889f9741f94ac28 2020-04-12 15:49:00 Detento morre após ser internado em hospital na Grande Fortaleza; secretaria descarta Covid-19.\n",
            "[INFO][...] a7d88f521e9dee10065cfc7ff5b9b5d0 2020-04-12 17:01:00 Sobe para 259 o número de casos de Covid-19 no Pará.\n",
            "[INFO][...] c05f8fde280e6f4c83cdfd20eccf7091 2020-04-12 11:31:00 Processo seletivo para bolsas de estudo em Taubaté é suspenso diante da pandemia da Covid-19.\n",
            "[INFO][...] b555f177e64ee7030db74f9250f9ad6a 2020-04-12 21:35:00 Eliyahu Bakshi-Doron, ex-grande rabino de Israel, morre aos 79 anos com a Covid-19.\n",
            "[INFO][...] 439e40ee3877f65fe0b49158357659ca 2020-04-12 20:45:00 Fisioterapeuta da rede municipal de saúde de São Tomás de Aquino, MG, morre por Covid-19.\n",
            "[INFO][...] 6101ff1acc2a0edc52e8d872fb8d8e61 2020-04-13 16:44:00 Estado, Saúde Pública e a Emergência Sanitária do Covid-19.\n",
            "[INFO][...] 614e942f06badf02cca5c2da637242de 2020-04-10 16:50:00 Coronavírus: DF registra 14ª morte por Covid-19.\n",
            "[INFO][...] 2739e231115a7a365b31fc3195c9ed27 2020-04-13 19:31:00 Eleição presidencial é adiada por Covid-19 na República Dominicana.\n",
            "[INFO][...] f79d08c06598a124710897e6fefbcc6c 2020-04-13 19:05:00 Coronavírus: Rio Claro confirma a terceira morte por Covid-19.\n",
            "[INFO][...] 3c3ab9292f51450f7f47d5996632cb9d 2020-04-13 14:10:00 Mendes confirma primeiro morador diagnosticado com a Covid-19.\n",
            "[INFO][...] 137e69041b8bd926231e51bb987f0eab 2020-04-13 15:44:00 A relação entre os animais e a COVID-19 .\n",
            "[INFO][...] 3e43fb675cd382417490531b2046dd04 2020-04-11 13:01:00 Coronavírus: GDF confirma 576 casos de Covid-19 no DF.\n",
            "[INFO][...] 2e978fc935f750fc3b3090b5f0c1687d 2020-04-13 13:58:00 Prefeitura do interior do AC suspende cobrança de empréstimos de servidores durante pandemia da Covid-19.\n",
            "[INFO][...] ba800cf41a93fa414199b1ccb969638a 2020-04-13 09:18:00 Uepa realiza campanha e usa poesia como terapia em tempos de pandemia da Covid-19.\n",
            "[INFO][...] 25d4979419907ee77eb07a6f75b8af60 2020-04-13 16:51:00 Energisa apoia produção de testes para diagnóstico de Covid-19 pela Fiocruz.\n",
            "[INFO][...] 58a56aaa0837c8730dce6c5b6020e8e8 2020-04-13 13:02:00 Governador diz que testes confirmaram casos de Covid-19 no Sul do PI.\n",
            "[INFO][...] f85b82d3e3d9bc36b893081aef165b22 2020-04-13 21:16:00 Ceará é o terceiro estado com maior número de casos confirmados de Covid-19.\n",
            "[INFO][...] 2c764d98128e75b2eec0f3d3758494a7 2020-04-13 18:21:00 SC chega a 26 mortes por Covid-19 e quer contratar leitos na rede privada.\n",
            "[INFO][...] 30916596665dc474e09073e6c7a18841 2020-04-13 13:49:00 Quem é Luís Pitarma, enfermeiro português elogiado por Boris Johnson após internação para tratar Covid-19.\n",
            "[INFO][...] 6e0d52924565f38725304850b931586c 2020-04-08 10:06:00 Médico infectado pela Covid-19 relata período de internação: 'sensação de que ia morrer'.\n",
            "[INFO][...] 0df2a3f53a722bb7267033da5624aa34 2020-04-14 06:09:00 RJ tem 191 mortes por Covid-19.\n",
            "[ERROR][2020/08/26 15:47] HTTP Error 404: NOT FOUND\n",
            "HTTP Error 404: NOT FOUND\n",
            "[INFO][...] c6f439d2f30bdfaf14f8855ad8665b0d  \n",
            "[INFO][...] fffdd61d9dc1a610847bc022f475a90d 2020-04-14 18:21:00 Bauru confirma terceira morte por Covid-19 na cidade.\n",
            "[INFO][...] 6976de4e157523e6ca96c7bf484932b7 2020-04-14 11:57:00 Hospital de Jundiaí confirma morte de funcionário por Covid-19.\n",
            "[INFO][...] ee9502ef6194112a89525d88c1501f29 2020-04-14 20:10:00 Aguaí confirma por tomografia o primeiro caso de Covid-19 .\n",
            "[INFO][...] e35da8f506811f07437289035e7a7b9e 2020-04-14 22:12:00 EUA tem 2.228 mortes por Covid-19 em 24 horas .\n",
            "[INFO][...] 278ac96d7c89bc92a1582a82947164a9 2020-04-14 17:49:00 Empresário de 64 anos morre com Covid-19 em Sorocaba.\n",
            "[INFO][...] a3e7f8aad544f019100f65f3e4d7bc2d 2020-04-14 12:08:00 Guardas levam música para profissionais em unidade referência do Covid-19 em Macapá.\n",
            "[INFO][...] dbd73981bf50508ba6a3e573f58def7e 2020-04-14 19:34:00 Colaboradores e acolhidos do abrigo municipal recebem orientações sobre a Covid-19, em Santarém.\n",
            "[INFO][...] 79b7df1810ec1aa74d57cc451efe4453 2020-04-14 17:12:00 Energisa apoia produção de testes para diagnóstico de Covid-19 pela Fiocruz.\n",
            "[INFO][...] e59e471964f673c8e538ee53d871d46d 2020-04-14 18:25:00 Vigilância Epidemiológica anuncia mais uma morte suspeita por Covid-19 em Presidente Prudente.\n",
            "[INFO][...] a7c5d897daebd313edf49ccf140b5553 2020-04-14 15:52:00 Chile fará exames em massa para identificar pacientes assintomáticos de Covid-19.\n",
            "[INFO][...] 9533069e608ea6b7755b7eeef9b4ee00 2020-04-13 09:43:00 Exames de Covid-19 começam a ser feitos na unidade regional do Adolfo Lutz em Bauru .\n",
            "[INFO][...] e456f860667c95159faeb504ca4e989c 2020-04-13 14:53:00 Adolescentes em unidades socioeducativas fazem videochamadas com familiares para evitar contágio da Covid-19.\n",
            "[INFO][...] 1561854352244768a232d7410c02cc17 2020-04-14 15:20:00 Santa Casa de São Carlos usa centro de simulação para capacitar equipe contra a Covid-19.\n",
            "[INFO][...] 8056c46a2217666ba338b430cef9249a 2020-04-15 16:59:00 As relações contratuais em tempos de COVID-19.\n",
            "[INFO][...] 4cbc82de30228ad4d9435ab1c4ddef37 2020-04-15 19:13:00 Penitenciária de Sorocaba tem três detentos com Covid-19 .\n",
            "[INFO][...] eb29b5a6946b20b729a8cf3598be5c9a 2020-04-15 02:08:00 O Assunto #165: Amazonas em colapso pela Covid-19.\n",
            "[INFO][...] 2c2f3237e143c4b81dc56e206a77130a 2020-04-15 13:49:00 Teresópolis, RJ, confirma primeira morte por Covid-19.\n",
            "[INFO][...] 2704b5afb4939f4ef7f2201a3f7af764 2020-04-07 18:11:00 Coronavírus: Brotas confirma primeira morte por Covid-19.\n",
            "[INFO][...] cd45c54296c05b9762123aa200821600 2020-04-15 20:53:00 Prefeitura confirma quarto óbito e mais 19 novos casos de Covid-19 em Petrópolis, no RJ .\n",
            "[INFO][...] 26bab1598288ba023fc94db0fb866b76 2020-04-14 19:07:00 Mais uma pessoa é diagnosticada com a Covid-19 e estado passa a registrar 46 casos .\n",
            "[INFO][...] 65a822d1120447a01bd460b00e3bd9e1 2020-04-15 06:00:00 Rocinha tem 35 casos de Covid-19; 'próximos dias serão bem difíceis', diz morador .\n",
            "[INFO][...] 587616cc7936115155e2e2102956fcd2 2020-04-15 09:34:00 Governo da PB muda direção do Hospital Clementino Fraga, referência para a Covid-19.\n",
            "[INFO][...] 6703c801af8451e7ed3c6041ac9f0f87 2020-04-15 11:36:00 Covid-19: Fapeam lança edital para Emergências de Saúde Pública no AM.\n",
            "[INFO][...] ed522f3088e1fb5664c17edaf4817d80 2020-04-15 20:10:00 AM recebe EPIs, testes rápidos para Covid-19 e álcool gel enviados pelo Ministério da Saúde.\n",
            "[INFO][...] e1d0ca04d5316cf325770e3dbf524094 2020-04-15 19:45:00 Adolescente de 17 anos é a mais jovem vítima da Covid-19 no RJ.\n",
            "[INFO][...] 675a6caee6045d0c05078c42a0f5c62b 2020-04-15 07:15:00 Seis estações e uma linha de BRT são desativadas durante a pandemia de Covid-19.\n",
            "[INFO][...] 8d8439951e6b909d547573e61d685ede 2020-04-15 16:33:00 Prefeitura de Araruama, RJ, inaugura Hospital de Campanha Covid-19 no Centro.\n",
            "[INFO][...] 25a277df028d69d79126e4578b0c0edd 2020-04-15 13:06:00 Municípios sergipanos começam a receber testes rápidos para detectar a Covid-19.\n",
            "[INFO][...] 60c01b9c89b923d4fbbb3708e1cf73ce 2020-04-16 13:14:00 Armação dos Búzios tem 4 casos de Covid-19 confirmados.\n",
            "[ERROR][2020/08/26 15:51] HTTP Error 404: NOT FOUND\n",
            "HTTP Error 404: NOT FOUND\n",
            "[INFO][...] c737205e8187de934251f7c0ad22c3d0  \n",
            "[INFO][...] ab92389518aadfe7fad75a9a7813e195 2020-04-16 06:27:00 RJ chega a 276 mortes por Covid-19.\n",
            "[INFO][...] 4ee85a59abe3c89917f5e46da7bcedd2 2020-04-16 16:28:00 EUA superam marca de 30 mil mortos por Covid-19.\n",
            "[INFO][...] caa37d5470a6459060feb0a4cb51eb11 2020-04-16 16:06:00 Centros acolhem pessoas em vulnerabilidade social com Covid-19.\n",
            "[INFO][...] 1586b33ae45fae924419c1508961692a 2020-04-16 13:50:00 Miguel Pereira tem terceiro caso confirmado da Covid-19.\n",
            "[INFO][..ZzZz..] Saving and going to take a nap\n"
          ],
          "name": "stdout"
        }
      ]
    },
    {
      "cell_type": "markdown",
      "metadata": {
        "id": "v0z0lUDbqcm6",
        "colab_type": "text"
      },
      "source": [
        "### Cleaning"
      ]
    },
    {
      "cell_type": "code",
      "metadata": {
        "id": "WtYQ4DV4qg05",
        "colab_type": "code",
        "colab": {}
      },
      "source": [
        "def remove_stopwords(text, tokenize=True):\n",
        "  sentences = []\n",
        "  \n",
        "  words = word_tokenize(text.lower())\n",
        "\n",
        "  stopwords_list = set(stopwords.words('portuguese') + list(punctuation))\n",
        "  text_without_stopwords = [word for word in words if word not in stopwords_list]\n",
        "  clean_text = [t for t in text_without_stopwords if re.match(r'[A-Za-z]', t)]\n",
        "  \n",
        "  if tokenize:\n",
        "    sentences = sent_tokenize(text)\n",
        "    return clean_text, sentences\n",
        "  else:\n",
        "    return clean_text"
      ],
      "execution_count": null,
      "outputs": []
    },
    {
      "cell_type": "code",
      "metadata": {
        "id": "Et-17ldhqlEs",
        "colab_type": "code",
        "colab": {}
      },
      "source": [
        "def word_count_frequency(clean_text, sentences):\n",
        "  frequency = FreqDist(clean_text)\n",
        "  main_sentences = defaultdict(int)\n",
        "\n",
        "  for i, sentence in enumerate(sentences):\n",
        "      for word in word_tokenize(sentence.lower()):\n",
        "          if word in frequency:\n",
        "              main_sentences[i] += frequency[word]\n",
        "\n",
        "  return frequency, main_sentences"
      ],
      "execution_count": null,
      "outputs": []
    },
    {
      "cell_type": "markdown",
      "metadata": {
        "id": "Kafr6BFRry0I",
        "colab_type": "text"
      },
      "source": [
        "### Filters"
      ]
    },
    {
      "cell_type": "markdown",
      "metadata": {
        "id": "Dea0Mdkar0q9",
        "colab_type": "text"
      },
      "source": [
        "#### Word Count"
      ]
    },
    {
      "cell_type": "code",
      "metadata": {
        "id": "C6L2B5RUr3oe",
        "colab_type": "code",
        "colab": {}
      },
      "source": [
        "def word_count_report(text):\n",
        "  clean_text_bag = []\n",
        "  sentences_bag = []\n",
        "  \n",
        "  clean_text, sentences = remove_stopwords(text)\n",
        "  clean_text_bag += clean_text\n",
        "  sentences_bag += sentences\n",
        "\n",
        "  frequency, main_sentences = word_count_frequency(clean_text_bag, sentences_bag)\n",
        "  idx_main_sentences = nlargest(4, main_sentences, main_sentences.get)\n",
        "\n",
        "  print(frequency.pprint(25))\n",
        "  print()\n",
        "  frequency.plot(25, title=\"Word count\")\n",
        "\n",
        "  print(\"The 4 most relevant sentences for \\\"%s\\\"\"%(query))\n",
        "  for i in sorted(idx_main_sentences):\n",
        "      print(\"[%s] %s\"%(i, sentences_bag[i]))\n"
      ],
      "execution_count": null,
      "outputs": []
    },
    {
      "cell_type": "markdown",
      "metadata": {
        "id": "RlE1OxOaTe9o",
        "colab_type": "text"
      },
      "source": [
        "# New Section"
      ]
    },
    {
      "cell_type": "code",
      "metadata": {
        "id": "a_dgw1R5Ticj",
        "colab_type": "code",
        "colab": {
          "base_uri": "https://localhost:8080/",
          "height": 201
        },
        "outputId": "24b610c3-4509-4848-e3dd-f787179278de"
      },
      "source": [
        "columns = ['id','date','time','title','subtitle','url','text']\n",
        "news_df = pd.DataFrame(columns=columns)\n",
        "\n",
        "for seq in range(100,2430,100):\n",
        "  filename = \"news_g1_dataset-covid-19-from_2020-02-23_to_2020-08-02_%s\"%(seq)\n",
        "  temp_df = load_csv_from_drive(filename)\n",
        "  news_df = news_df.append(temp_df, ignore_index=True)\n",
        "\n",
        "print(len(news_df))\n",
        "\n",
        "missed_df = load_csv_from_drive(\"news_g1_dataset-covid-19-from_2020-02-23_to_2020-08-02_2430\")\n",
        "news_df = news_df.append(missed_df, ignore_index=True)\n",
        "\n",
        "print(news_df.head())\n",
        "print(len(news_df))\n",
        "\n",
        "save_csv_to_drive(news_df, \"news_g1_covid19_dataset_from_2020-02-23_to_2020-08-02\")"
      ],
      "execution_count": null,
      "outputs": [
        {
          "output_type": "stream",
          "text": [
            "2400\n",
            "                                 id  ...                                               text\n",
            "0  9cd6fd395d763c724d91b3f1481a96bb  ...  Coreia do Sul ativa nível mais elevado de aler...\n",
            "1  73a983b66f19bd972fced57aab0bb717  ...  UE ainda não vê 'motivos para pânico' com surt...\n",
            "2  b14751286e9aca5a66f69ba1e662e2ab  ...  Coronavírus: mineiros que estavam em quarenten...\n",
            "3  e7209410a4ad66bc9421dd047e34ee18  ...  Coronavírus: mineiros que estavam em quarenten...\n",
            "4  cffe372052219eb58938c26df47f0210  ...  Itália suspende tradicional festa de carnaval ...\n",
            "\n",
            "[5 rows x 7 columns]\n",
            "2430\n"
          ],
          "name": "stdout"
        }
      ]
    }
  ]
}